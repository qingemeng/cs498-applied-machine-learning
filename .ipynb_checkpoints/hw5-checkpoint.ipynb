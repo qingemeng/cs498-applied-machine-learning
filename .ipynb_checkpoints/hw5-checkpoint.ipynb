{
 "cells": [
  {
   "cell_type": "code",
   "execution_count": 338,
   "metadata": {},
   "outputs": [],
   "source": [
    "import math\n",
    "from pathlib import Path\n",
    "import matplotlib.pyplot as plt\n",
    "import numpy as np\n",
    "from sklearn.model_selection import KFold\n",
    "from sklearn import cluster\n",
    "import pandas as pd\n",
    "from sklearn.ensemble import RandomForestClassifier"
   ]
  },
  {
   "cell_type": "markdown",
   "metadata": {},
   "source": [
    "## Read data"
   ]
  },
  {
   "cell_type": "code",
   "execution_count": 221,
   "metadata": {},
   "outputs": [
    {
     "name": "stdout",
     "output_type": "stream",
     "text": [
      "(446529, 3)\n",
      "(446529, 1)\n"
     ]
    }
   ],
   "source": [
    "data_dir = 'data/hw5/HMP_Dataset'\n",
    "pathlist = Path(data_dir).glob('*/')\n",
    "activities = {}\n",
    "acc = np.empty((0,3))\n",
    "labels = np.empty((0,1))\n",
    "for index, path in enumerate(pathlist):\n",
    "#     if(index) > 0:\n",
    "#         break;\n",
    "    if(path.name.startswith('.') or not path.is_dir()):\n",
    "        continue\n",
    "    activities[i] = path.name\n",
    "    files = path.glob('*.txt')\n",
    "    for j, file in enumerate(files):\n",
    "        part = np.loadtxt(file)\n",
    "        acc = np.vstack((acc, part))\n",
    "        labels = np.vstack((labels, np.full((part.shape[0],1), path.name)))\n",
    "print(acc.shape)\n",
    "print(labels.shape)\n",
    "# assert labels.shape[0] == 11446\n",
    "assert labels.shape[0] == acc.shape[0]"
   ]
  },
  {
   "cell_type": "code",
   "execution_count": 222,
   "metadata": {},
   "outputs": [
    {
     "data": {
      "text/plain": [
       "array(['12.0', '28.0', '33.0', 'Liedown_bed'], dtype='<U32')"
      ]
     },
     "execution_count": 222,
     "metadata": {},
     "output_type": "execute_result"
    }
   ],
   "source": [
    "data = np.hstack((acc, labels))\n",
    "data[0]"
   ]
  },
  {
   "cell_type": "markdown",
   "metadata": {},
   "source": [
    "## Vector Quantization"
   ]
  },
  {
   "cell_type": "code",
   "execution_count": 60,
   "metadata": {},
   "outputs": [],
   "source": [
    "# transform to fixed size feature vec\n",
    "slice_size = 32\n",
    "overlap = 0\n",
    "def transform_to_samples(data, slice_size):\n",
    "    n_slices = math.floor((data.shape[0])/slice_size)\n",
    "    total_size = n_slices * slice_size\n",
    "    slices = np.vsplit(np.vsplit(data, [total_size])[0], n_slices)\n",
    "    reshaped_slices = map(lambda x: x.reshape(1, slice_size*3).flatten(), np.array(slices))\n",
    "    transformed = np.array(list(reshaped_slices))\n",
    "    assert transformed.shape == (len(slices), len(slices[0])*len(slices[0][1]))\n",
    "    return transformed"
   ]
  },
  {
   "cell_type": "code",
   "execution_count": 61,
   "metadata": {},
   "outputs": [
    {
     "data": {
      "text/plain": [
       "(13954, 96)"
      ]
     },
     "execution_count": 61,
     "metadata": {},
     "output_type": "execute_result"
    }
   ],
   "source": [
    "transformed = transform_to_samples(acc, slice_size=slice_size)\n",
    "transformed.shape"
   ]
  },
  {
   "cell_type": "code",
   "execution_count": 62,
   "metadata": {},
   "outputs": [],
   "source": [
    "n_clusters = 480\n",
    "k_means = cluster.KMeans(n_clusters=n_clusters)\n",
    "k_means.fit(transformed)\n",
    "values = k_means.cluster_centers_.squeeze()\n",
    "#KFold(n_splits=2, random_state=None, shuffle=False)\n"
   ]
  },
  {
   "cell_type": "code",
   "execution_count": 63,
   "metadata": {},
   "outputs": [
    {
     "data": {
      "text/plain": [
       "(480, 96)"
      ]
     },
     "execution_count": 63,
     "metadata": {},
     "output_type": "execute_result"
    }
   ],
   "source": [
    "values.shape"
   ]
  },
  {
   "cell_type": "code",
   "execution_count": 120,
   "metadata": {},
   "outputs": [],
   "source": [
    "def get_histogram(samples, n_K):\n",
    "    labels = k_means.predict(samples)\n",
    "    histogram = np.histogram(labels, bins=range(n_K+1))\n",
    "#     plt.hist(histogram,density=True)\n",
    "    return histogram\n",
    "\n",
    "def get_histograms_and_labels():\n",
    "    pathlist = Path(data_dir).glob('*/')\n",
    "    histograms = []\n",
    "    labels = []\n",
    "\n",
    "    for path in pathlist:\n",
    "        if(path.name.startswith('.') or not path.is_dir()):\n",
    "            continue\n",
    "        label = path.name\n",
    "        files = path.glob('*.txt')\n",
    "        \n",
    "        for file in files:\n",
    "#             if(label != 'Brush_teeth'):\n",
    "#                 break\n",
    "            raw = np.loadtxt(file)\n",
    "            transformed = transform_to_samples(np.array(raw), slice_size=slice_size)\n",
    "            histogram = get_histogram(transformed, n_clusters)\n",
    "            histograms.append(histogram)\n",
    "            labels.append(label)\n",
    "    return np.array(histograms), np.array(labels)\n",
    "        "
   ]
  },
  {
   "cell_type": "code",
   "execution_count": 121,
   "metadata": {},
   "outputs": [],
   "source": [
    "historams, labels = get_histograms_and_labels()"
   ]
  },
  {
   "cell_type": "code",
   "execution_count": 128,
   "metadata": {},
   "outputs": [],
   "source": [
    "historams.shape, labels.shape\n",
    "assert historams[:, 0][0].shape == (n_clusters,)"
   ]
  },
  {
   "cell_type": "code",
   "execution_count": 173,
   "metadata": {},
   "outputs": [
    {
     "data": {
      "text/html": [
       "<div>\n",
       "<style scoped>\n",
       "    .dataframe tbody tr th:only-of-type {\n",
       "        vertical-align: middle;\n",
       "    }\n",
       "\n",
       "    .dataframe tbody tr th {\n",
       "        vertical-align: top;\n",
       "    }\n",
       "\n",
       "    .dataframe thead th {\n",
       "        text-align: right;\n",
       "    }\n",
       "</style>\n",
       "<table border=\"1\" class=\"dataframe\">\n",
       "  <thead>\n",
       "    <tr style=\"text-align: right;\">\n",
       "      <th></th>\n",
       "      <th>histogram</th>\n",
       "      <th>label</th>\n",
       "    </tr>\n",
       "  </thead>\n",
       "  <tbody>\n",
       "    <tr>\n",
       "      <th>0</th>\n",
       "      <td>[0, 0, 0, 0, 0, 1, 0, 0, 0, 0, 0, 0, 0, 0, 0, ...</td>\n",
       "      <td>Liedown_bed</td>\n",
       "    </tr>\n",
       "    <tr>\n",
       "      <th>1</th>\n",
       "      <td>[0, 0, 0, 0, 0, 0, 0, 0, 0, 0, 0, 0, 0, 0, 0, ...</td>\n",
       "      <td>Liedown_bed</td>\n",
       "    </tr>\n",
       "    <tr>\n",
       "      <th>2</th>\n",
       "      <td>[0, 0, 0, 0, 0, 0, 0, 0, 0, 0, 0, 0, 0, 0, 0, ...</td>\n",
       "      <td>Liedown_bed</td>\n",
       "    </tr>\n",
       "    <tr>\n",
       "      <th>3</th>\n",
       "      <td>[1, 0, 0, 0, 0, 0, 1, 0, 0, 0, 0, 0, 0, 0, 0, ...</td>\n",
       "      <td>Liedown_bed</td>\n",
       "    </tr>\n",
       "    <tr>\n",
       "      <th>4</th>\n",
       "      <td>[0, 0, 0, 0, 0, 0, 0, 0, 0, 0, 0, 0, 0, 0, 0, ...</td>\n",
       "      <td>Liedown_bed</td>\n",
       "    </tr>\n",
       "  </tbody>\n",
       "</table>\n",
       "</div>"
      ],
      "text/plain": [
       "                                           histogram        label\n",
       "0  [0, 0, 0, 0, 0, 1, 0, 0, 0, 0, 0, 0, 0, 0, 0, ...  Liedown_bed\n",
       "1  [0, 0, 0, 0, 0, 0, 0, 0, 0, 0, 0, 0, 0, 0, 0, ...  Liedown_bed\n",
       "2  [0, 0, 0, 0, 0, 0, 0, 0, 0, 0, 0, 0, 0, 0, 0, ...  Liedown_bed\n",
       "3  [1, 0, 0, 0, 0, 0, 1, 0, 0, 0, 0, 0, 0, 0, 0, ...  Liedown_bed\n",
       "4  [0, 0, 0, 0, 0, 0, 0, 0, 0, 0, 0, 0, 0, 0, 0, ...  Liedown_bed"
      ]
     },
     "execution_count": 173,
     "metadata": {},
     "output_type": "execute_result"
    }
   ],
   "source": [
    "df = pd.DataFrame(np.hstack((historams[:, 0].reshape(839,1), labels.reshape(839, 1))), columns=['histogram', 'label'])\n",
    "df.head()"
   ]
  },
  {
   "cell_type": "code",
   "execution_count": 266,
   "metadata": {},
   "outputs": [
    {
     "data": {
      "text/plain": [
       "label\n",
       "Brush_teeth       [0.0, 0.16666666666666666, 0.25, 0.0, 0.0, 0.0...\n",
       "Climb_stairs      [0.0, 0.3431372549019608, 0.0, 0.0, 0.0, 0.0, ...\n",
       "Comb_hair         [0.0, 0.5483870967741935, 0.06451612903225806,...\n",
       "Descend_stairs    [0.0, 0.11904761904761904, 0.0, 0.0, 0.0476190...\n",
       "Drink_glass       [0.21, 0.0, 0.0, 0.36, 0.0, 0.0, 0.06, 0.0, 0....\n",
       "Eat_meat          [33.4, 0.0, 0.0, 0.0, 0.0, 0.0, 0.0, 6.4, 0.0,...\n",
       "Eat_soup          [0.6666666666666666, 0.0, 0.0, 0.0, 0.0, 0.0, ...\n",
       "Getup_bed         [0.019801980198019802, 0.594059405940594, 0.0,...\n",
       "Liedown_bed       [0.25, 0.21428571428571427, 0.0, 0.0, 0.0, 0.0...\n",
       "Pour_water        [0.1, 0.0, 0.02, 0.0, 0.0, 0.0, 0.1, 0.01, 0.0...\n",
       "Sitdown_chair     [0.08, 0.44, 0.0, 0.0, 0.0, 0.0, 0.1, 0.0, 0.0...\n",
       "Standup_chair     [0.10784313725490197, 0.5784313725490197, 0.0,...\n",
       "Use_telephone     [0.07692307692307693, 0.0, 0.0, 0.153846153846...\n",
       "Walk              [0.0, 0.91, 0.0, 0.0, 0.0, 0.0, 0.11, 0.0, 0.0...\n",
       "dtype: object"
      ]
     },
     "execution_count": 266,
     "metadata": {},
     "output_type": "execute_result"
    }
   ],
   "source": [
    "def get_mean(group):\n",
    "    histograms = np.array(group.histogram)\n",
    "    new_histograms = np.zeros((histograms.shape[0],histograms[0].shape[0]))\n",
    "    \n",
    "    for i, histogram in enumerate(histograms):\n",
    "        for j, count in enumerate(histogram):\n",
    "            new_histograms[i][j] = count\n",
    "    \n",
    "    return new_histograms.mean(axis=0)\n",
    "h_groups = df.groupby(['label'])\n",
    "mean_histograms = h_groups.apply(get_mean)\n",
    "mean_histograms"
   ]
  },
  {
   "cell_type": "code",
   "execution_count": 268,
   "metadata": {},
   "outputs": [
    {
     "data": {
      "text/plain": [
       "pandas.core.series.Series"
      ]
     },
     "execution_count": 268,
     "metadata": {},
     "output_type": "execute_result"
    }
   ],
   "source": [
    "def get_histograms_by_group(group):\n",
    "    histograms = np.array(group.histogram)\n",
    "    new_histograms = np.zeros((histograms.shape[0],histograms[0].shape[0]))\n",
    "    \n",
    "    for i, histogram in enumerate(histograms):\n",
    "        for j, count in enumerate(histogram):\n",
    "            new_histograms[i][j] = count\n",
    "    \n",
    "    return new_histograms\n",
    "histograms_by_group = h_groups.apply(get_histograms_by_group)\n",
    "# histograms_by_group"
   ]
  },
  {
   "cell_type": "code",
   "execution_count": 257,
   "metadata": {},
   "outputs": [],
   "source": [
    "report_dir = 'reports/hw5'\n",
    "def plot_mean_histogram(mean_histograms_df, n_K):\n",
    "    indexes = mean_histograms_df.index\n",
    "    for i, histogram in enumerate(mean_histograms_df):\n",
    "        fig, ax = plt.subplots()\n",
    "        ax.set_title(f'mean_histograms {indexes[i]}')\n",
    "        plt.bar(range(480), histogram)\n",
    "        plt.savefig(f'{report_dir}/{indexes[i]}.png')"
   ]
  },
  {
   "cell_type": "code",
   "execution_count": 269,
   "metadata": {},
   "outputs": [
    {
     "data": {
      "image/png": "[encoded data removed]",
      "text/plain": [
       "<Figure size 432x288 with 1 Axes>"
      ]
     },
     "metadata": {
      "needs_background": "light"
     },
     "output_type": "display_data"
    },
    {
     "data": {
      "image/png": "[encoded data removed]",
      "text/plain": [
       "<Figure size 432x288 with 1 Axes>"
      ]
     },
     "metadata": {
      "needs_background": "light"
     },
     "output_type": "display_data"
    },
    {
     "data": {
      "image/png": "[encoded data removed]",
      "text/plain": [
       "<Figure size 432x288 with 1 Axes>"
      ]
     },
     "metadata": {
      "needs_background": "light"
     },
     "output_type": "display_data"
    },
    {
     "data": {
      "image/png": "[encoded data removed]",
      "text/plain": [
       "<Figure size 432x288 with 1 Axes>"
      ]
     },
     "metadata": {
      "needs_background": "light"
     },
     "output_type": "display_data"
    },
    {
     "data": {
      "image/png": "[encoded data removed]",
      "text/plain": [
       "<Figure size 432x288 with 1 Axes>"
      ]
     },
     "metadata": {
      "needs_background": "light"
     },
     "output_type": "display_data"
    },
    {
     "data": {
      "image/png": "[encoded data removed]",
      "text/plain": [
       "<Figure size 432x288 with 1 Axes>"
      ]
     },
     "metadata": {
      "needs_background": "light"
     },
     "output_type": "display_data"
    },
    {
     "data": {
      "image/png": "[encoded data removed]",
      "text/plain": [
       "<Figure size 432x288 with 1 Axes>"
      ]
     },
     "metadata": {
      "needs_background": "light"
     },
     "output_type": "display_data"
    },
    {
     "data": {
      "image/png": "[encoded data removed]",
      "text/plain": [
       "<Figure size 432x288 with 1 Axes>"
      ]
     },
     "metadata": {
      "needs_background": "light"
     },
     "output_type": "display_data"
    },
    {
     "data": {
      "image/png": "[encoded data removed]",
      "text/plain": [
       "<Figure size 432x288 with 1 Axes>"
      ]
     },
     "metadata": {
      "needs_background": "light"
     },
     "output_type": "display_data"
    },
    {
     "data": {
      "image/png": "[encoded data removed]",
      "text/plain": [
       "<Figure size 432x288 with 1 Axes>"
      ]
     },
     "metadata": {
      "needs_background": "light"
     },
     "output_type": "display_data"
    },
    {
     "data": {
      "image/png": "[encoded data removed]",
      "text/plain": [
       "<Figure size 432x288 with 1 Axes>"
      ]
     },
     "metadata": {
      "needs_background": "light"
     },
     "output_type": "display_data"
    },
    {
     "data": {
      "image/png": "[encoded data removed]",
      "text/plain": [
       "<Figure size 432x288 with 1 Axes>"
      ]
     },
     "metadata": {
      "needs_background": "light"
     },
     "output_type": "display_data"
    },
    {
     "data": {
      "image/png": "[encoded data removed]",
      "text/plain": [
       "<Figure size 432x288 with 1 Axes>"
      ]
     },
     "metadata": {
      "needs_background": "light"
     },
     "output_type": "display_data"
    },
    {
     "data": {
      "image/png": "[encoded data removed]",
      "text/plain": [
       "<Figure size 432x288 with 1 Axes>"
      ]
     },
     "metadata": {
      "needs_background": "light"
     },
     "output_type": "display_data"
    }
   ],
   "source": [
    "plot_mean_histogram(mean_histograms, n_clusters)"
   ]
  },
  {
   "cell_type": "markdown",
   "metadata": {},
   "source": [
    "# Split data"
   ]
  },
  {
   "cell_type": "code",
   "execution_count": 330,
   "metadata": {},
   "outputs": [],
   "source": [
    "def split_all_histograms(histograms_by_group_df, kf):\n",
    "    sets = dict.fromkeys(range(3))\n",
    "    for key in list(sets.keys()):\n",
    "        sets[key] = [np.empty((0, 480)),np.empty((0, 480)),np.empty((0, 1)), np.empty((0, 1))]\n",
    "\n",
    "    for label, histograms in histograms_by_group_df.items():\n",
    "        X = histograms\n",
    "        Y = np.full((histograms.shape[0],1), label)\n",
    "        split = kf.split(X)\n",
    "        for index, (train_index, test_index) in enumerate(split):\n",
    "            X_each_train, X_each_test = X[train_index], X[test_index]\n",
    "            Y_each_train, Y_each_test = Y[train_index], Y[test_index]\n",
    "\n",
    "            sets[index][0] = np.vstack((sets[index][0], X_each_train))\n",
    "            sets[index][1] = np.vstack((sets[index][1], X_each_test))\n",
    "            sets[index][2] = np.vstack((sets[index][2], Y_each_train))\n",
    "            sets[index][3] = np.vstack((sets[index][3], Y_each_test))\n",
    "        \n",
    "    return sets"
   ]
  },
  {
   "cell_type": "code",
   "execution_count": 331,
   "metadata": {},
   "outputs": [],
   "source": [
    "kf = KFold(n_splits=3, shuffle=True)\n",
    "sets = split_all_histograms(histograms_by_group, kf)"
   ]
  },
  {
   "cell_type": "code",
   "execution_count": 335,
   "metadata": {},
   "outputs": [],
   "source": [
    "[X_train, X_test, Y_train, Y_test] = sets[0]\n",
    "assert X_train.shape[0] + X_test.shape[0] == 839"
   ]
  },
  {
   "cell_type": "code",
   "execution_count": 336,
   "metadata": {},
   "outputs": [
    {
     "name": "stdout",
     "output_type": "stream",
     "text": [
      "(554, 480)\n",
      "(285, 480)\n",
      "(554, 1)\n",
      "(285, 1)\n"
     ]
    }
   ],
   "source": [
    "print(X_train.shape)\n",
    "print(X_test.shape)\n",
    "print(Y_train.shape)\n",
    "print(Y_test.shape)"
   ]
  },
  {
   "cell_type": "markdown",
   "metadata": {},
   "source": [
    "# Train Random Forest"
   ]
  },
  {
   "cell_type": "code",
   "execution_count": 350,
   "metadata": {},
   "outputs": [
    {
     "name": "stdout",
     "output_type": "stream",
     "text": [
      "itr: 0, score: 0.7333333333333333\n",
      "itr: 1, score: 0.7805755395683454\n",
      "itr: 2, score: 0.7318840579710145\n",
      "average score: 0.7485976436242311\n"
     ]
    }
   ],
   "source": [
    "scores = []\n",
    "for i in range(3):\n",
    "    [X_train, X_test, Y_train, Y_test] = sets[i]\n",
    "    clf = RandomForestClassifier(n_estimators=200, max_depth=100, n_jobs=10)\n",
    "    clf.fit(X_train, Y_train.squeeze())\n",
    "    score = clf.score(X_test, Y_test.squeeze())\n",
    "    scores.append(score)\n",
    "    print(f'itr: {i}, score: {score}')\n",
    "mean_accuracy = np.array(scores).mean()\n",
    "print(f'average score: {mean_accuracy}')"
   ]
  },
  {
   "cell_type": "code",
   "execution_count": null,
   "metadata": {},
   "outputs": [],
   "source": []
  }
 ],
 "metadata": {
  "kernelspec": {
   "display_name": "Python 3",
   "language": "python",
   "name": "python3"
  },
  "language_info": {
   "codemirror_mode": {
    "name": "ipython",
    "version": 3
   },
   "file_extension": ".py",
   "mimetype": "text/x-python",
   "name": "python",
   "nbconvert_exporter": "python",
   "pygments_lexer": "ipython3",
   "version": "3.7.2"
  }
 },
 "nbformat": 4,
 "nbformat_minor": 2
}
