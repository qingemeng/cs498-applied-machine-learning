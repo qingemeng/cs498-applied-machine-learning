{
 "cells": [
  {
   "cell_type": "code",
   "execution_count": 1,
   "metadata": {},
   "outputs": [
    {
     "name": "stderr",
     "output_type": "stream",
     "text": [
      "/Users/qingemeng/Documents/dev/cs498aml/env/lib/python3.7/site-packages/tqdm/autonotebook/__init__.py:14: TqdmExperimentalWarning: Using `tqdm.autonotebook.tqdm` in notebook mode. Use `tqdm.tqdm` instead to force console mode (e.g. in jupyter console)\n",
      "  \" (e.g. in jupyter console)\", TqdmExperimentalWarning)\n"
     ]
    }
   ],
   "source": [
    "import pandas as pd\n",
    "import numpy as np\n",
    "from sklearn import preprocessing\n",
    "import matplotlib.pyplot as plt\n",
    "from tqdm.autonotebook import tqdm\n",
    "\n",
    "%matplotlib inline"
   ]
  },
  {
   "cell_type": "markdown",
   "metadata": {},
   "source": [
    "## Load data"
   ]
  },
  {
   "cell_type": "code",
   "execution_count": 2,
   "metadata": {},
   "outputs": [],
   "source": [
    "def make_int(text):\n",
    "    label = text.strip('\" ')\n",
    "    return int(-1 if label == '<=50K' else 1)\n",
    "\n",
    "column_names = ['age', 'fnlwgt', 'education-num', 'capital-gain', 'capital-loss', 'hours-per-week']\n",
    "train_X = pd.read_csv('data/hw2/train.csv', usecols=[0, 2, 4, 10, 11, 12], names=column_names)\n",
    "train_Y = pd.read_csv('data/hw2/train.csv', usecols=[14], names=['label'],converters={'label': make_int})\n",
    "\n",
    "test_X = pd.read_csv('data/hw2/test.csv', usecols=[0, 2, 4, 10, 11, 12], names=column_names)\n",
    "# test_Y = pd.read_csv('data/hw2/test.csv', usecols=[14], names=['label']).replace('>50K', 1).replace('<=50K', -1)"
   ]
  },
  {
   "cell_type": "code",
   "execution_count": 3,
   "metadata": {},
   "outputs": [
    {
     "name": "stdout",
     "output_type": "stream",
     "text": [
      "train data shape: (43957, 6)\n",
      "test data shape: (4885, 6)\n"
     ]
    },
    {
     "data": {
      "text/html": [
       "<div>\n",
       "<style scoped>\n",
       "    .dataframe tbody tr th:only-of-type {\n",
       "        vertical-align: middle;\n",
       "    }\n",
       "\n",
       "    .dataframe tbody tr th {\n",
       "        vertical-align: top;\n",
       "    }\n",
       "\n",
       "    .dataframe thead th {\n",
       "        text-align: right;\n",
       "    }\n",
       "</style>\n",
       "<table border=\"1\" class=\"dataframe\">\n",
       "  <thead>\n",
       "    <tr style=\"text-align: right;\">\n",
       "      <th></th>\n",
       "      <th>age</th>\n",
       "      <th>fnlwgt</th>\n",
       "      <th>education-num</th>\n",
       "      <th>capital-gain</th>\n",
       "      <th>capital-loss</th>\n",
       "      <th>hours-per-week</th>\n",
       "    </tr>\n",
       "  </thead>\n",
       "  <tbody>\n",
       "    <tr>\n",
       "      <th>0</th>\n",
       "      <td>34</td>\n",
       "      <td>287315</td>\n",
       "      <td>9</td>\n",
       "      <td>0</td>\n",
       "      <td>0</td>\n",
       "      <td>40</td>\n",
       "    </tr>\n",
       "    <tr>\n",
       "      <th>1</th>\n",
       "      <td>43</td>\n",
       "      <td>145175</td>\n",
       "      <td>13</td>\n",
       "      <td>0</td>\n",
       "      <td>0</td>\n",
       "      <td>42</td>\n",
       "    </tr>\n",
       "    <tr>\n",
       "      <th>2</th>\n",
       "      <td>45</td>\n",
       "      <td>33798</td>\n",
       "      <td>14</td>\n",
       "      <td>0</td>\n",
       "      <td>0</td>\n",
       "      <td>40</td>\n",
       "    </tr>\n",
       "    <tr>\n",
       "      <th>3</th>\n",
       "      <td>23</td>\n",
       "      <td>180497</td>\n",
       "      <td>13</td>\n",
       "      <td>0</td>\n",
       "      <td>0</td>\n",
       "      <td>32</td>\n",
       "    </tr>\n",
       "    <tr>\n",
       "      <th>4</th>\n",
       "      <td>65</td>\n",
       "      <td>145628</td>\n",
       "      <td>6</td>\n",
       "      <td>0</td>\n",
       "      <td>0</td>\n",
       "      <td>40</td>\n",
       "    </tr>\n",
       "  </tbody>\n",
       "</table>\n",
       "</div>"
      ],
      "text/plain": [
       "   age  fnlwgt  education-num  capital-gain  capital-loss  hours-per-week\n",
       "0   34  287315              9             0             0              40\n",
       "1   43  145175             13             0             0              42\n",
       "2   45   33798             14             0             0              40\n",
       "3   23  180497             13             0             0              32\n",
       "4   65  145628              6             0             0              40"
      ]
     },
     "execution_count": 3,
     "metadata": {},
     "output_type": "execute_result"
    }
   ],
   "source": [
    "print(f'train data shape: {train_X.shape}')\n",
    "print(f'test data shape: {test_X.shape}')\n",
    "train_X.head()"
   ]
  },
  {
   "cell_type": "code",
   "execution_count": 4,
   "metadata": {},
   "outputs": [
    {
     "data": {
      "text/html": [
       "<div>\n",
       "<style scoped>\n",
       "    .dataframe tbody tr th:only-of-type {\n",
       "        vertical-align: middle;\n",
       "    }\n",
       "\n",
       "    .dataframe tbody tr th {\n",
       "        vertical-align: top;\n",
       "    }\n",
       "\n",
       "    .dataframe thead th {\n",
       "        text-align: right;\n",
       "    }\n",
       "</style>\n",
       "<table border=\"1\" class=\"dataframe\">\n",
       "  <thead>\n",
       "    <tr style=\"text-align: right;\">\n",
       "      <th></th>\n",
       "      <th>label</th>\n",
       "    </tr>\n",
       "  </thead>\n",
       "  <tbody>\n",
       "    <tr>\n",
       "      <th>0</th>\n",
       "      <td>-1</td>\n",
       "    </tr>\n",
       "    <tr>\n",
       "      <th>1</th>\n",
       "      <td>1</td>\n",
       "    </tr>\n",
       "    <tr>\n",
       "      <th>2</th>\n",
       "      <td>-1</td>\n",
       "    </tr>\n",
       "    <tr>\n",
       "      <th>3</th>\n",
       "      <td>-1</td>\n",
       "    </tr>\n",
       "    <tr>\n",
       "      <th>4</th>\n",
       "      <td>-1</td>\n",
       "    </tr>\n",
       "  </tbody>\n",
       "</table>\n",
       "</div>"
      ],
      "text/plain": [
       "   label\n",
       "0     -1\n",
       "1      1\n",
       "2     -1\n",
       "3     -1\n",
       "4     -1"
      ]
     },
     "execution_count": 4,
     "metadata": {},
     "output_type": "execute_result"
    }
   ],
   "source": [
    "train_Y.head()"
   ]
  },
  {
   "cell_type": "code",
   "execution_count": 5,
   "metadata": {},
   "outputs": [
    {
     "data": {
      "text/html": [
       "<div>\n",
       "<style scoped>\n",
       "    .dataframe tbody tr th:only-of-type {\n",
       "        vertical-align: middle;\n",
       "    }\n",
       "\n",
       "    .dataframe tbody tr th {\n",
       "        vertical-align: top;\n",
       "    }\n",
       "\n",
       "    .dataframe thead th {\n",
       "        text-align: right;\n",
       "    }\n",
       "</style>\n",
       "<table border=\"1\" class=\"dataframe\">\n",
       "  <thead>\n",
       "    <tr style=\"text-align: right;\">\n",
       "      <th></th>\n",
       "      <th>age</th>\n",
       "      <th>fnlwgt</th>\n",
       "      <th>education-num</th>\n",
       "      <th>capital-gain</th>\n",
       "      <th>capital-loss</th>\n",
       "      <th>hours-per-week</th>\n",
       "    </tr>\n",
       "  </thead>\n",
       "  <tbody>\n",
       "    <tr>\n",
       "      <th>0</th>\n",
       "      <td>36</td>\n",
       "      <td>126569</td>\n",
       "      <td>10</td>\n",
       "      <td>0</td>\n",
       "      <td>0</td>\n",
       "      <td>40</td>\n",
       "    </tr>\n",
       "    <tr>\n",
       "      <th>1</th>\n",
       "      <td>26</td>\n",
       "      <td>68346</td>\n",
       "      <td>14</td>\n",
       "      <td>0</td>\n",
       "      <td>0</td>\n",
       "      <td>10</td>\n",
       "    </tr>\n",
       "    <tr>\n",
       "      <th>2</th>\n",
       "      <td>58</td>\n",
       "      <td>225394</td>\n",
       "      <td>9</td>\n",
       "      <td>0</td>\n",
       "      <td>1902</td>\n",
       "      <td>40</td>\n",
       "    </tr>\n",
       "    <tr>\n",
       "      <th>3</th>\n",
       "      <td>60</td>\n",
       "      <td>78913</td>\n",
       "      <td>10</td>\n",
       "      <td>0</td>\n",
       "      <td>0</td>\n",
       "      <td>50</td>\n",
       "    </tr>\n",
       "    <tr>\n",
       "      <th>4</th>\n",
       "      <td>20</td>\n",
       "      <td>218215</td>\n",
       "      <td>10</td>\n",
       "      <td>0</td>\n",
       "      <td>0</td>\n",
       "      <td>30</td>\n",
       "    </tr>\n",
       "  </tbody>\n",
       "</table>\n",
       "</div>"
      ],
      "text/plain": [
       "   age  fnlwgt  education-num  capital-gain  capital-loss  hours-per-week\n",
       "0   36  126569             10             0             0              40\n",
       "1   26   68346             14             0             0              10\n",
       "2   58  225394              9             0          1902              40\n",
       "3   60   78913             10             0             0              50\n",
       "4   20  218215             10             0             0              30"
      ]
     },
     "execution_count": 5,
     "metadata": {},
     "output_type": "execute_result"
    }
   ],
   "source": [
    "test_X.head()"
   ]
  },
  {
   "cell_type": "markdown",
   "metadata": {},
   "source": [
    "## Process data"
   ]
  },
  {
   "cell_type": "markdown",
   "metadata": {},
   "source": [
    "#### Scale data"
   ]
  },
  {
   "cell_type": "code",
   "execution_count": 6,
   "metadata": {},
   "outputs": [
    {
     "name": "stderr",
     "output_type": "stream",
     "text": [
      "/Users/qingemeng/Documents/dev/cs498aml/env/lib/python3.7/site-packages/ipykernel_launcher.py:1: DataConversionWarning: Data with input dtype int64 were all converted to float64 by the scale function.\n",
      "  \"\"\"Entry point for launching an IPython kernel.\n",
      "/Users/qingemeng/Documents/dev/cs498aml/env/lib/python3.7/site-packages/ipykernel_launcher.py:2: DataConversionWarning: Data with input dtype int64 were all converted to float64 by the scale function.\n",
      "  \n"
     ]
    }
   ],
   "source": [
    "scaled_train_X = pd.DataFrame(preprocessing.scale(train_X), columns=column_names)\n",
    "scaled_test_X = pd.DataFrame(preprocessing.scale(test_X), columns=column_names)"
   ]
  },
  {
   "cell_type": "code",
   "execution_count": 7,
   "metadata": {},
   "outputs": [
    {
     "data": {
      "text/html": [
       "<div>\n",
       "<style scoped>\n",
       "    .dataframe tbody tr th:only-of-type {\n",
       "        vertical-align: middle;\n",
       "    }\n",
       "\n",
       "    .dataframe tbody tr th {\n",
       "        vertical-align: top;\n",
       "    }\n",
       "\n",
       "    .dataframe thead th {\n",
       "        text-align: right;\n",
       "    }\n",
       "</style>\n",
       "<table border=\"1\" class=\"dataframe\">\n",
       "  <thead>\n",
       "    <tr style=\"text-align: right;\">\n",
       "      <th></th>\n",
       "      <th>age</th>\n",
       "      <th>fnlwgt</th>\n",
       "      <th>education-num</th>\n",
       "      <th>capital-gain</th>\n",
       "      <th>capital-loss</th>\n",
       "      <th>hours-per-week</th>\n",
       "    </tr>\n",
       "  </thead>\n",
       "  <tbody>\n",
       "    <tr>\n",
       "      <th>0</th>\n",
       "      <td>-0.198185</td>\n",
       "      <td>-0.608772</td>\n",
       "      <td>-0.028374</td>\n",
       "      <td>-0.152805</td>\n",
       "      <td>-0.223378</td>\n",
       "      <td>-0.038573</td>\n",
       "    </tr>\n",
       "    <tr>\n",
       "      <th>1</th>\n",
       "      <td>-0.926873</td>\n",
       "      <td>-1.177546</td>\n",
       "      <td>1.503180</td>\n",
       "      <td>-0.152805</td>\n",
       "      <td>-0.223378</td>\n",
       "      <td>-2.353443</td>\n",
       "    </tr>\n",
       "    <tr>\n",
       "      <th>2</th>\n",
       "      <td>1.404928</td>\n",
       "      <td>0.356638</td>\n",
       "      <td>-0.411262</td>\n",
       "      <td>-0.152805</td>\n",
       "      <td>4.230006</td>\n",
       "      <td>-0.038573</td>\n",
       "    </tr>\n",
       "    <tr>\n",
       "      <th>3</th>\n",
       "      <td>1.550665</td>\n",
       "      <td>-1.074318</td>\n",
       "      <td>-0.028374</td>\n",
       "      <td>-0.152805</td>\n",
       "      <td>-0.223378</td>\n",
       "      <td>0.733050</td>\n",
       "    </tr>\n",
       "    <tr>\n",
       "      <th>4</th>\n",
       "      <td>-1.364085</td>\n",
       "      <td>0.286507</td>\n",
       "      <td>-0.028374</td>\n",
       "      <td>-0.152805</td>\n",
       "      <td>-0.223378</td>\n",
       "      <td>-0.810197</td>\n",
       "    </tr>\n",
       "  </tbody>\n",
       "</table>\n",
       "</div>"
      ],
      "text/plain": [
       "        age    fnlwgt  education-num  capital-gain  capital-loss  \\\n",
       "0 -0.198185 -0.608772      -0.028374     -0.152805     -0.223378   \n",
       "1 -0.926873 -1.177546       1.503180     -0.152805     -0.223378   \n",
       "2  1.404928  0.356638      -0.411262     -0.152805      4.230006   \n",
       "3  1.550665 -1.074318      -0.028374     -0.152805     -0.223378   \n",
       "4 -1.364085  0.286507      -0.028374     -0.152805     -0.223378   \n",
       "\n",
       "   hours-per-week  \n",
       "0       -0.038573  \n",
       "1       -2.353443  \n",
       "2       -0.038573  \n",
       "3        0.733050  \n",
       "4       -0.810197  "
      ]
     },
     "execution_count": 7,
     "metadata": {},
     "output_type": "execute_result"
    }
   ],
   "source": [
    "scaled_test_X.head()"
   ]
  },
  {
   "cell_type": "markdown",
   "metadata": {},
   "source": [
    "#### Split data"
   ]
  },
  {
   "cell_type": "code",
   "execution_count": 8,
   "metadata": {},
   "outputs": [],
   "source": [
    "def split_data(df, ratio):\n",
    "    set1 = df.sample(frac=ratio)\n",
    "    set2 = df.sample(frac=(1 - ratio))\n",
    "    return set1, set2"
   ]
  },
  {
   "cell_type": "code",
   "execution_count": 9,
   "metadata": {},
   "outputs": [],
   "source": [
    "regularization_train, regularization_validation = split_data(scaled_train_X.join(train_Y), 0.9)"
   ]
  },
  {
   "cell_type": "code",
   "execution_count": 10,
   "metadata": {},
   "outputs": [
    {
     "data": {
      "text/html": [
       "<div>\n",
       "<style scoped>\n",
       "    .dataframe tbody tr th:only-of-type {\n",
       "        vertical-align: middle;\n",
       "    }\n",
       "\n",
       "    .dataframe tbody tr th {\n",
       "        vertical-align: top;\n",
       "    }\n",
       "\n",
       "    .dataframe thead th {\n",
       "        text-align: right;\n",
       "    }\n",
       "</style>\n",
       "<table border=\"1\" class=\"dataframe\">\n",
       "  <thead>\n",
       "    <tr style=\"text-align: right;\">\n",
       "      <th></th>\n",
       "      <th>age</th>\n",
       "      <th>fnlwgt</th>\n",
       "      <th>education-num</th>\n",
       "      <th>capital-gain</th>\n",
       "      <th>capital-loss</th>\n",
       "      <th>hours-per-week</th>\n",
       "      <th>label</th>\n",
       "    </tr>\n",
       "  </thead>\n",
       "  <tbody>\n",
       "    <tr>\n",
       "      <th>4315</th>\n",
       "      <td>0.756069</td>\n",
       "      <td>-0.503911</td>\n",
       "      <td>1.528019</td>\n",
       "      <td>-0.144172</td>\n",
       "      <td>-0.21644</td>\n",
       "      <td>-1.656087</td>\n",
       "      <td>-1</td>\n",
       "    </tr>\n",
       "    <tr>\n",
       "      <th>42230</th>\n",
       "      <td>-1.140508</td>\n",
       "      <td>-0.165338</td>\n",
       "      <td>-0.420255</td>\n",
       "      <td>-0.144172</td>\n",
       "      <td>-0.21644</td>\n",
       "      <td>0.777693</td>\n",
       "      <td>-1</td>\n",
       "    </tr>\n",
       "    <tr>\n",
       "      <th>16006</th>\n",
       "      <td>1.339631</td>\n",
       "      <td>-0.210403</td>\n",
       "      <td>-2.368529</td>\n",
       "      <td>-0.144172</td>\n",
       "      <td>-0.21644</td>\n",
       "      <td>-0.033567</td>\n",
       "      <td>-1</td>\n",
       "    </tr>\n",
       "    <tr>\n",
       "      <th>2107</th>\n",
       "      <td>0.099562</td>\n",
       "      <td>-0.493879</td>\n",
       "      <td>1.528019</td>\n",
       "      <td>-0.144172</td>\n",
       "      <td>-0.21644</td>\n",
       "      <td>-0.439197</td>\n",
       "      <td>1</td>\n",
       "    </tr>\n",
       "    <tr>\n",
       "      <th>28145</th>\n",
       "      <td>-0.702837</td>\n",
       "      <td>-1.510233</td>\n",
       "      <td>1.138364</td>\n",
       "      <td>-0.144172</td>\n",
       "      <td>-0.21644</td>\n",
       "      <td>-1.331583</td>\n",
       "      <td>-1</td>\n",
       "    </tr>\n",
       "  </tbody>\n",
       "</table>\n",
       "</div>"
      ],
      "text/plain": [
       "            age    fnlwgt  education-num  capital-gain  capital-loss  \\\n",
       "4315   0.756069 -0.503911       1.528019     -0.144172      -0.21644   \n",
       "42230 -1.140508 -0.165338      -0.420255     -0.144172      -0.21644   \n",
       "16006  1.339631 -0.210403      -2.368529     -0.144172      -0.21644   \n",
       "2107   0.099562 -0.493879       1.528019     -0.144172      -0.21644   \n",
       "28145 -0.702837 -1.510233       1.138364     -0.144172      -0.21644   \n",
       "\n",
       "       hours-per-week  label  \n",
       "4315        -1.656087     -1  \n",
       "42230        0.777693     -1  \n",
       "16006       -0.033567     -1  \n",
       "2107        -0.439197      1  \n",
       "28145       -1.331583     -1  "
      ]
     },
     "execution_count": 10,
     "metadata": {},
     "output_type": "execute_result"
    }
   ],
   "source": [
    "assert regularization_train.shape[0] + regularization_validation.shape[0] == train_X.shape[0]\n",
    "regularization_train.head()"
   ]
  },
  {
   "cell_type": "code",
   "execution_count": 11,
   "metadata": {},
   "outputs": [],
   "source": [
    "reg_validate_X = regularization_validation.drop(['label'], axis=1)\n",
    "reg_validate_Y = regularization_validation['label']"
   ]
  },
  {
   "cell_type": "markdown",
   "metadata": {},
   "source": [
    "## Stochastic Gradient Descent"
   ]
  },
  {
   "cell_type": "code",
   "execution_count": 12,
   "metadata": {},
   "outputs": [],
   "source": [
    "def predict(feature_vec, a, b):\n",
    "    return np.sign(np.dot(feature_vec, a.T) + b)\n",
    "    \n",
    "def calculate_accuracy(actual, predicts):\n",
    "    TP = 0\n",
    "    num_total = len(actual)\n",
    "    for i in range(num_total):\n",
    "        if actual[i] == predicts[i]:\n",
    "            TP = TP + 1\n",
    "    return TP/num_total\n",
    "\n",
    "def evaluate(test_set, a, b):\n",
    "    test_X = test_set.drop(['label'], axis=1)\n",
    "    test_Y = test_set['label']\n",
    "    predicts = test_X.apply(predict, args=(a, b, ), axis=1)\n",
    "    return calculate_accuracy(np.array(test_Y), np.array(predicts))"
   ]
  },
  {
   "cell_type": "code",
   "execution_count": 13,
   "metadata": {},
   "outputs": [],
   "source": [
    "# blah1 = np.array([1,2])\n",
    "# blah2 = np.array([3,4])\n",
    "# np.dot(blah2.T, blah1)"
   ]
  },
  {
   "cell_type": "code",
   "execution_count": 14,
   "metadata": {},
   "outputs": [],
   "source": [
    "def gradient_of_cost(feature_vec, label, a, b, lam=0):\n",
    "    if label * (np.dot(feature_vec, a.T) + b) < 1:\n",
    "        gradient_a = lam * a - (feature_vec * label)\n",
    "        gradient_b = 0 - label\n",
    "    else:\n",
    "        gradient_a = lam * a\n",
    "        gradient_b = 0\n",
    "  \n",
    "    return [gradient_a, gradient_b]"
   ]
  },
  {
   "cell_type": "code",
   "execution_count": 15,
   "metadata": {},
   "outputs": [],
   "source": [
    "def step(feature_vec, label,a, b, lam, learning_rate):\n",
    "#   c = cost_function(x_batch,y_batch,a=a_est,b=b_est)\n",
    "    g = gradient_of_cost(feature_vec, label,a=a,b=b,lam=lam)\n",
    "    a_new = a - learning_rate * g[0]\n",
    "    b_new = b - learning_rate * g[1]\n",
    "    return a_new, b_new"
   ]
  },
  {
   "cell_type": "code",
   "execution_count": 16,
   "metadata": {},
   "outputs": [],
   "source": [
    "def stochastic_gradient_descent(X, Y, initial_a, initial_b, steps, held_out_set, learning_rate, lam):\n",
    "    a = initial_a\n",
    "    b = initial_b\n",
    "    plots = np.array([])\n",
    "    for i in range(steps):\n",
    "        n = np.random.randint(0, len(X)) # Batch size of 1.\n",
    "        a, b = step(X.iloc[n], Y.iloc[n], a, b, lam, learning_rate)\n",
    "        if((i+1)%30 == 0):\n",
    "            accuracy = evaluate(held_out_set, a, b)\n",
    "            magnitude = np.linalg.norm(a)\n",
    "            plots = np.concatenate((plots, {'acc': accuracy, 'mag': magnitude}), axis=None)\n",
    "#             print(f'accuracy after {i+1} steps: {accuracy}')\n",
    "\n",
    "#     print(f\"Final a = {a}\\n\")\n",
    "#     print(f\"Final b = {b}\\n\")\n",
    "    return a, b, plots"
   ]
  },
  {
   "cell_type": "code",
   "execution_count": 17,
   "metadata": {},
   "outputs": [],
   "source": [
    "def seperate_held_out(X, size):\n",
    "    random_indices = np.random.randint(0, len(X), size=size)\n",
    "    return X.drop(X.index[random_indices]), X.iloc[random_indices]"
   ]
  },
  {
   "cell_type": "code",
   "execution_count": 18,
   "metadata": {},
   "outputs": [],
   "source": [
    "def svg_fit(train_data, learning_rate, lam, epoch=50, initial_a=np.random.rand(1,6).flatten() - 1, initial_b=0, set_held_out_size=50, steps=300):\n",
    "    X, held_out_set = seperate_held_out(train_data, set_held_out_size)\n",
    "    if(X.shape[0] + held_out_set.shape[0] != train_data.shape[0]):\n",
    "        print(f'total: {train_data.shape}, X.shape: {X.shape}, held out shape: {held_out_set.shape}')\n",
    "\n",
    "    train_X = X.drop(['label'], axis=1)\n",
    "    train_Y = X['label']\n",
    "    a, b = initial_a, initial_b\n",
    "    plots_each_lambda = np.array([])\n",
    "    for i in tqdm(range(epoch)):\n",
    "        a, b, plots_each_epoch = stochastic_gradient_descent(train_X, train_Y, a, b, steps, held_out_set, learning_rate=learning_rate, lam=lam)\n",
    "        plots_each_lambda = np.concatenate((plots_each_lambda, plots_each_epoch), axis=None)\n",
    "    return a, b, plots_each_lambda"
   ]
  },
  {
   "cell_type": "code",
   "execution_count": 19,
   "metadata": {},
   "outputs": [
    {
     "data": {
      "application/vnd.jupyter.widget-view+json": {
       "model_id": "877eab55bdb746cc9b5d7ec2531672b5",
       "version_major": 2,
       "version_minor": 0
      },
      "text/plain": [
       "HBox(children=(IntProgress(value=0, max=50), HTML(value='')))"
      ]
     },
     "metadata": {},
     "output_type": "display_data"
    },
    {
     "name": "stdout",
     "output_type": "stream",
     "text": [
      "\n",
      "[ 0.11041466 -0.02695254  0.11604041  1.99856496  0.05601505 -0.01438663] -0.7722772277227725\n",
      "lamda: 1e-08, Accuracy: 0.7995905368516834\n"
     ]
    },
    {
     "data": {
      "application/vnd.jupyter.widget-view+json": {
       "model_id": "65dc8c7be799422fbfc46c8a8c269dcf",
       "version_major": 2,
       "version_minor": 0
      },
      "text/plain": [
       "HBox(children=(IntProgress(value=0, max=50), HTML(value='')))"
      ]
     },
     "metadata": {},
     "output_type": "display_data"
    },
    {
     "name": "stdout",
     "output_type": "stream",
     "text": [
      "\n",
      "[ 0.19155253 -0.02791216  0.14992428  1.97066212  0.11276669  0.10298871] -0.8712871287128716\n",
      "lamda: 1e-07, Accuracy: 0.8034576888080073\n"
     ]
    },
    {
     "data": {
      "application/vnd.jupyter.widget-view+json": {
       "model_id": "faf8aa11617440f88b0d888818df479e",
       "version_major": 2,
       "version_minor": 0
      },
      "text/plain": [
       "HBox(children=(IntProgress(value=0, max=50), HTML(value='')))"
      ]
     },
     "metadata": {},
     "output_type": "display_data"
    },
    {
     "name": "stdout",
     "output_type": "stream",
     "text": [
      "\n",
      "[ 0.04502766  0.03391984  0.12580884  1.81587653 -0.03555314 -0.04703164] -0.8712871287128716\n",
      "lamda: 1e-05, Accuracy: 0.8034576888080073\n"
     ]
    },
    {
     "data": {
      "application/vnd.jupyter.widget-view+json": {
       "model_id": "b2009e45a0af459588bb4ee416b6bae8",
       "version_major": 2,
       "version_minor": 0
      },
      "text/plain": [
       "HBox(children=(IntProgress(value=0, max=50), HTML(value='')))"
      ]
     },
     "metadata": {},
     "output_type": "display_data"
    },
    {
     "name": "stdout",
     "output_type": "stream",
     "text": [
      "\n",
      "[ 0.1875996  -0.02159943  0.26139712  1.37715461  0.5139463   0.3450899 ] -0.8712871287128716\n",
      "lamda: 0.001, Accuracy: 0.8066424021838035\n"
     ]
    },
    {
     "data": {
      "application/vnd.jupyter.widget-view+json": {
       "model_id": "df976afec96f4410b440f81f2dc73e57",
       "version_major": 2,
       "version_minor": 0
      },
      "text/plain": [
       "HBox(children=(IntProgress(value=0, max=50), HTML(value='')))"
      ]
     },
     "metadata": {},
     "output_type": "display_data"
    },
    {
     "name": "stdout",
     "output_type": "stream",
     "text": [
      "\n",
      "[0.29790158 0.1136051  0.42836773 1.30510815 0.07808276 0.19044583] -0.8910891089108914\n",
      "lamda: 0.01, Accuracy: 0.8121019108280255\n"
     ]
    },
    {
     "data": {
      "application/vnd.jupyter.widget-view+json": {
       "model_id": "c6d951bff4a742b48c0da46afc213da2",
       "version_major": 2,
       "version_minor": 0
      },
      "text/plain": [
       "HBox(children=(IntProgress(value=0, max=50), HTML(value='')))"
      ]
     },
     "metadata": {},
     "output_type": "display_data"
    },
    {
     "name": "stdout",
     "output_type": "stream",
     "text": [
      "\n",
      "[ 0.07245183 -0.04314336  0.1008032   0.50970218  0.05847047  0.18058766] -0.9108910891089113\n",
      "lamda: 0.1, Accuracy: 0.7873066424021838\n"
     ]
    },
    {
     "data": {
      "application/vnd.jupyter.widget-view+json": {
       "model_id": "12133c558b4a44ec9c534e43b930e3f0",
       "version_major": 2,
       "version_minor": 0
      },
      "text/plain": [
       "HBox(children=(IntProgress(value=0, max=50), HTML(value='')))"
      ]
     },
     "metadata": {},
     "output_type": "display_data"
    },
    {
     "name": "stdout",
     "output_type": "stream",
     "text": [
      "\n",
      "[ 0.01900355  0.0274725  -0.00916755  0.077215   -0.00822128  0.00751247] -1.0297029702970302\n",
      "lamda: 1, Accuracy: 0.7672884440400364\n"
     ]
    }
   ],
   "source": [
    "# lambdas = [1e-8, 1e-7, 1e-5, 1e-3, 1e-2, 1e-1, 1]\n",
    "lambdas = [1e-7, 1e-5]\n",
    "epoch = 50\n",
    "plots = []\n",
    "for lam in lambdas:\n",
    "    learning_rate = 1/(0.01* epoch + 50)\n",
    "    a, b, plots_each_lambda = svg_fit(regularization_train, epoch=epoch, learning_rate=learning_rate, lam=lam)\n",
    "    plots.append(plots_each_lambda)\n",
    "    print(np.array(a), b)\n",
    "    accuracy = evaluate(regularization_validation, a, b)\n",
    "    print(f'lamda: {lam}, Accuracy: {accuracy}')\n",
    "# print(accuracies.shape)"
   ]
  },
  {
   "cell_type": "code",
   "execution_count": 20,
   "metadata": {},
   "outputs": [
    {
     "data": {
      "text/plain": [
       "7"
      ]
     },
     "execution_count": 20,
     "metadata": {},
     "output_type": "execute_result"
    }
   ],
   "source": [
    "len(plots)"
   ]
  },
  {
   "cell_type": "code",
   "execution_count": 21,
   "metadata": {},
   "outputs": [
    {
     "data": {
      "image/png": "[encoded data removed]",
      "text/plain": [
       "<Figure size 432x288 with 1 Axes>"
      ]
     },
     "metadata": {
      "needs_background": "light"
     },
     "output_type": "display_data"
    }
   ],
   "source": [
    "for plot_x in plots:\n",
    "    accs = []\n",
    "    for pairs in plot_x:\n",
    "        accs.append(pairs['acc'])\n",
    "    \n",
    "    plt.plot(range(epoch*300//30), accs)\n",
    "plt.gca().set_ylim(0, 1)\n",
    "plt.legend(lambdas)\n",
    "plt.show()"
   ]
  },
  {
   "cell_type": "code",
   "execution_count": 22,
   "metadata": {},
   "outputs": [
    {
     "data": {
      "image/png": "[encoded data removed]",
      "text/plain": [
       "<Figure size 432x288 with 1 Axes>"
      ]
     },
     "metadata": {
      "needs_background": "light"
     },
     "output_type": "display_data"
    }
   ],
   "source": [
    "for plot_x in plots:\n",
    "    mags = []\n",
    "    for pairs in plot_x:\n",
    "        mags.append(pairs['mag'])\n",
    "    \n",
    "    plt.plot(range(epoch*300//30), mags)\n",
    "plt.legend(lambdas)\n",
    "plt.show()\n"
   ]
  },
  {
   "cell_type": "code",
   "execution_count": null,
   "metadata": {},
   "outputs": [],
   "source": []
  }
 ],
 "metadata": {
  "kernelspec": {
   "display_name": "Python 3",
   "language": "python",
   "name": "python3"
  },
  "language_info": {
   "codemirror_mode": {
    "name": "ipython",
    "version": 3
   },
   "file_extension": ".py",
   "mimetype": "text/x-python",
   "name": "python",
   "nbconvert_exporter": "python",
   "pygments_lexer": "ipython3",
   "version": "3.7.2"
  }
 },
 "nbformat": 4,
 "nbformat_minor": 2
}
