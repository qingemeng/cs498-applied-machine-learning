{
 "cells": [
  {
   "cell_type": "code",
   "execution_count": 1,
   "metadata": {},
   "outputs": [],
   "source": [
    "import pandas as pd\n",
    "import numpy as np\n",
    "from sklearn import preprocessing\n",
    "import matplotlib.pyplot as plt"
   ]
  },
  {
   "cell_type": "markdown",
   "metadata": {},
   "source": [
    "## Load data"
   ]
  },
  {
   "cell_type": "code",
   "execution_count": 2,
   "metadata": {},
   "outputs": [],
   "source": [
    "def make_int(text):\n",
    "    label = text.strip('\" ')\n",
    "    return int(-1 if label == '<=50K' else 1)\n",
    "\n",
    "column_names = ['age', 'fnlwgt', 'education-num', 'capital-gain', 'capital-loss', 'hours-per-week']\n",
    "train_X = pd.read_csv('data/hw2/train.csv', usecols=[0, 2, 4, 10, 11, 12], names=column_names)\n",
    "train_Y = pd.read_csv('data/hw2/train.csv', usecols=[14], names=['label'],converters={'label': make_int})\n",
    "\n",
    "test_X = pd.read_csv('data/hw2/test.csv', usecols=[0, 2, 4, 10, 11, 12], names=column_names)\n",
    "# test_Y = pd.read_csv('data/hw2/test.csv', usecols=[14], names=['label']).replace('>50K', 1).replace('<=50K', -1)"
   ]
  },
  {
   "cell_type": "code",
   "execution_count": 3,
   "metadata": {},
   "outputs": [
    {
     "name": "stdout",
     "output_type": "stream",
     "text": [
      "train data shape: (43957, 6)\n",
      "test data shape: (4885, 6)\n"
     ]
    },
    {
     "data": {
      "text/html": [
       "<div>\n",
       "<style scoped>\n",
       "    .dataframe tbody tr th:only-of-type {\n",
       "        vertical-align: middle;\n",
       "    }\n",
       "\n",
       "    .dataframe tbody tr th {\n",
       "        vertical-align: top;\n",
       "    }\n",
       "\n",
       "    .dataframe thead th {\n",
       "        text-align: right;\n",
       "    }\n",
       "</style>\n",
       "<table border=\"1\" class=\"dataframe\">\n",
       "  <thead>\n",
       "    <tr style=\"text-align: right;\">\n",
       "      <th></th>\n",
       "      <th>age</th>\n",
       "      <th>fnlwgt</th>\n",
       "      <th>education-num</th>\n",
       "      <th>capital-gain</th>\n",
       "      <th>capital-loss</th>\n",
       "      <th>hours-per-week</th>\n",
       "    </tr>\n",
       "  </thead>\n",
       "  <tbody>\n",
       "    <tr>\n",
       "      <th>0</th>\n",
       "      <td>34</td>\n",
       "      <td>287315</td>\n",
       "      <td>9</td>\n",
       "      <td>0</td>\n",
       "      <td>0</td>\n",
       "      <td>40</td>\n",
       "    </tr>\n",
       "    <tr>\n",
       "      <th>1</th>\n",
       "      <td>43</td>\n",
       "      <td>145175</td>\n",
       "      <td>13</td>\n",
       "      <td>0</td>\n",
       "      <td>0</td>\n",
       "      <td>42</td>\n",
       "    </tr>\n",
       "    <tr>\n",
       "      <th>2</th>\n",
       "      <td>45</td>\n",
       "      <td>33798</td>\n",
       "      <td>14</td>\n",
       "      <td>0</td>\n",
       "      <td>0</td>\n",
       "      <td>40</td>\n",
       "    </tr>\n",
       "    <tr>\n",
       "      <th>3</th>\n",
       "      <td>23</td>\n",
       "      <td>180497</td>\n",
       "      <td>13</td>\n",
       "      <td>0</td>\n",
       "      <td>0</td>\n",
       "      <td>32</td>\n",
       "    </tr>\n",
       "    <tr>\n",
       "      <th>4</th>\n",
       "      <td>65</td>\n",
       "      <td>145628</td>\n",
       "      <td>6</td>\n",
       "      <td>0</td>\n",
       "      <td>0</td>\n",
       "      <td>40</td>\n",
       "    </tr>\n",
       "  </tbody>\n",
       "</table>\n",
       "</div>"
      ],
      "text/plain": [
       "   age  fnlwgt  education-num  capital-gain  capital-loss  hours-per-week\n",
       "0   34  287315              9             0             0              40\n",
       "1   43  145175             13             0             0              42\n",
       "2   45   33798             14             0             0              40\n",
       "3   23  180497             13             0             0              32\n",
       "4   65  145628              6             0             0              40"
      ]
     },
     "execution_count": 3,
     "metadata": {},
     "output_type": "execute_result"
    }
   ],
   "source": [
    "print(f'train data shape: {train_X.shape}')\n",
    "print(f'test data shape: {test_X.shape}')\n",
    "train_X.head()"
   ]
  },
  {
   "cell_type": "code",
   "execution_count": 4,
   "metadata": {},
   "outputs": [
    {
     "data": {
      "text/html": [
       "<div>\n",
       "<style scoped>\n",
       "    .dataframe tbody tr th:only-of-type {\n",
       "        vertical-align: middle;\n",
       "    }\n",
       "\n",
       "    .dataframe tbody tr th {\n",
       "        vertical-align: top;\n",
       "    }\n",
       "\n",
       "    .dataframe thead th {\n",
       "        text-align: right;\n",
       "    }\n",
       "</style>\n",
       "<table border=\"1\" class=\"dataframe\">\n",
       "  <thead>\n",
       "    <tr style=\"text-align: right;\">\n",
       "      <th></th>\n",
       "      <th>label</th>\n",
       "    </tr>\n",
       "  </thead>\n",
       "  <tbody>\n",
       "    <tr>\n",
       "      <th>0</th>\n",
       "      <td>-1</td>\n",
       "    </tr>\n",
       "    <tr>\n",
       "      <th>1</th>\n",
       "      <td>1</td>\n",
       "    </tr>\n",
       "    <tr>\n",
       "      <th>2</th>\n",
       "      <td>-1</td>\n",
       "    </tr>\n",
       "    <tr>\n",
       "      <th>3</th>\n",
       "      <td>-1</td>\n",
       "    </tr>\n",
       "    <tr>\n",
       "      <th>4</th>\n",
       "      <td>-1</td>\n",
       "    </tr>\n",
       "  </tbody>\n",
       "</table>\n",
       "</div>"
      ],
      "text/plain": [
       "   label\n",
       "0     -1\n",
       "1      1\n",
       "2     -1\n",
       "3     -1\n",
       "4     -1"
      ]
     },
     "execution_count": 4,
     "metadata": {},
     "output_type": "execute_result"
    }
   ],
   "source": [
    "train_Y.head()"
   ]
  },
  {
   "cell_type": "code",
   "execution_count": 5,
   "metadata": {},
   "outputs": [
    {
     "data": {
      "text/html": [
       "<div>\n",
       "<style scoped>\n",
       "    .dataframe tbody tr th:only-of-type {\n",
       "        vertical-align: middle;\n",
       "    }\n",
       "\n",
       "    .dataframe tbody tr th {\n",
       "        vertical-align: top;\n",
       "    }\n",
       "\n",
       "    .dataframe thead th {\n",
       "        text-align: right;\n",
       "    }\n",
       "</style>\n",
       "<table border=\"1\" class=\"dataframe\">\n",
       "  <thead>\n",
       "    <tr style=\"text-align: right;\">\n",
       "      <th></th>\n",
       "      <th>age</th>\n",
       "      <th>fnlwgt</th>\n",
       "      <th>education-num</th>\n",
       "      <th>capital-gain</th>\n",
       "      <th>capital-loss</th>\n",
       "      <th>hours-per-week</th>\n",
       "    </tr>\n",
       "  </thead>\n",
       "  <tbody>\n",
       "    <tr>\n",
       "      <th>0</th>\n",
       "      <td>36</td>\n",
       "      <td>126569</td>\n",
       "      <td>10</td>\n",
       "      <td>0</td>\n",
       "      <td>0</td>\n",
       "      <td>40</td>\n",
       "    </tr>\n",
       "    <tr>\n",
       "      <th>1</th>\n",
       "      <td>26</td>\n",
       "      <td>68346</td>\n",
       "      <td>14</td>\n",
       "      <td>0</td>\n",
       "      <td>0</td>\n",
       "      <td>10</td>\n",
       "    </tr>\n",
       "    <tr>\n",
       "      <th>2</th>\n",
       "      <td>58</td>\n",
       "      <td>225394</td>\n",
       "      <td>9</td>\n",
       "      <td>0</td>\n",
       "      <td>1902</td>\n",
       "      <td>40</td>\n",
       "    </tr>\n",
       "    <tr>\n",
       "      <th>3</th>\n",
       "      <td>60</td>\n",
       "      <td>78913</td>\n",
       "      <td>10</td>\n",
       "      <td>0</td>\n",
       "      <td>0</td>\n",
       "      <td>50</td>\n",
       "    </tr>\n",
       "    <tr>\n",
       "      <th>4</th>\n",
       "      <td>20</td>\n",
       "      <td>218215</td>\n",
       "      <td>10</td>\n",
       "      <td>0</td>\n",
       "      <td>0</td>\n",
       "      <td>30</td>\n",
       "    </tr>\n",
       "  </tbody>\n",
       "</table>\n",
       "</div>"
      ],
      "text/plain": [
       "   age  fnlwgt  education-num  capital-gain  capital-loss  hours-per-week\n",
       "0   36  126569             10             0             0              40\n",
       "1   26   68346             14             0             0              10\n",
       "2   58  225394              9             0          1902              40\n",
       "3   60   78913             10             0             0              50\n",
       "4   20  218215             10             0             0              30"
      ]
     },
     "execution_count": 5,
     "metadata": {},
     "output_type": "execute_result"
    }
   ],
   "source": [
    "test_X.head()"
   ]
  },
  {
   "cell_type": "markdown",
   "metadata": {},
   "source": [
    "## Process data"
   ]
  },
  {
   "cell_type": "markdown",
   "metadata": {},
   "source": [
    "#### Scale data"
   ]
  },
  {
   "cell_type": "code",
   "execution_count": 6,
   "metadata": {},
   "outputs": [
    {
     "name": "stderr",
     "output_type": "stream",
     "text": [
      "/Users/qingemeng/Documents/dev/cs498aml/env/lib/python3.7/site-packages/ipykernel_launcher.py:1: DataConversionWarning: Data with input dtype int64 were all converted to float64 by the scale function.\n",
      "  \"\"\"Entry point for launching an IPython kernel.\n",
      "/Users/qingemeng/Documents/dev/cs498aml/env/lib/python3.7/site-packages/ipykernel_launcher.py:2: DataConversionWarning: Data with input dtype int64 were all converted to float64 by the scale function.\n",
      "  \n"
     ]
    }
   ],
   "source": [
    "scaled_train_X = pd.DataFrame(preprocessing.scale(train_X), columns=column_names)\n",
    "scaled_test_X = pd.DataFrame(preprocessing.scale(test_X), columns=column_names)"
   ]
  },
  {
   "cell_type": "code",
   "execution_count": 7,
   "metadata": {},
   "outputs": [
    {
     "data": {
      "text/html": [
       "<div>\n",
       "<style scoped>\n",
       "    .dataframe tbody tr th:only-of-type {\n",
       "        vertical-align: middle;\n",
       "    }\n",
       "\n",
       "    .dataframe tbody tr th {\n",
       "        vertical-align: top;\n",
       "    }\n",
       "\n",
       "    .dataframe thead th {\n",
       "        text-align: right;\n",
       "    }\n",
       "</style>\n",
       "<table border=\"1\" class=\"dataframe\">\n",
       "  <thead>\n",
       "    <tr style=\"text-align: right;\">\n",
       "      <th></th>\n",
       "      <th>age</th>\n",
       "      <th>fnlwgt</th>\n",
       "      <th>education-num</th>\n",
       "      <th>capital-gain</th>\n",
       "      <th>capital-loss</th>\n",
       "      <th>hours-per-week</th>\n",
       "    </tr>\n",
       "  </thead>\n",
       "  <tbody>\n",
       "    <tr>\n",
       "      <th>0</th>\n",
       "      <td>-0.198185</td>\n",
       "      <td>-0.608772</td>\n",
       "      <td>-0.028374</td>\n",
       "      <td>-0.152805</td>\n",
       "      <td>-0.223378</td>\n",
       "      <td>-0.038573</td>\n",
       "    </tr>\n",
       "    <tr>\n",
       "      <th>1</th>\n",
       "      <td>-0.926873</td>\n",
       "      <td>-1.177546</td>\n",
       "      <td>1.503180</td>\n",
       "      <td>-0.152805</td>\n",
       "      <td>-0.223378</td>\n",
       "      <td>-2.353443</td>\n",
       "    </tr>\n",
       "    <tr>\n",
       "      <th>2</th>\n",
       "      <td>1.404928</td>\n",
       "      <td>0.356638</td>\n",
       "      <td>-0.411262</td>\n",
       "      <td>-0.152805</td>\n",
       "      <td>4.230006</td>\n",
       "      <td>-0.038573</td>\n",
       "    </tr>\n",
       "    <tr>\n",
       "      <th>3</th>\n",
       "      <td>1.550665</td>\n",
       "      <td>-1.074318</td>\n",
       "      <td>-0.028374</td>\n",
       "      <td>-0.152805</td>\n",
       "      <td>-0.223378</td>\n",
       "      <td>0.733050</td>\n",
       "    </tr>\n",
       "    <tr>\n",
       "      <th>4</th>\n",
       "      <td>-1.364085</td>\n",
       "      <td>0.286507</td>\n",
       "      <td>-0.028374</td>\n",
       "      <td>-0.152805</td>\n",
       "      <td>-0.223378</td>\n",
       "      <td>-0.810197</td>\n",
       "    </tr>\n",
       "  </tbody>\n",
       "</table>\n",
       "</div>"
      ],
      "text/plain": [
       "        age    fnlwgt  education-num  capital-gain  capital-loss  \\\n",
       "0 -0.198185 -0.608772      -0.028374     -0.152805     -0.223378   \n",
       "1 -0.926873 -1.177546       1.503180     -0.152805     -0.223378   \n",
       "2  1.404928  0.356638      -0.411262     -0.152805      4.230006   \n",
       "3  1.550665 -1.074318      -0.028374     -0.152805     -0.223378   \n",
       "4 -1.364085  0.286507      -0.028374     -0.152805     -0.223378   \n",
       "\n",
       "   hours-per-week  \n",
       "0       -0.038573  \n",
       "1       -2.353443  \n",
       "2       -0.038573  \n",
       "3        0.733050  \n",
       "4       -0.810197  "
      ]
     },
     "execution_count": 7,
     "metadata": {},
     "output_type": "execute_result"
    }
   ],
   "source": [
    "scaled_test_X.head()"
   ]
  },
  {
   "cell_type": "markdown",
   "metadata": {},
   "source": [
    "#### Split data"
   ]
  },
  {
   "cell_type": "code",
   "execution_count": 8,
   "metadata": {},
   "outputs": [],
   "source": [
    "def split_data(df, ratio):\n",
    "    set1 = df.sample(frac=ratio)\n",
    "    set2 = df.sample(frac=(1 - ratio))\n",
    "    return set1, set2"
   ]
  },
  {
   "cell_type": "code",
   "execution_count": 9,
   "metadata": {},
   "outputs": [],
   "source": [
    "regularization_train, regularization_validation = split_data(scaled_train_X.join(train_Y), 0.9)"
   ]
  },
  {
   "cell_type": "code",
   "execution_count": 10,
   "metadata": {},
   "outputs": [
    {
     "data": {
      "text/html": [
       "<div>\n",
       "<style scoped>\n",
       "    .dataframe tbody tr th:only-of-type {\n",
       "        vertical-align: middle;\n",
       "    }\n",
       "\n",
       "    .dataframe tbody tr th {\n",
       "        vertical-align: top;\n",
       "    }\n",
       "\n",
       "    .dataframe thead th {\n",
       "        text-align: right;\n",
       "    }\n",
       "</style>\n",
       "<table border=\"1\" class=\"dataframe\">\n",
       "  <thead>\n",
       "    <tr style=\"text-align: right;\">\n",
       "      <th></th>\n",
       "      <th>age</th>\n",
       "      <th>fnlwgt</th>\n",
       "      <th>education-num</th>\n",
       "      <th>capital-gain</th>\n",
       "      <th>capital-loss</th>\n",
       "      <th>hours-per-week</th>\n",
       "      <th>label</th>\n",
       "    </tr>\n",
       "  </thead>\n",
       "  <tbody>\n",
       "    <tr>\n",
       "      <th>9816</th>\n",
       "      <td>-1.286399</td>\n",
       "      <td>-0.542022</td>\n",
       "      <td>-1.199565</td>\n",
       "      <td>-0.144172</td>\n",
       "      <td>-0.21644</td>\n",
       "      <td>-0.439197</td>\n",
       "      <td>-1</td>\n",
       "    </tr>\n",
       "    <tr>\n",
       "      <th>33902</th>\n",
       "      <td>-0.046329</td>\n",
       "      <td>-0.333539</td>\n",
       "      <td>-0.420255</td>\n",
       "      <td>-0.144172</td>\n",
       "      <td>4.90819</td>\n",
       "      <td>-0.033567</td>\n",
       "      <td>-1</td>\n",
       "    </tr>\n",
       "    <tr>\n",
       "      <th>40099</th>\n",
       "      <td>-0.484001</td>\n",
       "      <td>2.269092</td>\n",
       "      <td>-0.420255</td>\n",
       "      <td>-0.144172</td>\n",
       "      <td>-0.21644</td>\n",
       "      <td>0.777693</td>\n",
       "      <td>-1</td>\n",
       "    </tr>\n",
       "    <tr>\n",
       "      <th>40804</th>\n",
       "      <td>1.193741</td>\n",
       "      <td>-0.388468</td>\n",
       "      <td>-1.589219</td>\n",
       "      <td>-0.144172</td>\n",
       "      <td>-0.21644</td>\n",
       "      <td>-0.033567</td>\n",
       "      <td>-1</td>\n",
       "    </tr>\n",
       "    <tr>\n",
       "      <th>14833</th>\n",
       "      <td>2.287920</td>\n",
       "      <td>-0.127086</td>\n",
       "      <td>-0.420255</td>\n",
       "      <td>-0.144172</td>\n",
       "      <td>-0.21644</td>\n",
       "      <td>-1.412709</td>\n",
       "      <td>-1</td>\n",
       "    </tr>\n",
       "  </tbody>\n",
       "</table>\n",
       "</div>"
      ],
      "text/plain": [
       "            age    fnlwgt  education-num  capital-gain  capital-loss  \\\n",
       "9816  -1.286399 -0.542022      -1.199565     -0.144172      -0.21644   \n",
       "33902 -0.046329 -0.333539      -0.420255     -0.144172       4.90819   \n",
       "40099 -0.484001  2.269092      -0.420255     -0.144172      -0.21644   \n",
       "40804  1.193741 -0.388468      -1.589219     -0.144172      -0.21644   \n",
       "14833  2.287920 -0.127086      -0.420255     -0.144172      -0.21644   \n",
       "\n",
       "       hours-per-week  label  \n",
       "9816        -0.439197     -1  \n",
       "33902       -0.033567     -1  \n",
       "40099        0.777693     -1  \n",
       "40804       -0.033567     -1  \n",
       "14833       -1.412709     -1  "
      ]
     },
     "execution_count": 10,
     "metadata": {},
     "output_type": "execute_result"
    }
   ],
   "source": [
    "assert regularization_train.shape[0] + regularization_validation.shape[0] == train_X.shape[0]\n",
    "regularization_train.head()"
   ]
  },
  {
   "cell_type": "code",
   "execution_count": 11,
   "metadata": {},
   "outputs": [],
   "source": [
    "reg_validate_X = regularization_validation.drop(['label'], axis=1)\n",
    "reg_validate_Y = regularization_validation['label']"
   ]
  },
  {
   "cell_type": "markdown",
   "metadata": {},
   "source": [
    "## Stochastic Gradient Descent"
   ]
  },
  {
   "cell_type": "code",
   "execution_count": 91,
   "metadata": {},
   "outputs": [],
   "source": [
    "def gradient_of_cost(feature_vec, label, a, b, lam=0):\n",
    "    if (label * np.dot(feature_vec, a.T) + b) < 1:\n",
    "        gradient_a = lam * a - (feature_vec * label)\n",
    "        gradient_b = 0 - label\n",
    "    else:\n",
    "        gradient_a = lam * a\n",
    "        gradient_b = 0\n",
    "  \n",
    "    return [gradient_a, gradient_b]\n",
    "# gradient_of_cost(np.array([2.287920, -0.453098, 0.359055, 1.099318, -0.21644, 0.777693]), label=1, a=np.array([1,2,3,4,5,6]) )"
   ]
  },
  {
   "cell_type": "code",
   "execution_count": 92,
   "metadata": {},
   "outputs": [],
   "source": [
    "def step(feature_vec, label,a, b, lam, learning_rate):\n",
    "#   c = cost_function(x_batch,y_batch,a=a_est,b=b_est)\n",
    "    g = gradient_of_cost(feature_vec, label,a=a,b=b,lam=lam)\n",
    "    a_new = a - learning_rate * g[0]\n",
    "    b_new = b - learning_rate * g[1]\n",
    "    return a_new, b_new"
   ]
  },
  {
   "cell_type": "code",
   "execution_count": 97,
   "metadata": {},
   "outputs": [],
   "source": [
    "def stochastic_gradient_descent(X, Y, initial_a, initial_b, steps, learning_rate, lam):\n",
    "    a = initial_a\n",
    "    b = initial_b\n",
    "\n",
    "    for i in range(steps):\n",
    "        n = np.random.randint(0, len(X)) # Batch size of 1.\n",
    "        a, b = step(X.iloc[n], Y.iloc[n], a, b, lam, learning_rate)\n",
    "\n",
    "    print(f\"Final a,b = {(a, b)}\")\n",
    "    return a, b"
   ]
  },
  {
   "cell_type": "code",
   "execution_count": 98,
   "metadata": {},
   "outputs": [],
   "source": [
    "def seperate_hold_out(X, size):\n",
    "    random_indices = np.random.randint(0, len(X), size=size)\n",
    "    return X.drop(X.index[random_indices]), X.iloc[random_indices]"
   ]
  },
  {
   "cell_type": "code",
   "execution_count": 99,
   "metadata": {},
   "outputs": [
    {
     "name": "stdout",
     "output_type": "stream",
     "text": [
      "Final a,b = (age              -0.400580\n",
      "fnlwgt           -0.126785\n",
      "education-num     0.053168\n",
      "capital-gain      0.248423\n",
      "capital-loss      0.189215\n",
      "hours-per-week   -0.156674\n",
      "dtype: float64, -15.79999999999996)\n"
     ]
    }
   ],
   "source": [
    "set_hold_out_size = 50\n",
    "initial_a = np.random.rand(1,6).flatten() - 1 \n",
    "initial_b = 0\n",
    "steps = 300\n",
    "X, hold_out_set = seperate_hold_out(regularization_train, set_hold_out_size)\n",
    "assert X.shape[0] + hold_out_set.shape[0] == regularization_train.shape[0]\n",
    "\n",
    "reg_train_X = X.drop(['label'], axis=1)\n",
    "reg_train_Y = X['label']\n",
    "\n",
    "W = stochastic_gradient_descent(reg_train_X, reg_train_Y, initial_a, initial_b, steps, learning_rate=0.1, lam=1)"
   ]
  },
  {
   "cell_type": "markdown",
   "metadata": {},
   "source": [
    "## Regularization constant λ"
   ]
  },
  {
   "cell_type": "code",
   "execution_count": null,
   "metadata": {},
   "outputs": [],
   "source": []
  },
  {
   "cell_type": "code",
   "execution_count": null,
   "metadata": {},
   "outputs": [],
   "source": []
  }
 ],
 "metadata": {
  "kernelspec": {
   "display_name": "Python 3",
   "language": "python",
   "name": "python3"
  },
  "language_info": {
   "codemirror_mode": {
    "name": "ipython",
    "version": 3
   },
   "file_extension": ".py",
   "mimetype": "text/x-python",
   "name": "python",
   "nbconvert_exporter": "python",
   "pygments_lexer": "ipython3",
   "version": "3.7.2"
  }
 },
 "nbformat": 4,
 "nbformat_minor": 2
}
