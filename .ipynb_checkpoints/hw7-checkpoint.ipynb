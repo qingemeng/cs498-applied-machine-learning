{
 "cells": [
  {
   "cell_type": "code",
   "execution_count": 80,
   "metadata": {},
   "outputs": [],
   "source": [
    "import pandas as pd\n",
    "import numpy as np\n",
    "import matplotlib.pyplot as plt\n",
    "from sklearn.feature_extraction.text import CountVectorizer\n",
    "from sklearn import metrics\n",
    "from sklearn.metrics import accuracy_score\n",
    "\n",
    "from nltk.stem.snowball import EnglishStemmer"
   ]
  },
  {
   "cell_type": "code",
   "execution_count": 2,
   "metadata": {},
   "outputs": [
    {
     "data": {
      "text/html": [
       "<div>\n",
       "<style scoped>\n",
       "    .dataframe tbody tr th:only-of-type {\n",
       "        vertical-align: middle;\n",
       "    }\n",
       "\n",
       "    .dataframe tbody tr th {\n",
       "        vertical-align: top;\n",
       "    }\n",
       "\n",
       "    .dataframe thead th {\n",
       "        text-align: right;\n",
       "    }\n",
       "</style>\n",
       "<table border=\"1\" class=\"dataframe\">\n",
       "  <thead>\n",
       "    <tr style=\"text-align: right;\">\n",
       "      <th></th>\n",
       "      <th>stars</th>\n",
       "      <th>text</th>\n",
       "    </tr>\n",
       "  </thead>\n",
       "  <tbody>\n",
       "    <tr>\n",
       "      <th>0</th>\n",
       "      <td>1</td>\n",
       "      <td>This car wash sucks.  Paid $40 for the Ultimat...</td>\n",
       "    </tr>\n",
       "    <tr>\n",
       "      <th>1</th>\n",
       "      <td>5</td>\n",
       "      <td>I was referred to Earnie by friends and since ...</td>\n",
       "    </tr>\n",
       "    <tr>\n",
       "      <th>2</th>\n",
       "      <td>1</td>\n",
       "      <td>The food is okay, but they have the worst serv...</td>\n",
       "    </tr>\n",
       "    <tr>\n",
       "      <th>3</th>\n",
       "      <td>1</td>\n",
       "      <td>Opting out from the noise and hustle of Flo's ...</td>\n",
       "    </tr>\n",
       "    <tr>\n",
       "      <th>4</th>\n",
       "      <td>5</td>\n",
       "      <td>Basically, unlimited steak. If you like steak,...</td>\n",
       "    </tr>\n",
       "  </tbody>\n",
       "</table>\n",
       "</div>"
      ],
      "text/plain": [
       "   stars                                               text\n",
       "0      1  This car wash sucks.  Paid $40 for the Ultimat...\n",
       "1      5  I was referred to Earnie by friends and since ...\n",
       "2      1  The food is okay, but they have the worst serv...\n",
       "3      1  Opting out from the noise and hustle of Flo's ...\n",
       "4      5  Basically, unlimited steak. If you like steak,..."
      ]
     },
     "execution_count": 2,
     "metadata": {},
     "output_type": "execute_result"
    }
   ],
   "source": [
    "data_dir = \"./data/hw7\"\n",
    "data = pd.read_csv(f\"{data_dir}/yelp_2k.csv\", usecols=[3,5])\n",
    "corpus = data.text\n",
    "data.head()"
   ]
  },
  {
   "cell_type": "code",
   "execution_count": 3,
   "metadata": {},
   "outputs": [
    {
     "data": {
      "text/plain": [
       "(2000, 2)"
      ]
     },
     "execution_count": 3,
     "metadata": {},
     "output_type": "execute_result"
    }
   ],
   "source": [
    "data.shape"
   ]
  },
  {
   "cell_type": "markdown",
   "metadata": {},
   "source": [
    "## Bag of words"
   ]
  },
  {
   "cell_type": "code",
   "execution_count": 4,
   "metadata": {},
   "outputs": [],
   "source": [
    "class StemmedCountVectorizer(CountVectorizer):\n",
    "    def build_analyzer(self):\n",
    "        stemmer = EnglishStemmer()\n",
    "        analyzer = super(StemmedCountVectorizer, self).build_analyzer()\n",
    "        return lambda doc: ([stemmer.stem(w) for w in analyzer(doc)])"
   ]
  },
  {
   "cell_type": "code",
   "execution_count": 5,
   "metadata": {},
   "outputs": [],
   "source": [
    "def get_bag_of_words(corpus, stop_words=None, max_df=1.0, min_df=1):    \n",
    "    vectorizer = StemmedCountVectorizer(stop_words=stop_words, max_df=max_df, min_df=min_df)\n",
    "    bag_of_words = vectorizer.fit_transform(corpus)\n",
    "    return vectorizer, bag_of_words"
   ]
  },
  {
   "cell_type": "code",
   "execution_count": 6,
   "metadata": {},
   "outputs": [],
   "source": [
    "def get_sorted_words_frequencies(bag_of_words, vectorizer):\n",
    "    frequencies = bag_of_words.sum(axis=0)\n",
    "    words_frequencies = [(word, frequencies[0, index]) for word, index in vectorizer.vocabulary_.items()]\n",
    "    sorted_words_frequencies =sorted(words_frequencies, key = lambda x: x[1], reverse=True)\n",
    "    return sorted_words_frequencies"
   ]
  },
  {
   "cell_type": "code",
   "execution_count": 7,
   "metadata": {},
   "outputs": [],
   "source": [
    "def plot_frequecy_rank(sorted_words_frequencies, filename):\n",
    "    num_words = len(sorted_words_frequencies)\n",
    "    sorted_frequencies = np.array(sorted_words_frequencies)[:, 1].astype(int)\n",
    "    fig, ax = plt.subplots()\n",
    "    ax.set_title(\"Word Frequencies\")\n",
    "    ax.set_xlabel('word rank')\n",
    "    ax.set_ylabel('word count')\n",
    "    plt.plot(range(num_words), sorted_frequencies,'b.')\n",
    "    plt.savefig(f'reports/hw7/{filename}.png')\n",
    "    plt.show()"
   ]
  },
  {
   "cell_type": "code",
   "execution_count": 8,
   "metadata": {},
   "outputs": [],
   "source": [
    "vectorizer, bag_of_words = get_bag_of_words(corpus)\n",
    "sorted_words_frequencies = get_sorted_words_frequencies(bag_of_words, vectorizer)"
   ]
  },
  {
   "cell_type": "code",
   "execution_count": 9,
   "metadata": {},
   "outputs": [
    {
     "data": {
      "image/png": "[encoded data removed]",
      "text/plain": [
       "<Figure size 432x288 with 1 Axes>"
      ]
     },
     "metadata": {
      "needs_background": "light"
     },
     "output_type": "display_data"
    }
   ],
   "source": [
    "plot_frequecy_rank(sorted_words_frequencies, filename='1')"
   ]
  },
  {
   "cell_type": "markdown",
   "metadata": {},
   "source": [
    "#### Stop words\n",
    "By printing out the first 100 high frequent words"
   ]
  },
  {
   "cell_type": "code",
   "execution_count": 10,
   "metadata": {},
   "outputs": [
    {
     "data": {
      "text/plain": [
       "[('the', 11041),\n",
       " ('and', 8107),\n",
       " ('to', 6565),\n",
       " ('was', 3817),\n",
       " ('it', 3444),\n",
       " ('of', 3040),\n",
       " ('for', 2728),\n",
       " ('in', 2706),\n",
       " ('my', 2606),\n",
       " ('is', 2604),\n",
       " ('that', 2326),\n",
       " ('they', 2295),\n",
       " ('this', 2116),\n",
       " ('we', 2029),\n",
       " ('you', 1962),\n",
       " ('with', 1817),\n",
       " ('on', 1720),\n",
       " ('have', 1690),\n",
       " ('not', 1650),\n",
       " ('but', 1409),\n",
       " ('had', 1387),\n",
       " ('me', 1330),\n",
       " ('at', 1305),\n",
       " ('so', 1252),\n",
       " ('be', 1196),\n",
       " ('were', 1125),\n",
       " ('are', 1122),\n",
       " ('place', 1065),\n",
       " ('food', 953),\n",
       " ('go', 944),\n",
       " ('there', 942),\n",
       " ('get', 933),\n",
       " ('as', 929),\n",
       " ('time', 908),\n",
       " ('he', 900),\n",
       " ('if', 899),\n",
       " ('all', 856),\n",
       " ('when', 843),\n",
       " ('servic', 835),\n",
       " ('out', 830),\n",
       " ('would', 806),\n",
       " ('our', 776),\n",
       " ('one', 769),\n",
       " ('she', 765),\n",
       " ('back', 758),\n",
       " ('up', 735),\n",
       " ('from', 727),\n",
       " ('veri', 724),\n",
       " ('an', 712),\n",
       " ('like', 710),\n",
       " ('their', 708),\n",
       " ('just', 705),\n",
       " ('here', 697),\n",
       " ('will', 692),\n",
       " ('order', 689),\n",
       " ('no', 686),\n",
       " ('great', 672),\n",
       " ('good', 671),\n",
       " ('about', 619),\n",
       " ('them', 608),\n",
       " ('can', 601),\n",
       " ('do', 598),\n",
       " ('or', 594),\n",
       " ('what', 591),\n",
       " ('your', 578),\n",
       " ('us', 568),\n",
       " ('call', 534),\n",
       " ('tri', 525),\n",
       " ('been', 513),\n",
       " ('even', 499),\n",
       " ('never', 483),\n",
       " ('becaus', 479),\n",
       " ('onli', 478),\n",
       " ('don', 477),\n",
       " ('after', 467),\n",
       " ('by', 465),\n",
       " ('come', 463),\n",
       " ('want', 455),\n",
       " ('ask', 453),\n",
       " ('which', 446),\n",
       " ('make', 438),\n",
       " ('look', 434),\n",
       " ('did', 425),\n",
       " ('got', 420),\n",
       " ('other', 418),\n",
       " ('said', 412),\n",
       " ('her', 411),\n",
       " ('more', 410),\n",
       " ('wait', 407),\n",
       " ('work', 400),\n",
       " ('friend', 398),\n",
       " ('day', 397),\n",
       " ('realli', 397),\n",
       " ('told', 385),\n",
       " ('custom', 384),\n",
       " ('also', 383),\n",
       " ('could', 381),\n",
       " ('some', 379),\n",
       " ('say', 376),\n",
       " ('then', 371)]"
      ]
     },
     "execution_count": 10,
     "metadata": {},
     "output_type": "execute_result"
    }
   ],
   "source": [
    "sorted_words_frequencies[:100]"
   ]
  },
  {
   "cell_type": "markdown",
   "metadata": {},
   "source": [
    "Choosing: `['the', 'and', 'to', 'was', 'it', 'of', 'for', 'in', 'is', 'that', 'this', 'with', 'on', 'at', 'are', 'were', 'be', 'as', 'an']`"
   ]
  },
  {
   "cell_type": "markdown",
   "metadata": {},
   "source": [
    "## Using stop words list"
   ]
  },
  {
   "cell_type": "code",
   "execution_count": 11,
   "metadata": {},
   "outputs": [],
   "source": [
    "stop_words_list=['the', 'and', 'to', 'was', 'it', 'of', 'for', 'in', 'is', 'that', 'this', 'with', 'on', 'at', 'are', 'were', 'be', 'as', 'an']\n",
    "vectorizer2, bag_of_words2 = get_bag_of_words(corpus, stop_words=stop_words_list)\n",
    "sorted_words_frequencies2 = get_sorted_words_frequencies(bag_of_words2, vectorizer2)"
   ]
  },
  {
   "cell_type": "code",
   "execution_count": 12,
   "metadata": {},
   "outputs": [
    {
     "data": {
      "text/plain": [
       "9387"
      ]
     },
     "execution_count": 12,
     "metadata": {},
     "output_type": "execute_result"
    }
   ],
   "source": [
    "len(sorted_words_frequencies2)"
   ]
  },
  {
   "cell_type": "code",
   "execution_count": 13,
   "metadata": {},
   "outputs": [
    {
     "data": {
      "image/png": "[encoded data removed]",
      "text/plain": [
       "<Figure size 432x288 with 1 Axes>"
      ]
     },
     "metadata": {
      "needs_background": "light"
     },
     "output_type": "display_data"
    }
   ],
   "source": [
    "plot_frequecy_rank(sorted_words_frequencies2,  filename='2')"
   ]
  },
  {
   "cell_type": "markdown",
   "metadata": {},
   "source": [
    "## min_df/max_df"
   ]
  },
  {
   "cell_type": "code",
   "execution_count": 46,
   "metadata": {},
   "outputs": [],
   "source": [
    "stop_words_list=['the', 'and', 'to', 'was', 'it', 'of', 'for', 'in', 'is', 'that', 'this', 'with', 'on', 'at', 'are', 'were', 'be', 'as', 'an']\n",
    "vectorizer3, bag_of_words3 = get_bag_of_words(corpus, stop_words=stop_words_list, max_df=0.2, min_df=0.01)\n",
    "sorted_words_frequencies3 = get_sorted_words_frequencies(bag_of_words3, vectorizer3)"
   ]
  },
  {
   "cell_type": "code",
   "execution_count": 47,
   "metadata": {},
   "outputs": [
    {
     "data": {
      "text/plain": [
       "975"
      ]
     },
     "execution_count": 47,
     "metadata": {},
     "output_type": "execute_result"
    }
   ],
   "source": [
    "len(sorted_words_frequencies3)"
   ]
  },
  {
   "cell_type": "code",
   "execution_count": 48,
   "metadata": {},
   "outputs": [
    {
     "data": {
      "image/png": "[encoded data removed]",
      "text/plain": [
       "<Figure size 432x288 with 1 Axes>"
      ]
     },
     "metadata": {
      "needs_background": "light"
     },
     "output_type": "display_data"
    }
   ],
   "source": [
    "plot_frequecy_rank(sorted_words_frequencies3,  filename='3')"
   ]
  },
  {
   "cell_type": "markdown",
   "metadata": {},
   "source": [
    "## Part 2: Text-Retrieval"
   ]
  },
  {
   "cell_type": "code",
   "execution_count": 49,
   "metadata": {},
   "outputs": [],
   "source": [
    "from sklearn.neighbors import NearestNeighbors"
   ]
  },
  {
   "cell_type": "code",
   "execution_count": 50,
   "metadata": {},
   "outputs": [],
   "source": [
    "query_string = 'horrible customer service'\n",
    "\n",
    "k = 5\n",
    "knn = NearestNeighbors(n_neighbors=k, metric='cosine')\n",
    "knn.fit(bag_of_words3)\n",
    "\n",
    "test = [query_string]\n",
    "test_BOW = vectorizer3.transform(test)\n",
    "\n",
    "distances, indices = knn.kneighbors(test_BOW, n_neighbors=k)"
   ]
  },
  {
   "cell_type": "code",
   "execution_count": 51,
   "metadata": {},
   "outputs": [
    {
     "data": {
      "text/plain": [
       "(array([[0.43305329, 0.54773298, 0.61861496, 0.63072553, 0.63485163]]),\n",
       " array([[1808,  729,   90,  479, 1520]]))"
      ]
     },
     "execution_count": 51,
     "metadata": {},
     "output_type": "execute_result"
    }
   ],
   "source": [
    "distances, indices"
   ]
  },
  {
   "cell_type": "code",
   "execution_count": 52,
   "metadata": {},
   "outputs": [
    {
     "name": "stdout",
     "output_type": "stream",
     "text": [
      "1808    Rogers ...\\n\\n1) is over priced\\n2) have horrible customer service\\n3) faulty and incorrect billing\\n4) poor customer service\\n5) not enough options\\n6) never arrive for an appointment                                                                                                                                                                                                                                              \n",
      "729     Service was horrible came with a major attitude. Payed 30 for lasagna and was no where worth it. Won't ever be going back and will NEVER recommend this place. was treated absolutely horrible. Horrible.                                                                                                                                                                                                                             \n",
      "90      Horrible service, horrible customer service, and horrible quality of service!  Do not waste your time or money using this company for your pool needs.  Dan (602)363-8267 broke my pool filtration system and left it in a nonworking condition.  He will not repair the issue he caused, and told me to go somewhere else.  \\n\\nSave yourself the hassle, there are plenty of other quality pool companies out there.  \\n\\nTake care!\n",
      "479     HORRIBLE HORRIBLE HORRIBLE!!! AVOID AT ALL COSTS!!!\\n\\nI had some work done at Swing Shift Auto and I was helped by Keith. He was very arrogant and had little time for me. I just needed new brake discs and pads. I was overcharged, the repairs took TWO DAYS, and when I got home i noticed that the discs had NOT been replaced, only the pads!!!!\\n\\nTOTAL RIPOFFF!!! NEVER GO HERE, PLEASE!!!                                  \n",
      "1520    HORRIBLE customer service. When you call you'll get transferred 3 Times. No one knows what they're doing. Was trying to buy a car and the dealer took forever to get back to us. Not a good experience vs other places.                                                                                                                                                                                                               \n",
      "Name: text, dtype: object\n"
     ]
    }
   ],
   "source": [
    "pd.set_option('display.max_colwidth', -1)\n",
    "print(corpus[indices[0]])"
   ]
  },
  {
   "cell_type": "markdown",
   "metadata": {},
   "source": [
    "## Part 3: Classification with Logistic Regression"
   ]
  },
  {
   "cell_type": "code",
   "execution_count": 53,
   "metadata": {},
   "outputs": [],
   "source": [
    "from sklearn.linear_model import LogisticRegression\n",
    "from sklearn.model_selection import train_test_split"
   ]
  },
  {
   "cell_type": "code",
   "execution_count": 54,
   "metadata": {},
   "outputs": [],
   "source": [
    "X_train, X_test, y_train, y_test = train_test_split(bag_of_words3, data.stars, test_size=0.1)\n",
    "pd.set_option('display.max_colwidth', 50)\n",
    "\n",
    "assert X_train.shape[0] + X_test.shape[0] == corpus.shape[0] "
   ]
  },
  {
   "cell_type": "code",
   "execution_count": 55,
   "metadata": {},
   "outputs": [
    {
     "data": {
      "text/plain": [
       "LogisticRegression(C=1.0, class_weight='balanced', dual=False,\n",
       "          fit_intercept=True, intercept_scaling=1, max_iter=100,\n",
       "          multi_class='warn', n_jobs=None, penalty='l2', random_state=None,\n",
       "          solver='lbfgs', tol=0.0001, verbose=0, warm_start=False)"
      ]
     },
     "execution_count": 55,
     "metadata": {},
     "output_type": "execute_result"
    }
   ],
   "source": [
    "clf = LogisticRegression(class_weight='balanced', solver='lbfgs')\n",
    "clf.fit(X_train.toarray(), y_train)"
   ]
  },
  {
   "cell_type": "code",
   "execution_count": 79,
   "metadata": {},
   "outputs": [
    {
     "name": "stdout",
     "output_type": "stream",
     "text": [
      "0.9972222222222222 0.92\n"
     ]
    }
   ],
   "source": [
    "train_acc = clf.score(X_train, y_train) \n",
    "test_acc = clf.score(X_test, y_test)\n",
    "print(train_acc, test_acc)"
   ]
  },
  {
   "cell_type": "code",
   "execution_count": 77,
   "metadata": {},
   "outputs": [],
   "source": [
    "probabilities_train = clf.predict_proba(X_train)\n",
    "probabilities_test = clf.predict_proba(X_test)\n",
    "prob_2 = probabilities_train[:,1]"
   ]
  },
  {
   "cell_type": "code",
   "execution_count": 78,
   "metadata": {},
   "outputs": [
    {
     "data": {
      "image/png": "[encoded data removed]",
      "text/plain": [
       "<Figure size 432x288 with 1 Axes>"
      ]
     },
     "metadata": {
      "needs_background": "light"
     },
     "output_type": "display_data"
    }
   ],
   "source": [
    "def plot_score(threshold = 0.5, prob = prob_2):\n",
    "    fig, ax = plt.subplots()\n",
    "    # ax.set_title(\"Word Frequencies\")\n",
    "    # ax.set_xlabel('word rank')\n",
    "    # ax.set_ylabel('word count')\n",
    "\n",
    "    hist = plt.hist(prob[prob >= threshold],bins=np.arange(0, 1.01, 0.01))\n",
    "    hist = plt.hist(prob[prob < threshold],bins=np.arange(0, 1.01, 0.01))\n",
    "\n",
    "    plt.show()\n",
    "    \n",
    "plot_score()"
   ]
  },
  {
   "cell_type": "code",
   "execution_count": 81,
   "metadata": {},
   "outputs": [],
   "source": [
    "def predicts(prob_X, threshold):\n",
    "    predicts = []\n",
    "    for prob_x in prob_X:\n",
    "        if(prob_x >= threshold):\n",
    "            predicts.append(5)\n",
    "        else:\n",
    "            predicts.append(1)\n",
    "    assert len(predicts) == len(prob_X)\n",
    "    return predicts\n",
    "        "
   ]
  },
  {
   "cell_type": "code",
   "execution_count": 119,
   "metadata": {},
   "outputs": [
    {
     "data": {
      "text/plain": [
       "(0.9961111111111111, 0.93)"
      ]
     },
     "execution_count": 119,
     "metadata": {},
     "output_type": "execute_result"
    }
   ],
   "source": [
    "def get_train_test_acc(probabilities_train, probabilities_test, threshold):    \n",
    "    predicts_train = predicts(probabilities_train[:,1], threshold)\n",
    "    predicts_test = predicts(probabilities_test[:,1], threshold)\n",
    "    acc_train = accuracy_score(y_train, predicts_train)\n",
    "    acc_test = accuracy_score(y_test, predicts_test)\n",
    "    return acc_train, acc_test\n",
    "\n",
    "new_threshold = 0.471\n",
    "acc_train, acc_test = get_train_test_acc(probabilities_train, probabilities_test, new_threshold)\n",
    "acc_train, acc_test"
   ]
  },
  {
   "cell_type": "code",
   "execution_count": 113,
   "metadata": {},
   "outputs": [
    {
     "data": {
      "image/png": "[encoded data removed]",
      "text/plain": [
       "<Figure size 432x288 with 1 Axes>"
      ]
     },
     "metadata": {
      "needs_background": "light"
     },
     "output_type": "display_data"
    }
   ],
   "source": [
    "y_pred_proba = probabilities_test[:,1]\n",
    "fpr, tpr, thresholds = metrics.roc_curve(y_test, y_pred_proba, pos_label=5)\n",
    "auc = metrics.roc_auc_score(y_test, y_pred_proba)\n",
    "fig, ax = plt.subplots()\n",
    "ax.set_title(\"ROC\")\n",
    "ax.set_xlabel('FPR')\n",
    "ax.set_ylabel('TPR')\n",
    "plt.plot([0, 1], [0, 1], linestyle='--')\n",
    "plt.plot(fpr,tpr, label=\"auc=\"+str(auc))\n",
    "plt.legend(loc=4)\n",
    "plt.show()"
   ]
  },
  {
   "cell_type": "code",
   "execution_count": 111,
   "metadata": {},
   "outputs": [
    {
     "data": {
      "text/html": [
       "<div>\n",
       "<style scoped>\n",
       "    .dataframe tbody tr th:only-of-type {\n",
       "        vertical-align: middle;\n",
       "    }\n",
       "\n",
       "    .dataframe tbody tr th {\n",
       "        vertical-align: top;\n",
       "    }\n",
       "\n",
       "    .dataframe thead th {\n",
       "        text-align: right;\n",
       "    }\n",
       "</style>\n",
       "<table border=\"1\" class=\"dataframe\">\n",
       "  <thead>\n",
       "    <tr style=\"text-align: right;\">\n",
       "      <th></th>\n",
       "      <th>tpr</th>\n",
       "      <th>fpr</th>\n",
       "      <th>threshold</th>\n",
       "    </tr>\n",
       "  </thead>\n",
       "  <tbody>\n",
       "    <tr>\n",
       "      <th>0</th>\n",
       "      <td>0.000000</td>\n",
       "      <td>0.000000</td>\n",
       "      <td>2.000000e+00</td>\n",
       "    </tr>\n",
       "    <tr>\n",
       "      <th>1</th>\n",
       "      <td>0.011236</td>\n",
       "      <td>0.000000</td>\n",
       "      <td>9.999998e-01</td>\n",
       "    </tr>\n",
       "    <tr>\n",
       "      <th>2</th>\n",
       "      <td>0.528090</td>\n",
       "      <td>0.000000</td>\n",
       "      <td>9.723074e-01</td>\n",
       "    </tr>\n",
       "    <tr>\n",
       "      <th>3</th>\n",
       "      <td>0.528090</td>\n",
       "      <td>0.009009</td>\n",
       "      <td>9.693742e-01</td>\n",
       "    </tr>\n",
       "    <tr>\n",
       "      <th>4</th>\n",
       "      <td>0.550562</td>\n",
       "      <td>0.009009</td>\n",
       "      <td>9.616331e-01</td>\n",
       "    </tr>\n",
       "    <tr>\n",
       "      <th>5</th>\n",
       "      <td>0.550562</td>\n",
       "      <td>0.018018</td>\n",
       "      <td>9.610186e-01</td>\n",
       "    </tr>\n",
       "    <tr>\n",
       "      <th>6</th>\n",
       "      <td>0.573034</td>\n",
       "      <td>0.018018</td>\n",
       "      <td>9.583437e-01</td>\n",
       "    </tr>\n",
       "    <tr>\n",
       "      <th>7</th>\n",
       "      <td>0.573034</td>\n",
       "      <td>0.027027</td>\n",
       "      <td>9.555184e-01</td>\n",
       "    </tr>\n",
       "    <tr>\n",
       "      <th>8</th>\n",
       "      <td>0.741573</td>\n",
       "      <td>0.027027</td>\n",
       "      <td>8.582270e-01</td>\n",
       "    </tr>\n",
       "    <tr>\n",
       "      <th>9</th>\n",
       "      <td>0.741573</td>\n",
       "      <td>0.036036</td>\n",
       "      <td>8.556092e-01</td>\n",
       "    </tr>\n",
       "    <tr>\n",
       "      <th>10</th>\n",
       "      <td>0.775281</td>\n",
       "      <td>0.036036</td>\n",
       "      <td>8.372135e-01</td>\n",
       "    </tr>\n",
       "    <tr>\n",
       "      <th>11</th>\n",
       "      <td>0.775281</td>\n",
       "      <td>0.045045</td>\n",
       "      <td>8.046052e-01</td>\n",
       "    </tr>\n",
       "    <tr>\n",
       "      <th>12</th>\n",
       "      <td>0.853933</td>\n",
       "      <td>0.045045</td>\n",
       "      <td>7.085217e-01</td>\n",
       "    </tr>\n",
       "    <tr>\n",
       "      <th>13</th>\n",
       "      <td>0.853933</td>\n",
       "      <td>0.054054</td>\n",
       "      <td>6.885578e-01</td>\n",
       "    </tr>\n",
       "    <tr>\n",
       "      <th>14</th>\n",
       "      <td>0.887640</td>\n",
       "      <td>0.054054</td>\n",
       "      <td>6.514341e-01</td>\n",
       "    </tr>\n",
       "    <tr>\n",
       "      <th>15</th>\n",
       "      <td>0.887640</td>\n",
       "      <td>0.072072</td>\n",
       "      <td>6.134061e-01</td>\n",
       "    </tr>\n",
       "    <tr>\n",
       "      <th>16</th>\n",
       "      <td>0.932584</td>\n",
       "      <td>0.072072</td>\n",
       "      <td>5.391551e-01</td>\n",
       "    </tr>\n",
       "    <tr>\n",
       "      <th>17</th>\n",
       "      <td>0.932584</td>\n",
       "      <td>0.099099</td>\n",
       "      <td>4.879476e-01</td>\n",
       "    </tr>\n",
       "    <tr>\n",
       "      <th>18</th>\n",
       "      <td>0.966292</td>\n",
       "      <td>0.099099</td>\n",
       "      <td>4.718039e-01</td>\n",
       "    </tr>\n",
       "    <tr>\n",
       "      <th>19</th>\n",
       "      <td>0.966292</td>\n",
       "      <td>0.135135</td>\n",
       "      <td>3.240666e-01</td>\n",
       "    </tr>\n",
       "    <tr>\n",
       "      <th>20</th>\n",
       "      <td>0.977528</td>\n",
       "      <td>0.135135</td>\n",
       "      <td>2.819918e-01</td>\n",
       "    </tr>\n",
       "    <tr>\n",
       "      <th>21</th>\n",
       "      <td>0.977528</td>\n",
       "      <td>0.180180</td>\n",
       "      <td>1.988935e-01</td>\n",
       "    </tr>\n",
       "    <tr>\n",
       "      <th>22</th>\n",
       "      <td>0.988764</td>\n",
       "      <td>0.180180</td>\n",
       "      <td>1.937236e-01</td>\n",
       "    </tr>\n",
       "    <tr>\n",
       "      <th>23</th>\n",
       "      <td>0.988764</td>\n",
       "      <td>0.432432</td>\n",
       "      <td>2.052718e-02</td>\n",
       "    </tr>\n",
       "    <tr>\n",
       "      <th>24</th>\n",
       "      <td>1.000000</td>\n",
       "      <td>0.432432</td>\n",
       "      <td>1.058996e-02</td>\n",
       "    </tr>\n",
       "    <tr>\n",
       "      <th>25</th>\n",
       "      <td>1.000000</td>\n",
       "      <td>1.000000</td>\n",
       "      <td>1.289395e-18</td>\n",
       "    </tr>\n",
       "  </tbody>\n",
       "</table>\n",
       "</div>"
      ],
      "text/plain": [
       "         tpr       fpr     threshold\n",
       "0   0.000000  0.000000  2.000000e+00\n",
       "1   0.011236  0.000000  9.999998e-01\n",
       "2   0.528090  0.000000  9.723074e-01\n",
       "3   0.528090  0.009009  9.693742e-01\n",
       "4   0.550562  0.009009  9.616331e-01\n",
       "5   0.550562  0.018018  9.610186e-01\n",
       "6   0.573034  0.018018  9.583437e-01\n",
       "7   0.573034  0.027027  9.555184e-01\n",
       "8   0.741573  0.027027  8.582270e-01\n",
       "9   0.741573  0.036036  8.556092e-01\n",
       "10  0.775281  0.036036  8.372135e-01\n",
       "11  0.775281  0.045045  8.046052e-01\n",
       "12  0.853933  0.045045  7.085217e-01\n",
       "13  0.853933  0.054054  6.885578e-01\n",
       "14  0.887640  0.054054  6.514341e-01\n",
       "15  0.887640  0.072072  6.134061e-01\n",
       "16  0.932584  0.072072  5.391551e-01\n",
       "17  0.932584  0.099099  4.879476e-01\n",
       "18  0.966292  0.099099  4.718039e-01\n",
       "19  0.966292  0.135135  3.240666e-01\n",
       "20  0.977528  0.135135  2.819918e-01\n",
       "21  0.977528  0.180180  1.988935e-01\n",
       "22  0.988764  0.180180  1.937236e-01\n",
       "23  0.988764  0.432432  2.052718e-02\n",
       "24  1.000000  0.432432  1.058996e-02\n",
       "25  1.000000  1.000000  1.289395e-18"
      ]
     },
     "execution_count": 111,
     "metadata": {},
     "output_type": "execute_result"
    }
   ],
   "source": [
    "roc_df = pd.DataFrame({'tpr': tpr,'fpr': fpr, 'threshold': thresholds})\n",
    "roc_df"
   ]
  }
 ],
 "metadata": {
  "kernelspec": {
   "display_name": "Python 3",
   "language": "python",
   "name": "python3"
  },
  "language_info": {
   "codemirror_mode": {
    "name": "ipython",
    "version": 3
   },
   "file_extension": ".py",
   "mimetype": "text/x-python",
   "name": "python",
   "nbconvert_exporter": "python",
   "pygments_lexer": "ipython3",
   "version": "3.7.2"
  }
 },
 "nbformat": 4,
 "nbformat_minor": 2
}
