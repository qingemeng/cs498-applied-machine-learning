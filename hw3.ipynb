{
 "cells": [
  {
   "cell_type": "code",
   "execution_count": 1,
   "metadata": {},
   "outputs": [],
   "source": [
    "import pandas as pd\n",
    "import numpy as np\n",
    "from sklearn.decomposition import PCA"
   ]
  },
  {
   "cell_type": "markdown",
   "metadata": {},
   "source": [
    "## Load data"
   ]
  },
  {
   "cell_type": "code",
   "execution_count": 2,
   "metadata": {},
   "outputs": [],
   "source": [
    "noiseless = np.array(pd.read_csv('data/hw3-data/iris.csv'))"
   ]
  },
  {
   "cell_type": "code",
   "execution_count": 3,
   "metadata": {},
   "outputs": [],
   "source": [
    "noisy1 = np.array(pd.read_csv('data/hw3-data/dataI.csv'))\n",
    "noisy2 = np.array(pd.read_csv('data/hw3-data/dataII.csv'))\n",
    "noisy3 = np.array(pd.read_csv('data/hw3-data/dataIII.csv'))\n",
    "noisy4 = np.array(pd.read_csv('data/hw3-data/dataIV.csv'))\n",
    "noisy5 = np.array(pd.read_csv('data/hw3-data/dataV.csv'))"
   ]
  },
  {
   "cell_type": "code",
   "execution_count": 4,
   "metadata": {},
   "outputs": [],
   "source": [
    "noisy_sets = [noisy1, noisy2, noisy3, noisy4, noisy5]"
   ]
  },
  {
   "cell_type": "code",
   "execution_count": 5,
   "metadata": {},
   "outputs": [],
   "source": [
    "def mse(a, b):\n",
    "    return np.sum((a - b)**2)/a.shape[0]"
   ]
  },
  {
   "cell_type": "code",
   "execution_count": 6,
   "metadata": {},
   "outputs": [],
   "source": [
    "def reduce_noise(X, noisy, n_components):\n",
    "    pca = PCA(n_components=n_components).fit(X)\n",
    "    components = pca.transform(noisy)\n",
    "    return pca.inverse_transform(components)"
   ]
  },
  {
   "cell_type": "markdown",
   "metadata": {},
   "source": [
    "## Reconstruction and MSE"
   ]
  },
  {
   "cell_type": "code",
   "execution_count": 7,
   "metadata": {},
   "outputs": [
    {
     "data": {
      "text/html": [
       "<div>\n",
       "<style scoped>\n",
       "    .dataframe tbody tr th:only-of-type {\n",
       "        vertical-align: middle;\n",
       "    }\n",
       "\n",
       "    .dataframe tbody tr th {\n",
       "        vertical-align: top;\n",
       "    }\n",
       "\n",
       "    .dataframe thead th {\n",
       "        text-align: right;\n",
       "    }\n",
       "</style>\n",
       "<table border=\"1\" class=\"dataframe\">\n",
       "  <thead>\n",
       "    <tr style=\"text-align: right;\">\n",
       "      <th></th>\n",
       "      <th>0N</th>\n",
       "      <th>1N</th>\n",
       "      <th>2N</th>\n",
       "      <th>3N</th>\n",
       "      <th>4N</th>\n",
       "      <th>0c</th>\n",
       "      <th>1c</th>\n",
       "      <th>2c</th>\n",
       "      <th>3c</th>\n",
       "      <th>4c</th>\n",
       "    </tr>\n",
       "  </thead>\n",
       "  <tbody>\n",
       "    <tr>\n",
       "      <th>0</th>\n",
       "      <td>4.542471</td>\n",
       "      <td>0.641093</td>\n",
       "      <td>0.715628</td>\n",
       "      <td>0.908393</td>\n",
       "      <td>1.115658</td>\n",
       "      <td>4.549539</td>\n",
       "      <td>0.648642</td>\n",
       "      <td>0.750621</td>\n",
       "      <td>0.941973</td>\n",
       "      <td>1.115658</td>\n",
       "    </tr>\n",
       "    <tr>\n",
       "      <th>1</th>\n",
       "      <td>4.542471</td>\n",
       "      <td>1.290372</td>\n",
       "      <td>1.967240</td>\n",
       "      <td>2.650841</td>\n",
       "      <td>3.653280</td>\n",
       "      <td>4.557473</td>\n",
       "      <td>1.323462</td>\n",
       "      <td>2.119748</td>\n",
       "      <td>3.027380</td>\n",
       "      <td>3.653280</td>\n",
       "    </tr>\n",
       "    <tr>\n",
       "      <th>2</th>\n",
       "      <td>4.542471</td>\n",
       "      <td>0.799943</td>\n",
       "      <td>0.828083</td>\n",
       "      <td>0.984950</td>\n",
       "      <td>1.194000</td>\n",
       "      <td>4.566199</td>\n",
       "      <td>0.840614</td>\n",
       "      <td>1.207090</td>\n",
       "      <td>1.271192</td>\n",
       "      <td>1.194000</td>\n",
       "    </tr>\n",
       "    <tr>\n",
       "      <th>3</th>\n",
       "      <td>4.542471</td>\n",
       "      <td>1.917768</td>\n",
       "      <td>3.331722</td>\n",
       "      <td>4.548257</td>\n",
       "      <td>5.139267</td>\n",
       "      <td>4.919928</td>\n",
       "      <td>2.835679</td>\n",
       "      <td>4.651435</td>\n",
       "      <td>4.971247</td>\n",
       "      <td>5.139267</td>\n",
       "    </tr>\n",
       "    <tr>\n",
       "      <th>4</th>\n",
       "      <td>4.542471</td>\n",
       "      <td>0.383450</td>\n",
       "      <td>0.175563</td>\n",
       "      <td>0.141784</td>\n",
       "      <td>0.160838</td>\n",
       "      <td>4.543119</td>\n",
       "      <td>0.384614</td>\n",
       "      <td>0.177815</td>\n",
       "      <td>0.144441</td>\n",
       "      <td>0.160838</td>\n",
       "    </tr>\n",
       "  </tbody>\n",
       "</table>\n",
       "</div>"
      ],
      "text/plain": [
       "         0N        1N        2N        3N        4N        0c        1c  \\\n",
       "0  4.542471  0.641093  0.715628  0.908393  1.115658  4.549539  0.648642   \n",
       "1  4.542471  1.290372  1.967240  2.650841  3.653280  4.557473  1.323462   \n",
       "2  4.542471  0.799943  0.828083  0.984950  1.194000  4.566199  0.840614   \n",
       "3  4.542471  1.917768  3.331722  4.548257  5.139267  4.919928  2.835679   \n",
       "4  4.542471  0.383450  0.175563  0.141784  0.160838  4.543119  0.384614   \n",
       "\n",
       "         2c        3c        4c  \n",
       "0  0.750621  0.941973  1.115658  \n",
       "1  2.119748  3.027380  3.653280  \n",
       "2  1.207090  1.271192  1.194000  \n",
       "3  4.651435  4.971247  5.139267  \n",
       "4  0.177815  0.144441  0.160838  "
      ]
     },
     "execution_count": 7,
     "metadata": {},
     "output_type": "execute_result"
    }
   ],
   "source": [
    "result = np.zeros((5, 10))\n",
    "for i, noisy in enumerate(noisy_sets):\n",
    "    for j in range(5):\n",
    "        smoothed_N = reduce_noise(noiseless, noisy, j)\n",
    "        mse_N =  mse(noiseless, smoothed_N)\n",
    "        result[i][j] = mse_N\n",
    "        smoothed_c = reduce_noise(noisy, noisy, j)\n",
    "        mse_c =  mse(noiseless, smoothed_c)\n",
    "        result[i][j+5] = mse_c\n",
    "        \n",
    "        # part 2\n",
    "        if(j == 2 and i == 0):\n",
    "            recon_df = pd.DataFrame(smoothed_c, columns=[\"Sepal.Length\",\"Sepal.Width\",\"Petal.Length\",\"Petal.Width\"])\n",
    "            recon_df.to_csv('reports/hw3/gemengq2-recon.csv',encoding='utf-8', index=False,line_terminator='\\n')    \n",
    "\n",
    "mse_df = pd.DataFrame(result, columns=['0N', '1N', '2N', '3N', '4N', '0c', '1c', '2c', '3c', '4c'])\n",
    "mse_df"
   ]
  },
  {
   "cell_type": "code",
   "execution_count": 8,
   "metadata": {},
   "outputs": [],
   "source": [
    "# part 1\n",
    "mse_df.to_csv('reports/hw3/gemengq2-numbers.csv',encoding='utf-8', index=False,line_terminator='\\n')"
   ]
  }
 ],
 "metadata": {
  "kernelspec": {
   "display_name": "Python 3",
   "language": "python",
   "name": "python3"
  },
  "language_info": {
   "codemirror_mode": {
    "name": "ipython",
    "version": 3
   },
   "file_extension": ".py",
   "mimetype": "text/x-python",
   "name": "python",
   "nbconvert_exporter": "python",
   "pygments_lexer": "ipython3",
   "version": "3.7.2"
  }
 },
 "nbformat": 4,
 "nbformat_minor": 2
}
