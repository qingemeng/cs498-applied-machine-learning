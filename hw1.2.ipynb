{
 "cells": [
  {
   "cell_type": "code",
   "execution_count": 1,
   "metadata": {},
   "outputs": [
    {
     "name": "stderr",
     "output_type": "stream",
     "text": [
      "/Users/qingemeng/Documents/dev/cs498aml/env/lib/python3.7/site-packages/tqdm/autonotebook/__init__.py:14: TqdmExperimentalWarning: Using `tqdm.autonotebook.tqdm` in notebook mode. Use `tqdm.tqdm` instead to force console mode (e.g. in jupyter console)\n",
      "  \" (e.g. in jupyter console)\", TqdmExperimentalWarning)\n"
     ]
    }
   ],
   "source": [
    "from mnist import MNIST\n",
    "from scipy.stats import norm, bernoulli\n",
    "import numpy as np\n",
    "import pandas as pd\n",
    "import math\n",
    "from PIL import Image\n",
    "import matplotlib.pyplot as plt\n",
    "from tqdm.autonotebook import tqdm\n",
    "tqdm.pandas()"
   ]
  },
  {
   "cell_type": "code",
   "execution_count": 2,
   "metadata": {},
   "outputs": [],
   "source": [
    "%matplotlib inline"
   ]
  },
  {
   "cell_type": "markdown",
   "metadata": {},
   "source": [
    "## Read train and test data"
   ]
  },
  {
   "cell_type": "code",
   "execution_count": 3,
   "metadata": {},
   "outputs": [],
   "source": [
    "# http://yann.lecun.com/exdb/mnist/\n",
    "\n",
    "mndata = MNIST('data/mnist_data_files')\n",
    "mndata.gz=True\n",
    "train_images, train_labels = mndata.load_training()"
   ]
  },
  {
   "cell_type": "markdown",
   "metadata": {},
   "source": [
    "### process data and threashold"
   ]
  },
  {
   "cell_type": "code",
   "execution_count": 4,
   "metadata": {},
   "outputs": [],
   "source": [
    "train_images = np.array(train_images)\n",
    "train_labels = np.array(train_labels)"
   ]
  },
  {
   "cell_type": "code",
   "execution_count": 5,
   "metadata": {},
   "outputs": [],
   "source": [
    "train_images = (pd.DataFrame(train_images) > 127).astype(np.int)\n",
    "train_labels = pd.DataFrame(train_labels,columns=[\"label\"])"
   ]
  },
  {
   "cell_type": "code",
   "execution_count": 6,
   "metadata": {},
   "outputs": [
    {
     "name": "stdout",
     "output_type": "stream",
     "text": [
      "(60000, 784)\n",
      "(60000, 1)\n"
     ]
    }
   ],
   "source": [
    "# 60000 rows 28*28 pixels\n",
    "print(train_images.shape) \n",
    "print(train_labels.shape)"
   ]
  },
  {
   "cell_type": "code",
   "execution_count": 7,
   "metadata": {},
   "outputs": [],
   "source": [
    "value_counts = train_labels[\"label\"].value_counts(normalize=True)\n",
    "p_train_labels = pd.DataFrame()\n",
    "p_train_labels['label'] = value_counts.index\n",
    "p_train_labels['probability'] = value_counts.values"
   ]
  },
  {
   "cell_type": "code",
   "execution_count": 8,
   "metadata": {},
   "outputs": [
    {
     "data": {
      "text/html": [
       "<div>\n",
       "<style scoped>\n",
       "    .dataframe tbody tr th:only-of-type {\n",
       "        vertical-align: middle;\n",
       "    }\n",
       "\n",
       "    .dataframe tbody tr th {\n",
       "        vertical-align: top;\n",
       "    }\n",
       "\n",
       "    .dataframe thead th {\n",
       "        text-align: right;\n",
       "    }\n",
       "</style>\n",
       "<table border=\"1\" class=\"dataframe\">\n",
       "  <thead>\n",
       "    <tr style=\"text-align: right;\">\n",
       "      <th></th>\n",
       "      <th>label</th>\n",
       "      <th>probability</th>\n",
       "    </tr>\n",
       "  </thead>\n",
       "  <tbody>\n",
       "    <tr>\n",
       "      <th>0</th>\n",
       "      <td>1</td>\n",
       "      <td>0.112367</td>\n",
       "    </tr>\n",
       "    <tr>\n",
       "      <th>1</th>\n",
       "      <td>7</td>\n",
       "      <td>0.104417</td>\n",
       "    </tr>\n",
       "    <tr>\n",
       "      <th>2</th>\n",
       "      <td>3</td>\n",
       "      <td>0.102183</td>\n",
       "    </tr>\n",
       "    <tr>\n",
       "      <th>3</th>\n",
       "      <td>2</td>\n",
       "      <td>0.099300</td>\n",
       "    </tr>\n",
       "    <tr>\n",
       "      <th>4</th>\n",
       "      <td>9</td>\n",
       "      <td>0.099150</td>\n",
       "    </tr>\n",
       "    <tr>\n",
       "      <th>5</th>\n",
       "      <td>0</td>\n",
       "      <td>0.098717</td>\n",
       "    </tr>\n",
       "    <tr>\n",
       "      <th>6</th>\n",
       "      <td>6</td>\n",
       "      <td>0.098633</td>\n",
       "    </tr>\n",
       "    <tr>\n",
       "      <th>7</th>\n",
       "      <td>8</td>\n",
       "      <td>0.097517</td>\n",
       "    </tr>\n",
       "    <tr>\n",
       "      <th>8</th>\n",
       "      <td>4</td>\n",
       "      <td>0.097367</td>\n",
       "    </tr>\n",
       "    <tr>\n",
       "      <th>9</th>\n",
       "      <td>5</td>\n",
       "      <td>0.090350</td>\n",
       "    </tr>\n",
       "  </tbody>\n",
       "</table>\n",
       "</div>"
      ],
      "text/plain": [
       "   label  probability\n",
       "0      1     0.112367\n",
       "1      7     0.104417\n",
       "2      3     0.102183\n",
       "3      2     0.099300\n",
       "4      9     0.099150\n",
       "5      0     0.098717\n",
       "6      6     0.098633\n",
       "7      8     0.097517\n",
       "8      4     0.097367\n",
       "9      5     0.090350"
      ]
     },
     "execution_count": 8,
     "metadata": {},
     "output_type": "execute_result"
    }
   ],
   "source": [
    "p_train_labels.head(10)"
   ]
  },
  {
   "cell_type": "code",
   "execution_count": 9,
   "metadata": {},
   "outputs": [],
   "source": [
    "test_images, test_labels = mndata.load_testing()"
   ]
  },
  {
   "cell_type": "code",
   "execution_count": 10,
   "metadata": {},
   "outputs": [],
   "source": [
    "test_images = np.array(test_images)\n",
    "test_labels = np.array(test_labels)"
   ]
  },
  {
   "cell_type": "code",
   "execution_count": 11,
   "metadata": {},
   "outputs": [],
   "source": [
    "test_images = (pd.DataFrame(test_images) > 127).astype(np.int)\n",
    "test_labels = pd.DataFrame(test_labels,columns=[\"label\"])"
   ]
  },
  {
   "cell_type": "markdown",
   "metadata": {},
   "source": [
    "## Image processing"
   ]
  },
  {
   "cell_type": "code",
   "execution_count": 13,
   "metadata": {},
   "outputs": [],
   "source": [
    "def stretch_image(ori_image):\n",
    "    img = Image.fromarray(np.array(ori_image).reshape(28, 28).astype('uint8'))\n",
    "    cropped = img.crop(img.getbbox())\n",
    "    stretched = cropped.resize((28,28))\n",
    "    #     imgplot = plt.imshow(stretched)\n",
    "    return pd.Series(np.array(stretched).reshape(ori_image.shape))\n",
    "    \n",
    "def stretch_images(ori_images):\n",
    "    print(\"Stretch images\")\n",
    "    return ori_images.progress_apply(stretch_image, axis=1)"
   ]
  },
  {
   "cell_type": "code",
   "execution_count": 14,
   "metadata": {},
   "outputs": [
    {
     "name": "stdout",
     "output_type": "stream",
     "text": [
      "Stretch images\n"
     ]
    },
    {
     "data": {
      "application/vnd.jupyter.widget-view+json": {
       "model_id": "4d63b75c17d8460bbe24996bbece78c8",
       "version_major": 2,
       "version_minor": 0
      },
      "text/plain": [
       "HBox(children=(IntProgress(value=0, max=60000), HTML(value='')))"
      ]
     },
     "metadata": {},
     "output_type": "display_data"
    },
    {
     "name": "stdout",
     "output_type": "stream",
     "text": [
      "\n",
      "Stretch images\n"
     ]
    },
    {
     "data": {
      "application/vnd.jupyter.widget-view+json": {
       "model_id": "00de6d08ea374e08bc0bd3f7ee345a13",
       "version_major": 2,
       "version_minor": 0
      },
      "text/plain": [
       "HBox(children=(IntProgress(value=0, max=10000), HTML(value='')))"
      ]
     },
     "metadata": {},
     "output_type": "display_data"
    },
    {
     "name": "stdout",
     "output_type": "stream",
     "text": [
      "\n"
     ]
    }
   ],
   "source": [
    "train_strech = stretch_images(train_images)\n",
    "test_strech = stretch_images(test_images)"
   ]
  },
  {
   "cell_type": "code",
   "execution_count": 15,
   "metadata": {},
   "outputs": [],
   "source": [
    "def get_params(label_group, distribution_type):\n",
    "    images_df = label_group.drop(['label'], axis=1)\n",
    "    if(distribution_type == 'gaussian'):\n",
    "        return images_df.apply(lambda x: np.asarray(norm.fit(x)), axis=0)\n",
    "    if(distribution_type == 'bernoulli'):\n",
    "        p_list = []\n",
    "        for c in images_df.columns:\n",
    "            value_count = images_df[c].value_counts(normalize=True)\n",
    "            value = value_count.loc[1] if (1 in value_count.index) else 0\n",
    "            p_list.append(value)\n",
    "        return pd.Series(p_list)"
   ]
  },
  {
   "cell_type": "markdown",
   "metadata": {},
   "source": [
    "## Naive Bayes - normal distribution - untouched"
   ]
  },
  {
   "cell_type": "code",
   "execution_count": 16,
   "metadata": {},
   "outputs": [],
   "source": [
    "def calculate_likelihood_for_each_label(p_label, feature_vec, params, distribution_type):\n",
    "    if(distribution_type == 'gaussian'):\n",
    "        means = params.loc[0]\n",
    "        stds = params.loc[1]\n",
    "        likelihood = np.nansum(norm.logpdf(feature_vec, means, stds))\n",
    "    elif(distribution_type == 'bernoulli'):\n",
    "        p = params\n",
    "        likelihood = np.nansum(bernoulli.logpmf(feature_vec, p))\n",
    "    \n",
    "    likelihood = likelihood + np.log(p_label['probability'])\n",
    "    return np.array([p_label['label'], likelihood])\n",
    "\n",
    "    \n",
    "def get_predict(likelihoods):\n",
    "    max_row = [float(\"-inf\"), float(\"-inf\")]\n",
    "    for likelihood in likelihoods:\n",
    "        if(likelihood[1] > max_row[1]):\n",
    "            max_row = likelihood\n",
    "    return max_row[0]"
   ]
  },
  {
   "cell_type": "markdown",
   "metadata": {},
   "source": [
    "### Evaluate"
   ]
  },
  {
   "cell_type": "code",
   "execution_count": 17,
   "metadata": {},
   "outputs": [],
   "source": [
    "def predict(image, label_params, distribution_type):\n",
    "    likelihoods = []\n",
    "    for index, p_train_label in p_train_labels.iterrows():\n",
    "        params = label_params.loc[p_train_label['label'], :]\n",
    "        likelihoods.append(calculate_likelihood_for_each_label(p_train_label, image, params, distribution_type))\n",
    "        \n",
    "    return get_predict(np.array(likelihoods))\n",
    "\n",
    "# predict(test_images.loc[1])"
   ]
  },
  {
   "cell_type": "code",
   "execution_count": 18,
   "metadata": {},
   "outputs": [],
   "source": [
    "def calculate_accuracy(actual, predicts):\n",
    "    TP = 0\n",
    "    num_total = len(actual)\n",
    "    for i in range(num_total):\n",
    "        if actual[i] == predicts[i]:\n",
    "            TP = TP + 1\n",
    "    return TP/num_total"
   ]
  },
  {
   "cell_type": "markdown",
   "metadata": {},
   "source": [
    "## Entry point"
   ]
  },
  {
   "cell_type": "code",
   "execution_count": 19,
   "metadata": {},
   "outputs": [],
   "source": [
    "def accuracy(distribution, stretched):\n",
    "    train_set = train_images\n",
    "    test_set = test_images\n",
    "    if(stretched):\n",
    "        train_set = train_strech\n",
    "        test_set = test_strech\n",
    "        \n",
    "    train_df = train_set.join(train_labels)\n",
    "    label_params = train_df.groupby(['label']).apply(lambda x: get_params(x, distribution))\n",
    "    if(distribution == 'gaussian'):\n",
    "        assert label_params.shape == (20, 784)\n",
    "    if(distribution == 'bernoulli'):\n",
    "        assert label_params.shape == (10, 784)\n",
    "\n",
    "    print('Get predicts...')\n",
    "    predicts_train = train_set.progress_apply(predict, args=(label_params, distribution, ), axis=1)\n",
    "    predicts_test = test_set.progress_apply(predict, args=(label_params, distribution, ), axis=1)\n",
    "    \n",
    "    return (calculate_accuracy(np.array(train_labels), np.array(predicts_train)), calculate_accuracy(np.array(test_labels), np.array(predicts_test)))"
   ]
  },
  {
   "cell_type": "code",
   "execution_count": 20,
   "metadata": {},
   "outputs": [
    {
     "name": "stdout",
     "output_type": "stream",
     "text": [
      "Get predicts...\n"
     ]
    },
    {
     "data": {
      "application/vnd.jupyter.widget-view+json": {
       "model_id": "9dfadfb6864547128cd9b99193fb0326",
       "version_major": 2,
       "version_minor": 0
      },
      "text/plain": [
       "HBox(children=(IntProgress(value=0, max=60000), HTML(value='')))"
      ]
     },
     "metadata": {},
     "output_type": "display_data"
    },
    {
     "name": "stderr",
     "output_type": "stream",
     "text": [
      "/Users/qingemeng/Documents/dev/cs498aml/env/lib/python3.7/site-packages/scipy/stats/_distn_infrastructure.py:1704: RuntimeWarning: invalid value encountered in true_divide\n",
      "  x = np.asarray((x - loc)/scale, dtype=dtyp)\n",
      "/Users/qingemeng/Documents/dev/cs498aml/env/lib/python3.7/site-packages/scipy/stats/_distn_infrastructure.py:874: RuntimeWarning: invalid value encountered in greater_equal\n",
      "  return (self.a <= x) & (x <= self.b)\n",
      "/Users/qingemeng/Documents/dev/cs498aml/env/lib/python3.7/site-packages/scipy/stats/_distn_infrastructure.py:874: RuntimeWarning: invalid value encountered in less_equal\n",
      "  return (self.a <= x) & (x <= self.b)\n",
      "/Users/qingemeng/Documents/dev/cs498aml/env/lib/python3.7/site-packages/scipy/stats/_distn_infrastructure.py:1704: RuntimeWarning: divide by zero encountered in true_divide\n",
      "  x = np.asarray((x - loc)/scale, dtype=dtyp)\n"
     ]
    },
    {
     "name": "stdout",
     "output_type": "stream",
     "text": [
      "\n"
     ]
    },
    {
     "data": {
      "application/vnd.jupyter.widget-view+json": {
       "model_id": "d654f27ca5fb49adb02b230d695eca41",
       "version_major": 2,
       "version_minor": 0
      },
      "text/plain": [
       "HBox(children=(IntProgress(value=0, max=10000), HTML(value='')))"
      ]
     },
     "metadata": {},
     "output_type": "display_data"
    },
    {
     "name": "stdout",
     "output_type": "stream",
     "text": [
      "\n"
     ]
    },
    {
     "ename": "NameError",
     "evalue": "name 'predicts' is not defined",
     "output_type": "error",
     "traceback": [
      "\u001b[0;31m---------------------------------------------------------------------------\u001b[0m",
      "\u001b[0;31mNameError\u001b[0m                                 Traceback (most recent call last)",
      "\u001b[0;32m<ipython-input-20-05dd1ab6b132>\u001b[0m in \u001b[0;36m<module>\u001b[0;34m\u001b[0m\n\u001b[0;32m----> 1\u001b[0;31m \u001b[0maccuracy_norm_origin\u001b[0m \u001b[0;34m=\u001b[0m \u001b[0maccuracy\u001b[0m\u001b[0;34m(\u001b[0m\u001b[0;34m'gaussian'\u001b[0m\u001b[0;34m,\u001b[0m \u001b[0;32mFalse\u001b[0m\u001b[0;34m)\u001b[0m\u001b[0;34m\u001b[0m\u001b[0;34m\u001b[0m\u001b[0m\n\u001b[0m\u001b[1;32m      2\u001b[0m \u001b[0maccuracy_norm_stretched\u001b[0m \u001b[0;34m=\u001b[0m \u001b[0maccuracy\u001b[0m\u001b[0;34m(\u001b[0m\u001b[0;34m'gaussian'\u001b[0m\u001b[0;34m,\u001b[0m \u001b[0;32mTrue\u001b[0m\u001b[0;34m)\u001b[0m\u001b[0;34m\u001b[0m\u001b[0;34m\u001b[0m\u001b[0m\n\u001b[1;32m      3\u001b[0m \u001b[0maccuracy_bernoulli_origin\u001b[0m \u001b[0;34m=\u001b[0m \u001b[0maccuracy\u001b[0m\u001b[0;34m(\u001b[0m\u001b[0;34m'bernoulli'\u001b[0m\u001b[0;34m,\u001b[0m \u001b[0;32mFalse\u001b[0m\u001b[0;34m)\u001b[0m\u001b[0;34m\u001b[0m\u001b[0;34m\u001b[0m\u001b[0m\n\u001b[1;32m      4\u001b[0m \u001b[0maccuracy_bernoulli_streched\u001b[0m \u001b[0;34m=\u001b[0m \u001b[0maccuracy\u001b[0m\u001b[0;34m(\u001b[0m\u001b[0;34m'bernoulli'\u001b[0m\u001b[0;34m,\u001b[0m \u001b[0;32mTrue\u001b[0m\u001b[0;34m)\u001b[0m\u001b[0;34m\u001b[0m\u001b[0;34m\u001b[0m\u001b[0m\n",
      "\u001b[0;32m<ipython-input-19-b7bc930f7b28>\u001b[0m in \u001b[0;36maccuracy\u001b[0;34m(distribution, stretched)\u001b[0m\n\u001b[1;32m     17\u001b[0m     \u001b[0mpredicts_test\u001b[0m \u001b[0;34m=\u001b[0m \u001b[0mtest_set\u001b[0m\u001b[0;34m.\u001b[0m\u001b[0mprogress_apply\u001b[0m\u001b[0;34m(\u001b[0m\u001b[0mpredict\u001b[0m\u001b[0;34m,\u001b[0m \u001b[0margs\u001b[0m\u001b[0;34m=\u001b[0m\u001b[0;34m(\u001b[0m\u001b[0mlabel_params\u001b[0m\u001b[0;34m,\u001b[0m \u001b[0mdistribution\u001b[0m\u001b[0;34m,\u001b[0m \u001b[0;34m)\u001b[0m\u001b[0;34m,\u001b[0m \u001b[0maxis\u001b[0m\u001b[0;34m=\u001b[0m\u001b[0;36m1\u001b[0m\u001b[0;34m)\u001b[0m\u001b[0;34m\u001b[0m\u001b[0;34m\u001b[0m\u001b[0m\n\u001b[1;32m     18\u001b[0m \u001b[0;34m\u001b[0m\u001b[0m\n\u001b[0;32m---> 19\u001b[0;31m     \u001b[0;32mreturn\u001b[0m \u001b[0;34m(\u001b[0m\u001b[0mcalculate_accuracy\u001b[0m\u001b[0;34m(\u001b[0m\u001b[0mnp\u001b[0m\u001b[0;34m.\u001b[0m\u001b[0marray\u001b[0m\u001b[0;34m(\u001b[0m\u001b[0mtrain_labels\u001b[0m\u001b[0;34m)\u001b[0m\u001b[0;34m,\u001b[0m \u001b[0mnp\u001b[0m\u001b[0;34m.\u001b[0m\u001b[0marray\u001b[0m\u001b[0;34m(\u001b[0m\u001b[0mpredicts\u001b[0m\u001b[0;34m)\u001b[0m\u001b[0;34m)\u001b[0m\u001b[0;34m,\u001b[0m \u001b[0mcalculate_accuracy\u001b[0m\u001b[0;34m(\u001b[0m\u001b[0mnp\u001b[0m\u001b[0;34m.\u001b[0m\u001b[0marray\u001b[0m\u001b[0;34m(\u001b[0m\u001b[0mtest_labels\u001b[0m\u001b[0;34m)\u001b[0m\u001b[0;34m,\u001b[0m \u001b[0mnp\u001b[0m\u001b[0;34m.\u001b[0m\u001b[0marray\u001b[0m\u001b[0;34m(\u001b[0m\u001b[0mpredicts\u001b[0m\u001b[0;34m)\u001b[0m\u001b[0;34m)\u001b[0m\u001b[0;34m)\u001b[0m\u001b[0;34m\u001b[0m\u001b[0;34m\u001b[0m\u001b[0m\n\u001b[0m",
      "\u001b[0;31mNameError\u001b[0m: name 'predicts' is not defined"
     ]
    }
   ],
   "source": [
    "accuracy_norm_origin = accuracy('gaussian', False)\n",
    "accuracy_norm_stretched = accuracy('gaussian', True)\n",
    "accuracy_bernoulli_origin = accuracy('bernoulli', False)\n",
    "accuracy_bernoulli_streched = accuracy('bernoulli', True)"
   ]
  },
  {
   "cell_type": "code",
   "execution_count": null,
   "metadata": {},
   "outputs": [],
   "source": [
    "accuracy_norm_origin, accuracy_norm_stretched, accuracy_bernoulli_origin, accuracy_bernoulli_streched"
   ]
  },
  {
   "cell_type": "markdown",
   "metadata": {},
   "source": [
    "## RandomForestClassifier"
   ]
  },
  {
   "cell_type": "code",
   "execution_count": null,
   "metadata": {},
   "outputs": [],
   "source": [
    "from sklearn.ensemble import RandomForestClassifier"
   ]
  },
  {
   "cell_type": "code",
   "execution_count": null,
   "metadata": {},
   "outputs": [],
   "source": [
    "def rfc_accuracy(classifier, stretched):\n",
    "    train_set = train_images\n",
    "    test_set = test_images\n",
    "    if(stretched):\n",
    "        train_set = train_strech\n",
    "        test_set = test_strech\n",
    "    classifier.fit(train_set, train_labels)\n",
    "    return classifier.score(train_set, train_labels), classifier.score(test_set, test_labels) "
   ]
  },
  {
   "cell_type": "code",
   "execution_count": null,
   "metadata": {},
   "outputs": [],
   "source": [
    "classifier10_4 = RandomForestClassifier(n_estimators=10, max_depth=4, n_jobs=10)\n",
    "classifier10_16 = RandomForestClassifier(n_estimators=10, max_depth=16, n_jobs=10)\n",
    "classifier30_4 = RandomForestClassifier(n_estimators=30, max_depth=4, n_jobs=10)\n",
    "classifier30_16 = RandomForestClassifier(n_estimators=30, max_depth=16, n_jobs=10)"
   ]
  },
  {
   "cell_type": "code",
   "execution_count": null,
   "metadata": {},
   "outputs": [],
   "source": [
    "acc_rfc1 = rfc_accuracy(classifier10_4, stretched = True)\n",
    "acc_rfc2 = rfc_accuracy(classifier10_16, stretched = True)\n",
    "acc_rfc3 = rfc_accuracy(classifier30_4, stretched = True)\n",
    "acc_rfc4 = rfc_accuracy(classifier30_16, stretched = True)\n",
    "acc_rfc5 = rfc_accuracy(classifier10_4, stretched = False)\n",
    "acc_rfc6 = rfc_accuracy(classifier10_16, stretched = False)\n",
    "acc_rfc7 = rfc_accuracy(classifier30_4, stretched = False)\n",
    "acc_rfc8 = rfc_accuracy(classifier30_16, stretched = False)"
   ]
  },
  {
   "cell_type": "code",
   "execution_count": null,
   "metadata": {},
   "outputs": [],
   "source": [
    "acc_rfc1, acc_rfc2, acc_rfc3, acc_rfc4, acc_rfc5, acc_rfc6, acc_rfc7, acc_rfc8"
   ]
  },
  {
   "cell_type": "code",
   "execution_count": null,
   "metadata": {},
   "outputs": [],
   "source": []
  }
 ],
 "metadata": {
  "kernelspec": {
   "display_name": "Python 3",
   "language": "python",
   "name": "python3"
  },
  "language_info": {
   "codemirror_mode": {
    "name": "ipython",
    "version": 3
   },
   "file_extension": ".py",
   "mimetype": "text/x-python",
   "name": "python",
   "nbconvert_exporter": "python",
   "pygments_lexer": "ipython3",
   "version": "3.7.2"
  }
 },
 "nbformat": 4,
 "nbformat_minor": 2
}
