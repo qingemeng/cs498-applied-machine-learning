{
 "cells": [
  {
   "cell_type": "code",
   "execution_count": 19,
   "metadata": {},
   "outputs": [],
   "source": [
    "import pandas as pd\n",
    "import numpy as np\n",
    "from scipy.stats import norm"
   ]
  },
  {
   "cell_type": "markdown",
   "metadata": {},
   "source": [
    "## Read data"
   ]
  },
  {
   "cell_type": "code",
   "execution_count": 8,
   "metadata": {},
   "outputs": [],
   "source": [
    "column_names = ['Pregnancies', 'Glucose', 'BloodPressure', 'SkinThickness', 'Insulin', 'BMI', 'DiabetesPedigreeFunction', 'Age', 'Class']\n",
    "features = column_names[:8]\n",
    "df = pd.read_csv('data/pima-indians-diabetes.csv', names=column_names)"
   ]
  },
  {
   "cell_type": "code",
   "execution_count": 9,
   "metadata": {},
   "outputs": [
    {
     "data": {
      "text/html": [
       "<div>\n",
       "<style scoped>\n",
       "    .dataframe tbody tr th:only-of-type {\n",
       "        vertical-align: middle;\n",
       "    }\n",
       "\n",
       "    .dataframe tbody tr th {\n",
       "        vertical-align: top;\n",
       "    }\n",
       "\n",
       "    .dataframe thead th {\n",
       "        text-align: right;\n",
       "    }\n",
       "</style>\n",
       "<table border=\"1\" class=\"dataframe\">\n",
       "  <thead>\n",
       "    <tr style=\"text-align: right;\">\n",
       "      <th></th>\n",
       "      <th>Pregnancies</th>\n",
       "      <th>Glucose</th>\n",
       "      <th>BloodPressure</th>\n",
       "      <th>SkinThickness</th>\n",
       "      <th>Insulin</th>\n",
       "      <th>BMI</th>\n",
       "      <th>DiabetesPedigreeFunction</th>\n",
       "      <th>Age</th>\n",
       "      <th>Class</th>\n",
       "    </tr>\n",
       "  </thead>\n",
       "  <tbody>\n",
       "    <tr>\n",
       "      <th>0</th>\n",
       "      <td>6</td>\n",
       "      <td>148</td>\n",
       "      <td>72</td>\n",
       "      <td>35</td>\n",
       "      <td>0</td>\n",
       "      <td>33.6</td>\n",
       "      <td>0.627</td>\n",
       "      <td>50</td>\n",
       "      <td>1</td>\n",
       "    </tr>\n",
       "    <tr>\n",
       "      <th>1</th>\n",
       "      <td>1</td>\n",
       "      <td>85</td>\n",
       "      <td>66</td>\n",
       "      <td>29</td>\n",
       "      <td>0</td>\n",
       "      <td>26.6</td>\n",
       "      <td>0.351</td>\n",
       "      <td>31</td>\n",
       "      <td>0</td>\n",
       "    </tr>\n",
       "    <tr>\n",
       "      <th>2</th>\n",
       "      <td>8</td>\n",
       "      <td>183</td>\n",
       "      <td>64</td>\n",
       "      <td>0</td>\n",
       "      <td>0</td>\n",
       "      <td>23.3</td>\n",
       "      <td>0.672</td>\n",
       "      <td>32</td>\n",
       "      <td>1</td>\n",
       "    </tr>\n",
       "    <tr>\n",
       "      <th>3</th>\n",
       "      <td>1</td>\n",
       "      <td>89</td>\n",
       "      <td>66</td>\n",
       "      <td>23</td>\n",
       "      <td>94</td>\n",
       "      <td>28.1</td>\n",
       "      <td>0.167</td>\n",
       "      <td>21</td>\n",
       "      <td>0</td>\n",
       "    </tr>\n",
       "    <tr>\n",
       "      <th>4</th>\n",
       "      <td>0</td>\n",
       "      <td>137</td>\n",
       "      <td>40</td>\n",
       "      <td>35</td>\n",
       "      <td>168</td>\n",
       "      <td>43.1</td>\n",
       "      <td>2.288</td>\n",
       "      <td>33</td>\n",
       "      <td>1</td>\n",
       "    </tr>\n",
       "  </tbody>\n",
       "</table>\n",
       "</div>"
      ],
      "text/plain": [
       "   Pregnancies  Glucose  BloodPressure  SkinThickness  Insulin   BMI  \\\n",
       "0            6      148             72             35        0  33.6   \n",
       "1            1       85             66             29        0  26.6   \n",
       "2            8      183             64              0        0  23.3   \n",
       "3            1       89             66             23       94  28.1   \n",
       "4            0      137             40             35      168  43.1   \n",
       "\n",
       "   DiabetesPedigreeFunction  Age  Class  \n",
       "0                     0.627   50      1  \n",
       "1                     0.351   31      0  \n",
       "2                     0.672   32      1  \n",
       "3                     0.167   21      0  \n",
       "4                     2.288   33      1  "
      ]
     },
     "execution_count": 9,
     "metadata": {},
     "output_type": "execute_result"
    }
   ],
   "source": [
    "df.head()"
   ]
  },
  {
   "cell_type": "markdown",
   "metadata": {},
   "source": [
    "## Util functions to split data"
   ]
  },
  {
   "cell_type": "code",
   "execution_count": 10,
   "metadata": {},
   "outputs": [],
   "source": [
    "def splitData(df, train_test_ratio):\n",
    "    train_set = df.sample(frac=train_test_ratio)\n",
    "    test_set = df.sample(frac=(1 - train_test_ratio))\n",
    "    return train_set, test_set"
   ]
  },
  {
   "cell_type": "code",
   "execution_count": 11,
   "metadata": {},
   "outputs": [],
   "source": [
    "train_set, test_set = splitData(df, 0.8)\n",
    "assert test_set.shape[0] + train_set.shape[0] == df.shape[0]"
   ]
  },
  {
   "cell_type": "code",
   "execution_count": 12,
   "metadata": {},
   "outputs": [
    {
     "name": "stdout",
     "output_type": "stream",
     "text": [
      "(614, 9)\n"
     ]
    },
    {
     "data": {
      "text/html": [
       "<div>\n",
       "<style scoped>\n",
       "    .dataframe tbody tr th:only-of-type {\n",
       "        vertical-align: middle;\n",
       "    }\n",
       "\n",
       "    .dataframe tbody tr th {\n",
       "        vertical-align: top;\n",
       "    }\n",
       "\n",
       "    .dataframe thead th {\n",
       "        text-align: right;\n",
       "    }\n",
       "</style>\n",
       "<table border=\"1\" class=\"dataframe\">\n",
       "  <thead>\n",
       "    <tr style=\"text-align: right;\">\n",
       "      <th></th>\n",
       "      <th>Pregnancies</th>\n",
       "      <th>Glucose</th>\n",
       "      <th>BloodPressure</th>\n",
       "      <th>SkinThickness</th>\n",
       "      <th>Insulin</th>\n",
       "      <th>BMI</th>\n",
       "      <th>DiabetesPedigreeFunction</th>\n",
       "      <th>Age</th>\n",
       "      <th>Class</th>\n",
       "    </tr>\n",
       "  </thead>\n",
       "  <tbody>\n",
       "    <tr>\n",
       "      <th>29</th>\n",
       "      <td>5</td>\n",
       "      <td>117</td>\n",
       "      <td>92</td>\n",
       "      <td>0</td>\n",
       "      <td>0</td>\n",
       "      <td>34.1</td>\n",
       "      <td>0.337</td>\n",
       "      <td>38</td>\n",
       "      <td>0</td>\n",
       "    </tr>\n",
       "    <tr>\n",
       "      <th>329</th>\n",
       "      <td>6</td>\n",
       "      <td>105</td>\n",
       "      <td>70</td>\n",
       "      <td>32</td>\n",
       "      <td>68</td>\n",
       "      <td>30.8</td>\n",
       "      <td>0.122</td>\n",
       "      <td>37</td>\n",
       "      <td>0</td>\n",
       "    </tr>\n",
       "    <tr>\n",
       "      <th>195</th>\n",
       "      <td>5</td>\n",
       "      <td>158</td>\n",
       "      <td>84</td>\n",
       "      <td>41</td>\n",
       "      <td>210</td>\n",
       "      <td>39.4</td>\n",
       "      <td>0.395</td>\n",
       "      <td>29</td>\n",
       "      <td>1</td>\n",
       "    </tr>\n",
       "    <tr>\n",
       "      <th>604</th>\n",
       "      <td>4</td>\n",
       "      <td>183</td>\n",
       "      <td>0</td>\n",
       "      <td>0</td>\n",
       "      <td>0</td>\n",
       "      <td>28.4</td>\n",
       "      <td>0.212</td>\n",
       "      <td>36</td>\n",
       "      <td>1</td>\n",
       "    </tr>\n",
       "    <tr>\n",
       "      <th>310</th>\n",
       "      <td>6</td>\n",
       "      <td>80</td>\n",
       "      <td>66</td>\n",
       "      <td>30</td>\n",
       "      <td>0</td>\n",
       "      <td>26.2</td>\n",
       "      <td>0.313</td>\n",
       "      <td>41</td>\n",
       "      <td>0</td>\n",
       "    </tr>\n",
       "  </tbody>\n",
       "</table>\n",
       "</div>"
      ],
      "text/plain": [
       "     Pregnancies  Glucose  BloodPressure  SkinThickness  Insulin   BMI  \\\n",
       "29             5      117             92              0        0  34.1   \n",
       "329            6      105             70             32       68  30.8   \n",
       "195            5      158             84             41      210  39.4   \n",
       "604            4      183              0              0        0  28.4   \n",
       "310            6       80             66             30        0  26.2   \n",
       "\n",
       "     DiabetesPedigreeFunction  Age  Class  \n",
       "29                      0.337   38      0  \n",
       "329                     0.122   37      0  \n",
       "195                     0.395   29      1  \n",
       "604                     0.212   36      1  \n",
       "310                     0.313   41      0  "
      ]
     },
     "execution_count": 12,
     "metadata": {},
     "output_type": "execute_result"
    }
   ],
   "source": [
    "print(train_set.shape)\n",
    "train_set.head()"
   ]
  },
  {
   "cell_type": "code",
   "execution_count": 13,
   "metadata": {},
   "outputs": [
    {
     "name": "stdout",
     "output_type": "stream",
     "text": [
      "(154, 9)\n"
     ]
    },
    {
     "data": {
      "text/html": [
       "<div>\n",
       "<style scoped>\n",
       "    .dataframe tbody tr th:only-of-type {\n",
       "        vertical-align: middle;\n",
       "    }\n",
       "\n",
       "    .dataframe tbody tr th {\n",
       "        vertical-align: top;\n",
       "    }\n",
       "\n",
       "    .dataframe thead th {\n",
       "        text-align: right;\n",
       "    }\n",
       "</style>\n",
       "<table border=\"1\" class=\"dataframe\">\n",
       "  <thead>\n",
       "    <tr style=\"text-align: right;\">\n",
       "      <th></th>\n",
       "      <th>Pregnancies</th>\n",
       "      <th>Glucose</th>\n",
       "      <th>BloodPressure</th>\n",
       "      <th>SkinThickness</th>\n",
       "      <th>Insulin</th>\n",
       "      <th>BMI</th>\n",
       "      <th>DiabetesPedigreeFunction</th>\n",
       "      <th>Age</th>\n",
       "      <th>Class</th>\n",
       "    </tr>\n",
       "  </thead>\n",
       "  <tbody>\n",
       "    <tr>\n",
       "      <th>48</th>\n",
       "      <td>7</td>\n",
       "      <td>103</td>\n",
       "      <td>66</td>\n",
       "      <td>32</td>\n",
       "      <td>0</td>\n",
       "      <td>39.1</td>\n",
       "      <td>0.344</td>\n",
       "      <td>31</td>\n",
       "      <td>1</td>\n",
       "    </tr>\n",
       "    <tr>\n",
       "      <th>409</th>\n",
       "      <td>1</td>\n",
       "      <td>172</td>\n",
       "      <td>68</td>\n",
       "      <td>49</td>\n",
       "      <td>579</td>\n",
       "      <td>42.4</td>\n",
       "      <td>0.702</td>\n",
       "      <td>28</td>\n",
       "      <td>1</td>\n",
       "    </tr>\n",
       "    <tr>\n",
       "      <th>306</th>\n",
       "      <td>10</td>\n",
       "      <td>161</td>\n",
       "      <td>68</td>\n",
       "      <td>23</td>\n",
       "      <td>132</td>\n",
       "      <td>25.5</td>\n",
       "      <td>0.326</td>\n",
       "      <td>47</td>\n",
       "      <td>1</td>\n",
       "    </tr>\n",
       "    <tr>\n",
       "      <th>537</th>\n",
       "      <td>0</td>\n",
       "      <td>57</td>\n",
       "      <td>60</td>\n",
       "      <td>0</td>\n",
       "      <td>0</td>\n",
       "      <td>21.7</td>\n",
       "      <td>0.735</td>\n",
       "      <td>67</td>\n",
       "      <td>0</td>\n",
       "    </tr>\n",
       "    <tr>\n",
       "      <th>714</th>\n",
       "      <td>3</td>\n",
       "      <td>102</td>\n",
       "      <td>74</td>\n",
       "      <td>0</td>\n",
       "      <td>0</td>\n",
       "      <td>29.5</td>\n",
       "      <td>0.121</td>\n",
       "      <td>32</td>\n",
       "      <td>0</td>\n",
       "    </tr>\n",
       "  </tbody>\n",
       "</table>\n",
       "</div>"
      ],
      "text/plain": [
       "     Pregnancies  Glucose  BloodPressure  SkinThickness  Insulin   BMI  \\\n",
       "48             7      103             66             32        0  39.1   \n",
       "409            1      172             68             49      579  42.4   \n",
       "306           10      161             68             23      132  25.5   \n",
       "537            0       57             60              0        0  21.7   \n",
       "714            3      102             74              0        0  29.5   \n",
       "\n",
       "     DiabetesPedigreeFunction  Age  Class  \n",
       "48                      0.344   31      1  \n",
       "409                     0.702   28      1  \n",
       "306                     0.326   47      1  \n",
       "537                     0.735   67      0  \n",
       "714                     0.121   32      0  "
      ]
     },
     "execution_count": 13,
     "metadata": {},
     "output_type": "execute_result"
    }
   ],
   "source": [
    "print(test_set.shape)\n",
    "test_set.head()"
   ]
  },
  {
   "cell_type": "markdown",
   "metadata": {},
   "source": [
    "## Get labels from data set"
   ]
  },
  {
   "cell_type": "code",
   "execution_count": 14,
   "metadata": {},
   "outputs": [],
   "source": [
    "def get_class_probobilities_and_names(train_set):\n",
    "    value_counts = train_set.Class.value_counts(normalize=True)\n",
    "    p_labels = value_counts\n",
    "    labels = value_counts.index\n",
    "    return p_labels, labels"
   ]
  },
  {
   "cell_type": "markdown",
   "metadata": {},
   "source": [
    "## Calculate params"
   ]
  },
  {
   "cell_type": "code",
   "execution_count": 15,
   "metadata": {},
   "outputs": [],
   "source": [
    "def calculate_mean(data, ignore_missing_value):\n",
    "    if ignore_missing_value:\n",
    "        data[data == 0] = np.nan\n",
    "        mean = np.nanmean(data)\n",
    "        return mean\n",
    "    return np.mean(data)\n",
    "\n",
    "# for each class, each feature, calculate mean and variance\n",
    "def get_class_feature_summary(train_set, ignore_missing_value):\n",
    "    summary_df = pd.DataFrame(columns=['Class', 'Feature', 'Mean', 'Var'])\n",
    "    i = 0\n",
    "    p_classes, classes = get_class_probobilities_and_names(train_set)\n",
    "    for label in classes:\n",
    "        each_class_df = train_set[train_set['Class']==label]\n",
    "        each_class_df = each_class_df.drop(labels='Class', axis=1) \n",
    "        for column in each_class_df:\n",
    "            feature_data = each_class_df[column]\n",
    "            each_feature_mean = calculate_mean(feature_data, ((column in ['BloodPressure', 'SkinThickness', 'BMI', 'Age']) and ignore_missing_value))\n",
    "            each_feature_var = np.var(feature_data)\n",
    "            summary_df.loc[i] = [label, column, each_feature_mean, each_feature_var]\n",
    "            i = i + 1\n",
    "    return summary_df\n",
    "    "
   ]
  },
  {
   "cell_type": "markdown",
   "metadata": {},
   "source": [
    "## Pridict"
   ]
  },
  {
   "cell_type": "code",
   "execution_count": 16,
   "metadata": {},
   "outputs": [],
   "source": [
    "def get_mean_var(df, klass, feature):\n",
    "    row = df[(df['Class']==klass) & (df['Feature']==feature)]\n",
    "    return row['Mean'], row['Var']\n",
    "\n",
    "# for each class, get the log p(class|feature_vec) value and return the max\n",
    "def predict(class_feature_summary, feature_vec):\n",
    "    p_classes, classes = get_class_probobilities_and_names(train_set)\n",
    "    probabilities = {}\n",
    "    for klass in classes:\n",
    "        log_sum = 0\n",
    "        for i, feature in enumerate(feature_vec, start=0):\n",
    "            mean, var = get_mean_var(class_feature_summary, klass, features[i])\n",
    "            log_sum = log_sum + np.log(norm.pdf(feature, mean , np.sqrt(var)))[0]\n",
    "        log_sum = log_sum + np.log(p_classes[klass])\n",
    "        probabilities[klass] = log_sum\n",
    "    if (probabilities[0] > probabilities[1]):\n",
    "        return 0\n",
    "    return 1"
   ]
  },
  {
   "cell_type": "markdown",
   "metadata": {},
   "source": [
    "## Evaluate"
   ]
  },
  {
   "cell_type": "code",
   "execution_count": 17,
   "metadata": {},
   "outputs": [],
   "source": [
    "def calculate_accuracy(actual, predicts):\n",
    "    TP = 0\n",
    "    num_total = len(actual)\n",
    "    for i in range(num_total):\n",
    "        if actual[i] == predicts[i]:\n",
    "            TP = TP + 1\n",
    "    return TP/num_total"
   ]
  },
  {
   "cell_type": "code",
   "execution_count": 18,
   "metadata": {},
   "outputs": [],
   "source": [
    "def get_accuracy_for_one_iteration(ignore_missing_value):\n",
    "    test_set, test_set = splitData(df, 0.8)\n",
    "    summary = get_class_feature_summary(train_set, ignore_missing_value)\n",
    "    predicts = test_set.apply(lambda x: predict(summary, x[:8]), axis=1)\n",
    "    accuracy = calculate_accuracy(test_set.Class.tolist(), predicts.tolist())\n",
    "    return accuracy\n",
    "\n",
    "def get_avg_accuracy(iteration, ignore_missing_value):\n",
    "    avg_accuracy = 0\n",
    "    for i in range(iteration):\n",
    "        print(f'Itr {i + 1}')\n",
    "        accuracy = get_accuracy_for_one_iteration(ignore_missing_value)\n",
    "        print(f\"accuracy: {accuracy}\")\n",
    "        avg_accuracy = (avg_accuracy * i + accuracy)/(i+1)\n",
    "        print(f\"avg_accuracy: {avg_accuracy}\")\n",
    "        print(\"\\n\")\n",
    "    return avg_accuracy\n"
   ]
  },
  {
   "cell_type": "markdown",
   "metadata": {},
   "source": [
    "## Run 10 times and calculate average accuracy (with missing values)"
   ]
  },
  {
   "cell_type": "code",
   "execution_count": 21,
   "metadata": {},
   "outputs": [
    {
     "name": "stdout",
     "output_type": "stream",
     "text": [
      "Itr 1\n",
      "accuracy: 0.7922077922077922\n",
      "avg_accuracy: 0.7922077922077922\n",
      "\n",
      "\n",
      "Itr 2\n",
      "accuracy: 0.7597402597402597\n",
      "avg_accuracy: 0.775974025974026\n",
      "\n",
      "\n",
      "Itr 3\n",
      "accuracy: 0.7727272727272727\n",
      "avg_accuracy: 0.774891774891775\n",
      "\n",
      "\n",
      "Itr 4\n",
      "accuracy: 0.7467532467532467\n",
      "avg_accuracy: 0.7678571428571429\n",
      "\n",
      "\n",
      "Itr 5\n",
      "accuracy: 0.7857142857142857\n",
      "avg_accuracy: 0.7714285714285715\n",
      "\n",
      "\n",
      "Itr 6\n",
      "accuracy: 0.7532467532467533\n",
      "avg_accuracy: 0.7683982683982684\n",
      "\n",
      "\n",
      "Itr 7\n",
      "accuracy: 0.7857142857142857\n",
      "avg_accuracy: 0.7708719851576994\n",
      "\n",
      "\n",
      "Itr 8\n",
      "accuracy: 0.7532467532467533\n",
      "avg_accuracy: 0.7686688311688312\n",
      "\n",
      "\n",
      "Itr 9\n",
      "accuracy: 0.7402597402597403\n",
      "avg_accuracy: 0.7655122655122656\n",
      "\n",
      "\n",
      "Itr 10\n",
      "accuracy: 0.7662337662337663\n",
      "avg_accuracy: 0.7655844155844156\n",
      "\n",
      "\n"
     ]
    }
   ],
   "source": [
    "avg_accuracy1a = get_avg_accuracy(10, ignore_missing_value=False)"
   ]
  },
  {
   "cell_type": "markdown",
   "metadata": {},
   "source": [
    "## Run 10 times and calculate average accuracy (without missing values)"
   ]
  },
  {
   "cell_type": "code",
   "execution_count": 20,
   "metadata": {},
   "outputs": [
    {
     "name": "stdout",
     "output_type": "stream",
     "text": [
      "Itr 1\n"
     ]
    },
    {
     "name": "stderr",
     "output_type": "stream",
     "text": [
      "/Users/qingemeng/Documents/dev/cs498aml/env/lib/python3.7/site-packages/ipykernel_launcher.py:3: SettingWithCopyWarning: \n",
      "A value is trying to be set on a copy of a slice from a DataFrame\n",
      "\n",
      "See the caveats in the documentation: http://pandas.pydata.org/pandas-docs/stable/indexing.html#indexing-view-versus-copy\n",
      "  This is separate from the ipykernel package so we can avoid doing imports until\n"
     ]
    },
    {
     "name": "stdout",
     "output_type": "stream",
     "text": [
      "accuracy: 0.7467532467532467\n",
      "avg_accuracy: 0.7467532467532467\n",
      "\n",
      "\n",
      "Itr 2\n",
      "accuracy: 0.7337662337662337\n",
      "avg_accuracy: 0.7402597402597402\n",
      "\n",
      "\n",
      "Itr 3\n",
      "accuracy: 0.7597402597402597\n",
      "avg_accuracy: 0.7467532467532467\n",
      "\n",
      "\n",
      "Itr 4\n",
      "accuracy: 0.7467532467532467\n",
      "avg_accuracy: 0.7467532467532467\n",
      "\n",
      "\n",
      "Itr 5\n",
      "accuracy: 0.7207792207792207\n",
      "avg_accuracy: 0.7415584415584415\n",
      "\n",
      "\n",
      "Itr 6\n",
      "accuracy: 0.7857142857142857\n",
      "avg_accuracy: 0.7489177489177489\n",
      "\n",
      "\n",
      "Itr 7\n",
      "accuracy: 0.7012987012987013\n",
      "avg_accuracy: 0.7421150278293135\n",
      "\n",
      "\n",
      "Itr 8\n",
      "accuracy: 0.7792207792207793\n",
      "avg_accuracy: 0.7467532467532467\n",
      "\n",
      "\n",
      "Itr 9\n",
      "accuracy: 0.7467532467532467\n",
      "avg_accuracy: 0.7467532467532467\n",
      "\n",
      "\n",
      "Itr 10\n",
      "accuracy: 0.7792207792207793\n",
      "avg_accuracy: 0.75\n",
      "\n",
      "\n"
     ]
    }
   ],
   "source": [
    "avg_accuracy1b = get_avg_accuracy(10, ignore_missing_value=True)"
   ]
  },
  {
   "cell_type": "code",
   "execution_count": null,
   "metadata": {},
   "outputs": [],
   "source": []
  }
 ],
 "metadata": {
  "kernelspec": {
   "display_name": "Python 3",
   "language": "python",
   "name": "python3"
  },
  "language_info": {
   "codemirror_mode": {
    "name": "ipython",
    "version": 3
   },
   "file_extension": ".py",
   "mimetype": "text/x-python",
   "name": "python",
   "nbconvert_exporter": "python",
   "pygments_lexer": "ipython3",
   "version": "3.7.2"
  }
 },
 "nbformat": 4,
 "nbformat_minor": 2
}
