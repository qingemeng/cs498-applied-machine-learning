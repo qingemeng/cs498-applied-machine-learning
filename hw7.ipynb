{
 "cells": [
  {
   "cell_type": "code",
   "execution_count": 154,
   "metadata": {},
   "outputs": [],
   "source": [
    "import pandas as pd\n",
    "import numpy as np\n",
    "import matplotlib.pyplot as plt\n",
    "from sklearn.feature_extraction.text import CountVectorizer\n",
    "from sklearn import metrics\n",
    "\n",
    "from nltk.stem.snowball import EnglishStemmer"
   ]
  },
  {
   "cell_type": "code",
   "execution_count": 2,
   "metadata": {},
   "outputs": [
    {
     "data": {
      "text/html": [
       "<div>\n",
       "<style scoped>\n",
       "    .dataframe tbody tr th:only-of-type {\n",
       "        vertical-align: middle;\n",
       "    }\n",
       "\n",
       "    .dataframe tbody tr th {\n",
       "        vertical-align: top;\n",
       "    }\n",
       "\n",
       "    .dataframe thead th {\n",
       "        text-align: right;\n",
       "    }\n",
       "</style>\n",
       "<table border=\"1\" class=\"dataframe\">\n",
       "  <thead>\n",
       "    <tr style=\"text-align: right;\">\n",
       "      <th></th>\n",
       "      <th>stars</th>\n",
       "      <th>text</th>\n",
       "    </tr>\n",
       "  </thead>\n",
       "  <tbody>\n",
       "    <tr>\n",
       "      <th>0</th>\n",
       "      <td>1</td>\n",
       "      <td>This car wash sucks.  Paid $40 for the Ultimat...</td>\n",
       "    </tr>\n",
       "    <tr>\n",
       "      <th>1</th>\n",
       "      <td>5</td>\n",
       "      <td>I was referred to Earnie by friends and since ...</td>\n",
       "    </tr>\n",
       "    <tr>\n",
       "      <th>2</th>\n",
       "      <td>1</td>\n",
       "      <td>The food is okay, but they have the worst serv...</td>\n",
       "    </tr>\n",
       "    <tr>\n",
       "      <th>3</th>\n",
       "      <td>1</td>\n",
       "      <td>Opting out from the noise and hustle of Flo's ...</td>\n",
       "    </tr>\n",
       "    <tr>\n",
       "      <th>4</th>\n",
       "      <td>5</td>\n",
       "      <td>Basically, unlimited steak. If you like steak,...</td>\n",
       "    </tr>\n",
       "  </tbody>\n",
       "</table>\n",
       "</div>"
      ],
      "text/plain": [
       "   stars                                               text\n",
       "0      1  This car wash sucks.  Paid $40 for the Ultimat...\n",
       "1      5  I was referred to Earnie by friends and since ...\n",
       "2      1  The food is okay, but they have the worst serv...\n",
       "3      1  Opting out from the noise and hustle of Flo's ...\n",
       "4      5  Basically, unlimited steak. If you like steak,..."
      ]
     },
     "execution_count": 2,
     "metadata": {},
     "output_type": "execute_result"
    }
   ],
   "source": [
    "data_dir = \"./data/hw7\"\n",
    "data = pd.read_csv(f\"{data_dir}/yelp_2k.csv\", usecols=[3,5])\n",
    "corpus = data.text\n",
    "data.head()"
   ]
  },
  {
   "cell_type": "code",
   "execution_count": 3,
   "metadata": {},
   "outputs": [
    {
     "data": {
      "text/plain": [
       "(2000, 2)"
      ]
     },
     "execution_count": 3,
     "metadata": {},
     "output_type": "execute_result"
    }
   ],
   "source": [
    "data.shape"
   ]
  },
  {
   "cell_type": "markdown",
   "metadata": {},
   "source": [
    "## Bag of words"
   ]
  },
  {
   "cell_type": "code",
   "execution_count": 4,
   "metadata": {},
   "outputs": [],
   "source": [
    "class StemmedCountVectorizer(CountVectorizer):\n",
    "    def build_analyzer(self):\n",
    "        stemmer = EnglishStemmer()\n",
    "        analyzer = super(StemmedCountVectorizer, self).build_analyzer()\n",
    "        return lambda doc: ([stemmer.stem(w) for w in analyzer(doc)])"
   ]
  },
  {
   "cell_type": "code",
   "execution_count": 5,
   "metadata": {},
   "outputs": [],
   "source": [
    "def get_bag_of_words(corpus, stop_words=None, max_df=1.0, min_df=1):    \n",
    "    vectorizer = StemmedCountVectorizer(stop_words=stop_words, max_df=max_df, min_df=min_df)\n",
    "    bag_of_words = vectorizer.fit_transform(corpus)\n",
    "    return vectorizer, bag_of_words"
   ]
  },
  {
   "cell_type": "code",
   "execution_count": 6,
   "metadata": {},
   "outputs": [],
   "source": [
    "def get_sorted_words_frequencies(bag_of_words, vectorizer):\n",
    "    frequencies = bag_of_words.sum(axis=0)\n",
    "    words_frequencies = [(word, frequencies[0, index]) for word, index in vectorizer.vocabulary_.items()]\n",
    "    sorted_words_frequencies =sorted(words_frequencies, key = lambda x: x[1], reverse=True)\n",
    "    return sorted_words_frequencies"
   ]
  },
  {
   "cell_type": "code",
   "execution_count": 7,
   "metadata": {},
   "outputs": [],
   "source": [
    "def plot_frequecy_rank(sorted_words_frequencies, filename):\n",
    "    num_words = len(sorted_words_frequencies)\n",
    "    sorted_frequencies = np.array(sorted_words_frequencies)[:, 1].astype(int)\n",
    "    fig, ax = plt.subplots()\n",
    "    ax.set_title(\"Word Frequencies\")\n",
    "    ax.set_xlabel('word rank')\n",
    "    ax.set_ylabel('word count')\n",
    "    plt.plot(range(num_words), sorted_frequencies,'b.')\n",
    "    plt.savefig(f'reports/hw7/{filename}.png')\n",
    "    plt.show()"
   ]
  },
  {
   "cell_type": "code",
   "execution_count": 8,
   "metadata": {},
   "outputs": [],
   "source": [
    "vectorizer, bag_of_words = get_bag_of_words(corpus)\n",
    "sorted_words_frequencies = get_sorted_words_frequencies(bag_of_words, vectorizer)"
   ]
  },
  {
   "cell_type": "code",
   "execution_count": 9,
   "metadata": {},
   "outputs": [
    {
     "data": {
      "image/png": "[encoded data removed]",
      "text/plain": [
       "<Figure size 432x288 with 1 Axes>"
      ]
     },
     "metadata": {
      "needs_background": "light"
     },
     "output_type": "display_data"
    }
   ],
   "source": [
    "plot_frequecy_rank(sorted_words_frequencies, filename='1')"
   ]
  },
  {
   "cell_type": "markdown",
   "metadata": {},
   "source": [
    "#### Stop words\n",
    "By printing out the first 100 high frequent words"
   ]
  },
  {
   "cell_type": "code",
   "execution_count": 10,
   "metadata": {},
   "outputs": [
    {
     "data": {
      "text/plain": [
       "[('the', 11041),\n",
       " ('and', 8107),\n",
       " ('to', 6565),\n",
       " ('was', 3817),\n",
       " ('it', 3444),\n",
       " ('of', 3040),\n",
       " ('for', 2728),\n",
       " ('in', 2706),\n",
       " ('my', 2606),\n",
       " ('is', 2604),\n",
       " ('that', 2326),\n",
       " ('they', 2295),\n",
       " ('this', 2116),\n",
       " ('we', 2029),\n",
       " ('you', 1962),\n",
       " ('with', 1817),\n",
       " ('on', 1720),\n",
       " ('have', 1690),\n",
       " ('not', 1650),\n",
       " ('but', 1409),\n",
       " ('had', 1387),\n",
       " ('me', 1330),\n",
       " ('at', 1305),\n",
       " ('so', 1252),\n",
       " ('be', 1196),\n",
       " ('were', 1125),\n",
       " ('are', 1122),\n",
       " ('place', 1065),\n",
       " ('food', 953),\n",
       " ('go', 944),\n",
       " ('there', 942),\n",
       " ('get', 933),\n",
       " ('as', 929),\n",
       " ('time', 908),\n",
       " ('he', 900),\n",
       " ('if', 899),\n",
       " ('all', 856),\n",
       " ('when', 843),\n",
       " ('servic', 835),\n",
       " ('out', 830),\n",
       " ('would', 806),\n",
       " ('our', 776),\n",
       " ('one', 769),\n",
       " ('she', 765),\n",
       " ('back', 758),\n",
       " ('up', 735),\n",
       " ('from', 727),\n",
       " ('veri', 724),\n",
       " ('an', 712),\n",
       " ('like', 710),\n",
       " ('their', 708),\n",
       " ('just', 705),\n",
       " ('here', 697),\n",
       " ('will', 692),\n",
       " ('order', 689),\n",
       " ('no', 686),\n",
       " ('great', 672),\n",
       " ('good', 671),\n",
       " ('about', 619),\n",
       " ('them', 608),\n",
       " ('can', 601),\n",
       " ('do', 598),\n",
       " ('or', 594),\n",
       " ('what', 591),\n",
       " ('your', 578),\n",
       " ('us', 568),\n",
       " ('call', 534),\n",
       " ('tri', 525),\n",
       " ('been', 513),\n",
       " ('even', 499),\n",
       " ('never', 483),\n",
       " ('becaus', 479),\n",
       " ('onli', 478),\n",
       " ('don', 477),\n",
       " ('after', 467),\n",
       " ('by', 465),\n",
       " ('come', 463),\n",
       " ('want', 455),\n",
       " ('ask', 453),\n",
       " ('which', 446),\n",
       " ('make', 438),\n",
       " ('look', 434),\n",
       " ('did', 425),\n",
       " ('got', 420),\n",
       " ('other', 418),\n",
       " ('said', 412),\n",
       " ('her', 411),\n",
       " ('more', 410),\n",
       " ('wait', 407),\n",
       " ('work', 400),\n",
       " ('friend', 398),\n",
       " ('day', 397),\n",
       " ('realli', 397),\n",
       " ('told', 385),\n",
       " ('custom', 384),\n",
       " ('also', 383),\n",
       " ('could', 381),\n",
       " ('some', 379),\n",
       " ('say', 376),\n",
       " ('then', 371)]"
      ]
     },
     "execution_count": 10,
     "metadata": {},
     "output_type": "execute_result"
    }
   ],
   "source": [
    "sorted_words_frequencies[:100]"
   ]
  },
  {
   "cell_type": "markdown",
   "metadata": {},
   "source": [
    "Choosing: `['the', 'and', 'to', 'was', 'it', 'of', 'for', 'in', 'is', 'that', 'this', 'with', 'on', 'at', 'are', 'were', 'be', 'as', 'an']`"
   ]
  },
  {
   "cell_type": "markdown",
   "metadata": {},
   "source": [
    "## Using stop words list"
   ]
  },
  {
   "cell_type": "code",
   "execution_count": 11,
   "metadata": {},
   "outputs": [],
   "source": [
    "stop_words_list=['the', 'and', 'to', 'was', 'it', 'of', 'for', 'in', 'is', 'that', 'this', 'with', 'on', 'at', 'are', 'were', 'be', 'as', 'an']\n",
    "vectorizer2, bag_of_words2 = get_bag_of_words(corpus, stop_words=stop_words_list)\n",
    "sorted_words_frequencies2 = get_sorted_words_frequencies(bag_of_words2, vectorizer2)"
   ]
  },
  {
   "cell_type": "code",
   "execution_count": 12,
   "metadata": {},
   "outputs": [
    {
     "data": {
      "text/plain": [
       "9387"
      ]
     },
     "execution_count": 12,
     "metadata": {},
     "output_type": "execute_result"
    }
   ],
   "source": [
    "len(sorted_words_frequencies2)"
   ]
  },
  {
   "cell_type": "code",
   "execution_count": 13,
   "metadata": {},
   "outputs": [
    {
     "data": {
      "image/png": "[encoded data removed]",
      "text/plain": [
       "<Figure size 432x288 with 1 Axes>"
      ]
     },
     "metadata": {
      "needs_background": "light"
     },
     "output_type": "display_data"
    }
   ],
   "source": [
    "plot_frequecy_rank(sorted_words_frequencies2,  filename='2')"
   ]
  },
  {
   "cell_type": "markdown",
   "metadata": {},
   "source": [
    "## min_df/max_df"
   ]
  },
  {
   "cell_type": "code",
   "execution_count": 94,
   "metadata": {},
   "outputs": [],
   "source": [
    "stop_words_list=['the', 'and', 'to', 'was', 'it', 'of', 'for', 'in', 'is', 'that', 'this', 'with', 'on', 'at', 'are', 'were', 'be', 'as', 'an']\n",
    "vectorizer3, bag_of_words3 = get_bag_of_words(corpus, stop_words=stop_words_list, max_df=0.5, min_df=0.01)\n",
    "sorted_words_frequencies3 = get_sorted_words_frequencies(bag_of_words3, vectorizer3)"
   ]
  },
  {
   "cell_type": "code",
   "execution_count": 95,
   "metadata": {},
   "outputs": [
    {
     "data": {
      "text/plain": [
       "1014"
      ]
     },
     "execution_count": 95,
     "metadata": {},
     "output_type": "execute_result"
    }
   ],
   "source": [
    "len(sorted_words_frequencies3)"
   ]
  },
  {
   "cell_type": "code",
   "execution_count": 96,
   "metadata": {},
   "outputs": [
    {
     "data": {
      "image/png": "[encoded data removed]",
      "text/plain": [
       "<Figure size 432x288 with 1 Axes>"
      ]
     },
     "metadata": {
      "needs_background": "light"
     },
     "output_type": "display_data"
    }
   ],
   "source": [
    "plot_frequecy_rank(sorted_words_frequencies3,  filename='3')"
   ]
  },
  {
   "cell_type": "markdown",
   "metadata": {},
   "source": [
    "## Part 2: Text-Retrieval"
   ]
  },
  {
   "cell_type": "code",
   "execution_count": 97,
   "metadata": {},
   "outputs": [],
   "source": [
    "from sklearn.neighbors import NearestNeighbors"
   ]
  },
  {
   "cell_type": "code",
   "execution_count": 98,
   "metadata": {},
   "outputs": [],
   "source": [
    "query_string = 'horrible customer service'\n",
    "\n",
    "k = 5\n",
    "knn = NearestNeighbors(n_neighbors=k, metric='cosine')\n",
    "knn.fit(bag_of_words3)\n",
    "\n",
    "test = [query_string]\n",
    "test_BOW = vectorizer3.transform(test)\n",
    "\n",
    "distances, indices = knn.kneighbors(test_BOW, n_neighbors=k)"
   ]
  },
  {
   "cell_type": "code",
   "execution_count": 99,
   "metadata": {},
   "outputs": [
    {
     "data": {
      "text/plain": [
       "(array([[0.35450278, 0.54239568, 0.54514117, 0.56356422, 0.58333333]]),\n",
       " array([[1808,   90, 1721,  729,    9]]))"
      ]
     },
     "execution_count": 99,
     "metadata": {},
     "output_type": "execute_result"
    }
   ],
   "source": [
    "distances, indices"
   ]
  },
  {
   "cell_type": "code",
   "execution_count": 100,
   "metadata": {},
   "outputs": [
    {
     "name": "stdout",
     "output_type": "stream",
     "text": [
      "1808    Rogers ...\\n\\n1) is over priced\\n2) have horrible customer service\\n3) faulty and incorrect billing\\n4) poor customer service\\n5) not enough options\\n6) never arrive for an appointment                                                                                                                                                                                                                                              \n",
      "90      Horrible service, horrible customer service, and horrible quality of service!  Do not waste your time or money using this company for your pool needs.  Dan (602)363-8267 broke my pool filtration system and left it in a nonworking condition.  He will not repair the issue he caused, and told me to go somewhere else.  \\n\\nSave yourself the hassle, there are plenty of other quality pool companies out there.  \\n\\nTake care!\n",
      "1721    Went to Marca today to get a haircut and was given a great service both by front desk - customer service and by Georgia, girl who did my hair. I guess I got lucky with her as she has years of experience doing this job. She has excellent customer service skills and takes excellent care of her customers.                                                                                                                       \n",
      "729     Service was horrible came with a major attitude. Payed 30 for lasagna and was no where worth it. Won't ever be going back and will NEVER recommend this place. was treated absolutely horrible. Horrible.                                                                                                                                                                                                                             \n",
      "9       Horrible customer service!  Been with them over 2 years, and after staying with them during my last move they raised my bill almost double for the same services!  Sent two emails since I don't have time to call, not a single response. Will finally waste an entire night to call to cancel my service.                                                                                                                           \n",
      "Name: text, dtype: object\n"
     ]
    }
   ],
   "source": [
    "pd.set_option('display.max_colwidth', -1)\n",
    "print(corpus[indices[0]])"
   ]
  },
  {
   "cell_type": "markdown",
   "metadata": {},
   "source": [
    "## Part 3: Classification with Logistic Regression"
   ]
  },
  {
   "cell_type": "code",
   "execution_count": 101,
   "metadata": {},
   "outputs": [],
   "source": [
    "from sklearn.linear_model import LogisticRegression\n",
    "from sklearn.model_selection import train_test_split"
   ]
  },
  {
   "cell_type": "code",
   "execution_count": 102,
   "metadata": {},
   "outputs": [],
   "source": [
    "X_train, X_test, y_train, y_test = train_test_split(bag_of_words3, data.stars, test_size=0.1)\n",
    "pd.set_option('display.max_colwidth', 50)\n",
    "\n",
    "assert X_train.shape[0] + X_test.shape[0] == corpus.shape[0] "
   ]
  },
  {
   "cell_type": "code",
   "execution_count": 103,
   "metadata": {},
   "outputs": [
    {
     "name": "stderr",
     "output_type": "stream",
     "text": [
      "/Users/qingemeng/Documents/dev/cs498aml/env/lib/python3.7/site-packages/sklearn/linear_model/logistic.py:433: FutureWarning: Default solver will be changed to 'lbfgs' in 0.22. Specify a solver to silence this warning.\n",
      "  FutureWarning)\n"
     ]
    },
    {
     "data": {
      "text/plain": [
       "LogisticRegression(C=1.0, class_weight=None, dual=False, fit_intercept=True,\n",
       "          intercept_scaling=1, max_iter=100, multi_class='warn',\n",
       "          n_jobs=None, penalty='l2', random_state=None, solver='warn',\n",
       "          tol=0.0001, verbose=0, warm_start=False)"
      ]
     },
     "execution_count": 103,
     "metadata": {},
     "output_type": "execute_result"
    }
   ],
   "source": [
    "clf = LogisticRegression()\n",
    "clf.fit(X_train.toarray(), y_train)"
   ]
  },
  {
   "cell_type": "code",
   "execution_count": 104,
   "metadata": {},
   "outputs": [
    {
     "data": {
      "text/plain": [
       "0.93"
      ]
     },
     "execution_count": 104,
     "metadata": {},
     "output_type": "execute_result"
    }
   ],
   "source": [
    "clf.score(X_test, y_test)"
   ]
  },
  {
   "cell_type": "code",
   "execution_count": 120,
   "metadata": {},
   "outputs": [],
   "source": [
    "probabilities = clf.predict_proba(X_train)"
   ]
  },
  {
   "cell_type": "code",
   "execution_count": 152,
   "metadata": {},
   "outputs": [
    {
     "data": {
      "image/png": "[encoded data removed]",
      "text/plain": [
       "<Figure size 432x288 with 1 Axes>"
      ]
     },
     "metadata": {
      "needs_background": "light"
     },
     "output_type": "display_data"
    }
   ],
   "source": [
    "fig, ax = plt.subplots()\n",
    "# ax.set_title(\"Word Frequencies\")\n",
    "# ax.set_xlabel('word rank')\n",
    "# ax.set_ylabel('word count')\n",
    "\n",
    "hist = plt.hist(probabilities[:,1],bins=np.arange(0, 1.01, 0.01))\n",
    "\n",
    "assert hist[0].sum() == probabilities[:,0].shape\n",
    "plt.show()"
   ]
  },
  {
   "cell_type": "code",
   "execution_count": 204,
   "metadata": {},
   "outputs": [
    {
     "data": {
      "image/png": "[encoded data removed]",
      "text/plain": [
       "<Figure size 432x288 with 1 Axes>"
      ]
     },
     "metadata": {
      "needs_background": "light"
     },
     "output_type": "display_data"
    }
   ],
   "source": [
    "probabilities_test = clf.predict_proba(X_test)\n",
    "y_pred_proba = probabilities_test[:,1]\n",
    "fpr, tpr, _ = metrics.roc_curve(y_test.replace(5,0), y_pred_proba)\n",
    "auc = metrics.roc_auc_score(y_test, y_pred_proba)\n",
    "plt.plot([0, 1], [0, 1], linestyle='--')\n",
    "plt.plot(tpr,fpr,label=\"auc=\"+str(auc))\n",
    "plt.legend(loc=4)\n",
    "plt.show()"
   ]
  },
  {
   "cell_type": "code",
   "execution_count": null,
   "metadata": {},
   "outputs": [],
   "source": []
  }
 ],
 "metadata": {
  "kernelspec": {
   "display_name": "Python 3",
   "language": "python",
   "name": "python3"
  },
  "language_info": {
   "codemirror_mode": {
    "name": "ipython",
    "version": 3
   },
   "file_extension": ".py",
   "mimetype": "text/x-python",
   "name": "python",
   "nbconvert_exporter": "python",
   "pygments_lexer": "ipython3",
   "version": "3.7.2"
  }
 },
 "nbformat": 4,
 "nbformat_minor": 2
}
