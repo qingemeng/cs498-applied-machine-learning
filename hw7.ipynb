{
 "cells": [
  {
   "cell_type": "code",
   "execution_count": 1,
   "metadata": {},
   "outputs": [],
   "source": [
    "import pandas as pd\n",
    "import numpy as np\n",
    "import matplotlib.pyplot as plt\n",
    "from sklearn.feature_extraction.text import CountVectorizer\n",
    "from sklearn import metrics\n",
    "from sklearn.metrics import accuracy_score\n",
    "\n",
    "from nltk.stem.snowball import EnglishStemmer"
   ]
  },
  {
   "cell_type": "code",
   "execution_count": 2,
   "metadata": {},
   "outputs": [
    {
     "data": {
      "text/html": [
       "<div>\n",
       "<style scoped>\n",
       "    .dataframe tbody tr th:only-of-type {\n",
       "        vertical-align: middle;\n",
       "    }\n",
       "\n",
       "    .dataframe tbody tr th {\n",
       "        vertical-align: top;\n",
       "    }\n",
       "\n",
       "    .dataframe thead th {\n",
       "        text-align: right;\n",
       "    }\n",
       "</style>\n",
       "<table border=\"1\" class=\"dataframe\">\n",
       "  <thead>\n",
       "    <tr style=\"text-align: right;\">\n",
       "      <th></th>\n",
       "      <th>stars</th>\n",
       "      <th>text</th>\n",
       "    </tr>\n",
       "  </thead>\n",
       "  <tbody>\n",
       "    <tr>\n",
       "      <th>0</th>\n",
       "      <td>1</td>\n",
       "      <td>This car wash sucks.  Paid $40 for the Ultimat...</td>\n",
       "    </tr>\n",
       "    <tr>\n",
       "      <th>1</th>\n",
       "      <td>5</td>\n",
       "      <td>I was referred to Earnie by friends and since ...</td>\n",
       "    </tr>\n",
       "    <tr>\n",
       "      <th>2</th>\n",
       "      <td>1</td>\n",
       "      <td>The food is okay, but they have the worst serv...</td>\n",
       "    </tr>\n",
       "    <tr>\n",
       "      <th>3</th>\n",
       "      <td>1</td>\n",
       "      <td>Opting out from the noise and hustle of Flo's ...</td>\n",
       "    </tr>\n",
       "    <tr>\n",
       "      <th>4</th>\n",
       "      <td>5</td>\n",
       "      <td>Basically, unlimited steak. If you like steak,...</td>\n",
       "    </tr>\n",
       "  </tbody>\n",
       "</table>\n",
       "</div>"
      ],
      "text/plain": [
       "   stars                                               text\n",
       "0      1  This car wash sucks.  Paid $40 for the Ultimat...\n",
       "1      5  I was referred to Earnie by friends and since ...\n",
       "2      1  The food is okay, but they have the worst serv...\n",
       "3      1  Opting out from the noise and hustle of Flo's ...\n",
       "4      5  Basically, unlimited steak. If you like steak,..."
      ]
     },
     "execution_count": 2,
     "metadata": {},
     "output_type": "execute_result"
    }
   ],
   "source": [
    "data_dir = \"./data/hw7\"\n",
    "data = pd.read_csv(f\"{data_dir}/yelp_2k.csv\", usecols=[3,5])\n",
    "corpus = data.text\n",
    "data.head()"
   ]
  },
  {
   "cell_type": "code",
   "execution_count": 3,
   "metadata": {},
   "outputs": [
    {
     "data": {
      "text/plain": [
       "(2000, 2)"
      ]
     },
     "execution_count": 3,
     "metadata": {},
     "output_type": "execute_result"
    }
   ],
   "source": [
    "data.shape"
   ]
  },
  {
   "cell_type": "markdown",
   "metadata": {},
   "source": [
    "## Bag of words"
   ]
  },
  {
   "cell_type": "code",
   "execution_count": 4,
   "metadata": {},
   "outputs": [],
   "source": [
    "class StemmedCountVectorizer(CountVectorizer):\n",
    "    def build_analyzer(self):\n",
    "        stemmer = EnglishStemmer()\n",
    "        analyzer = super(StemmedCountVectorizer, self).build_analyzer()\n",
    "        return lambda doc: ([stemmer.stem(w) for w in analyzer(doc)])"
   ]
  },
  {
   "cell_type": "code",
   "execution_count": 5,
   "metadata": {},
   "outputs": [],
   "source": [
    "def get_bag_of_words(corpus, stop_words=None, max_df=1.0, min_df=1):    \n",
    "    vectorizer = StemmedCountVectorizer(stop_words=stop_words, max_df=max_df, min_df=min_df)\n",
    "    bag_of_words = vectorizer.fit_transform(corpus)\n",
    "    return vectorizer, bag_of_words"
   ]
  },
  {
   "cell_type": "code",
   "execution_count": 6,
   "metadata": {},
   "outputs": [],
   "source": [
    "def get_sorted_words_frequencies(bag_of_words, vectorizer):\n",
    "    frequencies = bag_of_words.sum(axis=0)\n",
    "    words_frequencies = [(word, frequencies[0, index]) for word, index in vectorizer.vocabulary_.items()]\n",
    "    sorted_words_frequencies =sorted(words_frequencies, key = lambda x: x[1], reverse=True)\n",
    "    return sorted_words_frequencies"
   ]
  },
  {
   "cell_type": "code",
   "execution_count": 7,
   "metadata": {},
   "outputs": [],
   "source": [
    "def plot_frequecy_rank(sorted_words_frequencies, filename):\n",
    "    num_words = len(sorted_words_frequencies)\n",
    "    sorted_frequencies = np.array(sorted_words_frequencies)[:, 1].astype(int)\n",
    "    fig, ax = plt.subplots()\n",
    "    ax.set_title(\"Word Frequencies\")\n",
    "    ax.set_xlabel('word rank')\n",
    "    ax.set_ylabel('word count')\n",
    "    plt.plot(range(num_words), sorted_frequencies,'b.')\n",
    "    plt.savefig(f'reports/hw7/{filename}.png')\n",
    "    plt.show()"
   ]
  },
  {
   "cell_type": "code",
   "execution_count": 8,
   "metadata": {},
   "outputs": [],
   "source": [
    "vectorizer, bag_of_words = get_bag_of_words(corpus)\n",
    "sorted_words_frequencies = get_sorted_words_frequencies(bag_of_words, vectorizer)"
   ]
  },
  {
   "cell_type": "code",
   "execution_count": 9,
   "metadata": {},
   "outputs": [
    {
     "data": {
      "image/png": "[encoded data removed]",
      "text/plain": [
       "<Figure size 432x288 with 1 Axes>"
      ]
     },
     "metadata": {
      "needs_background": "light"
     },
     "output_type": "display_data"
    }
   ],
   "source": [
    "plot_frequecy_rank(sorted_words_frequencies, filename='1')"
   ]
  },
  {
   "cell_type": "markdown",
   "metadata": {},
   "source": [
    "#### Stop words\n",
    "By printing out the first 100 high frequent words"
   ]
  },
  {
   "cell_type": "code",
   "execution_count": 10,
   "metadata": {},
   "outputs": [
    {
     "data": {
      "text/plain": [
       "[('the', 11041),\n",
       " ('and', 8107),\n",
       " ('to', 6565),\n",
       " ('was', 3817),\n",
       " ('it', 3444),\n",
       " ('of', 3040),\n",
       " ('for', 2728),\n",
       " ('in', 2706),\n",
       " ('my', 2606),\n",
       " ('is', 2604),\n",
       " ('that', 2326),\n",
       " ('they', 2295),\n",
       " ('this', 2116),\n",
       " ('we', 2029),\n",
       " ('you', 1962),\n",
       " ('with', 1817),\n",
       " ('on', 1720),\n",
       " ('have', 1690),\n",
       " ('not', 1650),\n",
       " ('but', 1409),\n",
       " ('had', 1387),\n",
       " ('me', 1330),\n",
       " ('at', 1305),\n",
       " ('so', 1252),\n",
       " ('be', 1196),\n",
       " ('were', 1125),\n",
       " ('are', 1122),\n",
       " ('place', 1065),\n",
       " ('food', 953),\n",
       " ('go', 944),\n",
       " ('there', 942),\n",
       " ('get', 933),\n",
       " ('as', 929),\n",
       " ('time', 908),\n",
       " ('he', 900),\n",
       " ('if', 899),\n",
       " ('all', 856),\n",
       " ('when', 843),\n",
       " ('servic', 835),\n",
       " ('out', 830),\n",
       " ('would', 806),\n",
       " ('our', 776),\n",
       " ('one', 769),\n",
       " ('she', 765),\n",
       " ('back', 758),\n",
       " ('up', 735),\n",
       " ('from', 727),\n",
       " ('veri', 724),\n",
       " ('an', 712),\n",
       " ('like', 710),\n",
       " ('their', 708),\n",
       " ('just', 705),\n",
       " ('here', 697),\n",
       " ('will', 692),\n",
       " ('order', 689),\n",
       " ('no', 686),\n",
       " ('great', 672),\n",
       " ('good', 671),\n",
       " ('about', 619),\n",
       " ('them', 608),\n",
       " ('can', 601),\n",
       " ('do', 598),\n",
       " ('or', 594),\n",
       " ('what', 591),\n",
       " ('your', 578),\n",
       " ('us', 568),\n",
       " ('call', 534),\n",
       " ('tri', 525),\n",
       " ('been', 513),\n",
       " ('even', 499),\n",
       " ('never', 483),\n",
       " ('becaus', 479),\n",
       " ('onli', 478),\n",
       " ('don', 477),\n",
       " ('after', 467),\n",
       " ('by', 465),\n",
       " ('come', 463),\n",
       " ('want', 455),\n",
       " ('ask', 453),\n",
       " ('which', 446),\n",
       " ('make', 438),\n",
       " ('look', 434),\n",
       " ('did', 425),\n",
       " ('got', 420),\n",
       " ('other', 418),\n",
       " ('said', 412),\n",
       " ('her', 411),\n",
       " ('more', 410),\n",
       " ('wait', 407),\n",
       " ('work', 400),\n",
       " ('friend', 398),\n",
       " ('day', 397),\n",
       " ('realli', 397),\n",
       " ('told', 385),\n",
       " ('custom', 384),\n",
       " ('also', 383),\n",
       " ('could', 381),\n",
       " ('some', 379),\n",
       " ('say', 376),\n",
       " ('then', 371)]"
      ]
     },
     "execution_count": 10,
     "metadata": {},
     "output_type": "execute_result"
    }
   ],
   "source": [
    "sorted_words_frequencies[:100]"
   ]
  },
  {
   "cell_type": "markdown",
   "metadata": {},
   "source": [
    "Choosing: `['the', 'and', 'to', 'was', 'it', 'of', 'for', 'in', 'is', 'that', 'this', 'with', 'on', 'at', 'are', 'were', 'be', 'as', 'an']`"
   ]
  },
  {
   "cell_type": "markdown",
   "metadata": {},
   "source": [
    "## Using stop words list"
   ]
  },
  {
   "cell_type": "code",
   "execution_count": 11,
   "metadata": {},
   "outputs": [],
   "source": [
    "stop_words_list=['the', 'and', 'to', 'was', 'it', 'of', 'for', 'in', 'is', 'that', 'this', 'with', 'on', 'at', 'are', 'were', 'be', 'as', 'an']\n",
    "vectorizer2, bag_of_words2 = get_bag_of_words(corpus, stop_words=stop_words_list)\n",
    "sorted_words_frequencies2 = get_sorted_words_frequencies(bag_of_words2, vectorizer2)"
   ]
  },
  {
   "cell_type": "code",
   "execution_count": 12,
   "metadata": {},
   "outputs": [
    {
     "data": {
      "text/plain": [
       "9387"
      ]
     },
     "execution_count": 12,
     "metadata": {},
     "output_type": "execute_result"
    }
   ],
   "source": [
    "len(sorted_words_frequencies2)"
   ]
  },
  {
   "cell_type": "code",
   "execution_count": 13,
   "metadata": {},
   "outputs": [
    {
     "data": {
      "image/png": "[encoded data removed]",
      "text/plain": [
       "<Figure size 432x288 with 1 Axes>"
      ]
     },
     "metadata": {
      "needs_background": "light"
     },
     "output_type": "display_data"
    }
   ],
   "source": [
    "plot_frequecy_rank(sorted_words_frequencies2,  filename='2')"
   ]
  },
  {
   "cell_type": "markdown",
   "metadata": {},
   "source": [
    "## min_df/max_df"
   ]
  },
  {
   "cell_type": "code",
   "execution_count": 31,
   "metadata": {},
   "outputs": [],
   "source": [
    "stop_words_list=['the', 'and', 'to', 'was', 'it', 'of', 'for', 'in', 'is', 'that', 'this', 'with', 'on', \n",
    "                 'at', 'are', 'were', 'be', 'as', 'an']\n",
    "vectorizer3, bag_of_words3 = get_bag_of_words(corpus, stop_words=stop_words_list, max_df=0.5, min_df=0.01)\n",
    "sorted_words_frequencies3 = get_sorted_words_frequencies(bag_of_words3, vectorizer3)"
   ]
  },
  {
   "cell_type": "code",
   "execution_count": 32,
   "metadata": {},
   "outputs": [
    {
     "data": {
      "text/plain": [
       "1014"
      ]
     },
     "execution_count": 32,
     "metadata": {},
     "output_type": "execute_result"
    }
   ],
   "source": [
    "len(sorted_words_frequencies3)"
   ]
  },
  {
   "cell_type": "code",
   "execution_count": 33,
   "metadata": {
    "scrolled": true
   },
   "outputs": [
    {
     "data": {
      "image/png": "[encoded data removed]",
      "text/plain": [
       "<Figure size 432x288 with 1 Axes>"
      ]
     },
     "metadata": {
      "needs_background": "light"
     },
     "output_type": "display_data"
    }
   ],
   "source": [
    "plot_frequecy_rank(sorted_words_frequencies3,  filename='3')"
   ]
  },
  {
   "cell_type": "markdown",
   "metadata": {},
   "source": [
    "## Part 2: Text-Retrieval"
   ]
  },
  {
   "cell_type": "code",
   "execution_count": 34,
   "metadata": {},
   "outputs": [],
   "source": [
    "from sklearn.neighbors import NearestNeighbors"
   ]
  },
  {
   "cell_type": "code",
   "execution_count": 35,
   "metadata": {},
   "outputs": [],
   "source": [
    "query_string = 'horrible customer service'\n",
    "\n",
    "k = 5\n",
    "knn = NearestNeighbors(n_neighbors=k, metric='cosine')\n",
    "knn.fit(bag_of_words3)\n",
    "\n",
    "test = [query_string]\n",
    "test_BOW = vectorizer3.transform(test)\n",
    "\n",
    "distances, indices = knn.kneighbors(test_BOW, n_neighbors=k)"
   ]
  },
  {
   "cell_type": "code",
   "execution_count": 36,
   "metadata": {},
   "outputs": [
    {
     "data": {
      "text/plain": [
       "(array([[0.35450278, 0.54239568, 0.54514117, 0.56356422, 0.58333333]]),\n",
       " array([[1808,   90, 1721,  729,    9]]))"
      ]
     },
     "execution_count": 36,
     "metadata": {},
     "output_type": "execute_result"
    }
   ],
   "source": [
    "distances, indices"
   ]
  },
  {
   "cell_type": "code",
   "execution_count": 37,
   "metadata": {},
   "outputs": [
    {
     "name": "stdout",
     "output_type": "stream",
     "text": [
      "1808    Rogers ...\\n\\n1) is over priced\\n2) have horrible customer service\\n3) faulty and incorrect billing\\n4) poor customer service\\n5) not enough options\\n6) never arrive for an appointment                                                                                                                                                                                                                                              \n",
      "90      Horrible service, horrible customer service, and horrible quality of service!  Do not waste your time or money using this company for your pool needs.  Dan (602)363-8267 broke my pool filtration system and left it in a nonworking condition.  He will not repair the issue he caused, and told me to go somewhere else.  \\n\\nSave yourself the hassle, there are plenty of other quality pool companies out there.  \\n\\nTake care!\n",
      "1721    Went to Marca today to get a haircut and was given a great service both by front desk - customer service and by Georgia, girl who did my hair. I guess I got lucky with her as she has years of experience doing this job. She has excellent customer service skills and takes excellent care of her customers.                                                                                                                       \n",
      "729     Service was horrible came with a major attitude. Payed 30 for lasagna and was no where worth it. Won't ever be going back and will NEVER recommend this place. was treated absolutely horrible. Horrible.                                                                                                                                                                                                                             \n",
      "9       Horrible customer service!  Been with them over 2 years, and after staying with them during my last move they raised my bill almost double for the same services!  Sent two emails since I don't have time to call, not a single response. Will finally waste an entire night to call to cancel my service.                                                                                                                           \n",
      "Name: text, dtype: object\n"
     ]
    }
   ],
   "source": [
    "pd.set_option('display.max_colwidth', -1)\n",
    "print(corpus[indices[0]])"
   ]
  },
  {
   "cell_type": "markdown",
   "metadata": {},
   "source": [
    "## Part 3: Classification with Logistic Regression"
   ]
  },
  {
   "cell_type": "code",
   "execution_count": 38,
   "metadata": {},
   "outputs": [],
   "source": [
    "from sklearn.linear_model import LogisticRegression\n",
    "from sklearn.model_selection import train_test_split"
   ]
  },
  {
   "cell_type": "code",
   "execution_count": 39,
   "metadata": {},
   "outputs": [],
   "source": [
    "X_train, X_test, y_train, y_test = train_test_split(bag_of_words3, data.stars, test_size=0.1)\n",
    "pd.set_option('display.max_colwidth', 50)\n",
    "\n",
    "assert X_train.shape[0] + X_test.shape[0] == corpus.shape[0] "
   ]
  },
  {
   "cell_type": "code",
   "execution_count": 40,
   "metadata": {},
   "outputs": [
    {
     "data": {
      "text/plain": [
       "LogisticRegression(C=1.0, class_weight='balanced', dual=False,\n",
       "          fit_intercept=True, intercept_scaling=1, max_iter=100,\n",
       "          multi_class='warn', n_jobs=None, penalty='l2', random_state=None,\n",
       "          solver='lbfgs', tol=0.0001, verbose=0, warm_start=False)"
      ]
     },
     "execution_count": 40,
     "metadata": {},
     "output_type": "execute_result"
    }
   ],
   "source": [
    "clf = LogisticRegression(class_weight='balanced', solver='lbfgs')\n",
    "clf.fit(X_train.toarray(), y_train)"
   ]
  },
  {
   "cell_type": "code",
   "execution_count": 41,
   "metadata": {},
   "outputs": [
    {
     "name": "stdout",
     "output_type": "stream",
     "text": [
      "0.9988888888888889 0.93\n"
     ]
    }
   ],
   "source": [
    "train_acc = clf.score(X_train, y_train) \n",
    "test_acc = clf.score(X_test, y_test)\n",
    "print(train_acc, test_acc)"
   ]
  },
  {
   "cell_type": "code",
   "execution_count": 42,
   "metadata": {},
   "outputs": [],
   "source": [
    "probabilities_train = clf.predict_proba(X_train)\n",
    "probabilities_test = clf.predict_proba(X_test)\n",
    "prob_2 = probabilities_train[:,1]"
   ]
  },
  {
   "cell_type": "code",
   "execution_count": 43,
   "metadata": {},
   "outputs": [
    {
     "data": {
      "image/png": "[encoded data removed]",
      "text/plain": [
       "<Figure size 432x288 with 1 Axes>"
      ]
     },
     "metadata": {
      "needs_background": "light"
     },
     "output_type": "display_data"
    }
   ],
   "source": [
    "def plot_score(threshold = 0.5, prob = prob_2):\n",
    "    fig, ax = plt.subplots()\n",
    "    ax.set_title(\"Scores\")\n",
    "    ax.set_xlabel('probablity')\n",
    "    ax.set_ylabel('frequency')\n",
    "\n",
    "    hist = plt.hist(prob[prob >= threshold],bins=np.arange(0, 1.01, 0.01), label=\"Positive for star 5\")\n",
    "    hist = plt.hist(prob[prob < threshold],bins=np.arange(0, 1.01, 0.01), label=\"Negative for star 5\")\n",
    "    plt.legend(loc=1)\n",
    "    plt.savefig(f'reports/hw7/score.png')\n",
    "    plt.show()\n",
    "\n",
    "plot_score()"
   ]
  },
  {
   "cell_type": "code",
   "execution_count": 44,
   "metadata": {},
   "outputs": [],
   "source": [
    "def predicts(prob_X, threshold):\n",
    "    predicts = []\n",
    "    for prob_x in prob_X:\n",
    "        if(prob_x >= threshold):\n",
    "            predicts.append(5)\n",
    "        else:\n",
    "            predicts.append(1)\n",
    "    assert len(predicts) == len(prob_X)\n",
    "    return predicts\n",
    "        "
   ]
  },
  {
   "cell_type": "code",
   "execution_count": 59,
   "metadata": {},
   "outputs": [
    {
     "data": {
      "text/plain": [
       "(0.9988888888888889, 0.935)"
      ]
     },
     "execution_count": 59,
     "metadata": {},
     "output_type": "execute_result"
    }
   ],
   "source": [
    "def get_train_test_acc(probabilities_train, probabilities_test, threshold):    \n",
    "    predicts_train = predicts(probabilities_train[:,1], threshold)\n",
    "    predicts_test = predicts(probabilities_test[:,1], threshold)\n",
    "    acc_train = accuracy_score(y_train, predicts_train)\n",
    "    acc_test = accuracy_score(y_test, predicts_test)\n",
    "    return acc_train, acc_test\n",
    "\n",
    "new_threshold = 0.496\n",
    "acc_train, acc_test = get_train_test_acc(probabilities_train, probabilities_test, new_threshold)\n",
    "acc_train, acc_test"
   ]
  },
  {
   "cell_type": "code",
   "execution_count": 47,
   "metadata": {},
   "outputs": [
    {
     "data": {
      "image/png": "[encoded data removed]",
      "text/plain": [
       "<Figure size 432x288 with 1 Axes>"
      ]
     },
     "metadata": {
      "needs_background": "light"
     },
     "output_type": "display_data"
    }
   ],
   "source": [
    "y_pred_proba = probabilities_test[:,1]\n",
    "fpr, tpr, thresholds = metrics.roc_curve(y_test, y_pred_proba, pos_label=5)\n",
    "auc = metrics.roc_auc_score(y_test, y_pred_proba)\n",
    "fig, ax = plt.subplots()\n",
    "ax.set_title(\"ROC\")\n",
    "ax.set_xlabel('FPR')\n",
    "ax.set_ylabel('TPR')\n",
    "plt.plot([0, 1], [0, 1], linestyle='--')\n",
    "plt.plot(fpr,tpr, label=\"auc=\"+str(auc))\n",
    "plt.legend(loc=4)\n",
    "plt.savefig(f'reports/hw7/roc.png')\n",
    "plt.show()"
   ]
  },
  {
   "cell_type": "code",
   "execution_count": 48,
   "metadata": {},
   "outputs": [
    {
     "data": {
      "text/html": [
       "<div>\n",
       "<style scoped>\n",
       "    .dataframe tbody tr th:only-of-type {\n",
       "        vertical-align: middle;\n",
       "    }\n",
       "\n",
       "    .dataframe tbody tr th {\n",
       "        vertical-align: top;\n",
       "    }\n",
       "\n",
       "    .dataframe thead th {\n",
       "        text-align: right;\n",
       "    }\n",
       "</style>\n",
       "<table border=\"1\" class=\"dataframe\">\n",
       "  <thead>\n",
       "    <tr style=\"text-align: right;\">\n",
       "      <th></th>\n",
       "      <th>tpr</th>\n",
       "      <th>fpr</th>\n",
       "      <th>threshold</th>\n",
       "    </tr>\n",
       "  </thead>\n",
       "  <tbody>\n",
       "    <tr>\n",
       "      <th>0</th>\n",
       "      <td>0.000000</td>\n",
       "      <td>0.000000</td>\n",
       "      <td>2.000000e+00</td>\n",
       "    </tr>\n",
       "    <tr>\n",
       "      <th>1</th>\n",
       "      <td>0.010753</td>\n",
       "      <td>0.000000</td>\n",
       "      <td>1.000000e+00</td>\n",
       "    </tr>\n",
       "    <tr>\n",
       "      <th>2</th>\n",
       "      <td>0.580645</td>\n",
       "      <td>0.000000</td>\n",
       "      <td>9.829838e-01</td>\n",
       "    </tr>\n",
       "    <tr>\n",
       "      <th>3</th>\n",
       "      <td>0.580645</td>\n",
       "      <td>0.009346</td>\n",
       "      <td>9.828729e-01</td>\n",
       "    </tr>\n",
       "    <tr>\n",
       "      <th>4</th>\n",
       "      <td>0.655914</td>\n",
       "      <td>0.009346</td>\n",
       "      <td>9.640135e-01</td>\n",
       "    </tr>\n",
       "    <tr>\n",
       "      <th>5</th>\n",
       "      <td>0.655914</td>\n",
       "      <td>0.018692</td>\n",
       "      <td>9.637557e-01</td>\n",
       "    </tr>\n",
       "    <tr>\n",
       "      <th>6</th>\n",
       "      <td>0.677419</td>\n",
       "      <td>0.018692</td>\n",
       "      <td>9.512092e-01</td>\n",
       "    </tr>\n",
       "    <tr>\n",
       "      <th>7</th>\n",
       "      <td>0.677419</td>\n",
       "      <td>0.028037</td>\n",
       "      <td>9.504983e-01</td>\n",
       "    </tr>\n",
       "    <tr>\n",
       "      <th>8</th>\n",
       "      <td>0.731183</td>\n",
       "      <td>0.028037</td>\n",
       "      <td>9.320485e-01</td>\n",
       "    </tr>\n",
       "    <tr>\n",
       "      <th>9</th>\n",
       "      <td>0.731183</td>\n",
       "      <td>0.037383</td>\n",
       "      <td>9.316927e-01</td>\n",
       "    </tr>\n",
       "    <tr>\n",
       "      <th>10</th>\n",
       "      <td>0.752688</td>\n",
       "      <td>0.037383</td>\n",
       "      <td>9.252232e-01</td>\n",
       "    </tr>\n",
       "    <tr>\n",
       "      <th>11</th>\n",
       "      <td>0.752688</td>\n",
       "      <td>0.046729</td>\n",
       "      <td>9.170734e-01</td>\n",
       "    </tr>\n",
       "    <tr>\n",
       "      <th>12</th>\n",
       "      <td>0.806452</td>\n",
       "      <td>0.046729</td>\n",
       "      <td>8.604569e-01</td>\n",
       "    </tr>\n",
       "    <tr>\n",
       "      <th>13</th>\n",
       "      <td>0.806452</td>\n",
       "      <td>0.074766</td>\n",
       "      <td>8.540907e-01</td>\n",
       "    </tr>\n",
       "    <tr>\n",
       "      <th>14</th>\n",
       "      <td>0.946237</td>\n",
       "      <td>0.074766</td>\n",
       "      <td>4.964794e-01</td>\n",
       "    </tr>\n",
       "    <tr>\n",
       "      <th>15</th>\n",
       "      <td>0.946237</td>\n",
       "      <td>0.102804</td>\n",
       "      <td>4.458299e-01</td>\n",
       "    </tr>\n",
       "    <tr>\n",
       "      <th>16</th>\n",
       "      <td>0.956989</td>\n",
       "      <td>0.102804</td>\n",
       "      <td>3.683035e-01</td>\n",
       "    </tr>\n",
       "    <tr>\n",
       "      <th>17</th>\n",
       "      <td>0.956989</td>\n",
       "      <td>0.186916</td>\n",
       "      <td>2.010907e-01</td>\n",
       "    </tr>\n",
       "    <tr>\n",
       "      <th>18</th>\n",
       "      <td>0.967742</td>\n",
       "      <td>0.186916</td>\n",
       "      <td>1.706650e-01</td>\n",
       "    </tr>\n",
       "    <tr>\n",
       "      <th>19</th>\n",
       "      <td>0.967742</td>\n",
       "      <td>0.299065</td>\n",
       "      <td>6.170952e-02</td>\n",
       "    </tr>\n",
       "    <tr>\n",
       "      <th>20</th>\n",
       "      <td>0.978495</td>\n",
       "      <td>0.299065</td>\n",
       "      <td>5.335371e-02</td>\n",
       "    </tr>\n",
       "    <tr>\n",
       "      <th>21</th>\n",
       "      <td>0.978495</td>\n",
       "      <td>0.392523</td>\n",
       "      <td>1.933729e-02</td>\n",
       "    </tr>\n",
       "    <tr>\n",
       "      <th>22</th>\n",
       "      <td>0.989247</td>\n",
       "      <td>0.392523</td>\n",
       "      <td>1.884627e-02</td>\n",
       "    </tr>\n",
       "    <tr>\n",
       "      <th>23</th>\n",
       "      <td>0.989247</td>\n",
       "      <td>0.813084</td>\n",
       "      <td>2.838457e-05</td>\n",
       "    </tr>\n",
       "    <tr>\n",
       "      <th>24</th>\n",
       "      <td>1.000000</td>\n",
       "      <td>0.813084</td>\n",
       "      <td>1.978191e-05</td>\n",
       "    </tr>\n",
       "    <tr>\n",
       "      <th>25</th>\n",
       "      <td>1.000000</td>\n",
       "      <td>1.000000</td>\n",
       "      <td>4.572330e-15</td>\n",
       "    </tr>\n",
       "  </tbody>\n",
       "</table>\n",
       "</div>"
      ],
      "text/plain": [
       "         tpr       fpr     threshold\n",
       "0   0.000000  0.000000  2.000000e+00\n",
       "1   0.010753  0.000000  1.000000e+00\n",
       "2   0.580645  0.000000  9.829838e-01\n",
       "3   0.580645  0.009346  9.828729e-01\n",
       "4   0.655914  0.009346  9.640135e-01\n",
       "5   0.655914  0.018692  9.637557e-01\n",
       "6   0.677419  0.018692  9.512092e-01\n",
       "7   0.677419  0.028037  9.504983e-01\n",
       "8   0.731183  0.028037  9.320485e-01\n",
       "9   0.731183  0.037383  9.316927e-01\n",
       "10  0.752688  0.037383  9.252232e-01\n",
       "11  0.752688  0.046729  9.170734e-01\n",
       "12  0.806452  0.046729  8.604569e-01\n",
       "13  0.806452  0.074766  8.540907e-01\n",
       "14  0.946237  0.074766  4.964794e-01\n",
       "15  0.946237  0.102804  4.458299e-01\n",
       "16  0.956989  0.102804  3.683035e-01\n",
       "17  0.956989  0.186916  2.010907e-01\n",
       "18  0.967742  0.186916  1.706650e-01\n",
       "19  0.967742  0.299065  6.170952e-02\n",
       "20  0.978495  0.299065  5.335371e-02\n",
       "21  0.978495  0.392523  1.933729e-02\n",
       "22  0.989247  0.392523  1.884627e-02\n",
       "23  0.989247  0.813084  2.838457e-05\n",
       "24  1.000000  0.813084  1.978191e-05\n",
       "25  1.000000  1.000000  4.572330e-15"
      ]
     },
     "execution_count": 48,
     "metadata": {},
     "output_type": "execute_result"
    }
   ],
   "source": [
    "roc_df = pd.DataFrame({'tpr': tpr,'fpr': fpr, 'threshold': thresholds})\n",
    "roc_df"
   ]
  },
  {
   "cell_type": "code",
   "execution_count": 50,
   "metadata": {},
   "outputs": [],
   "source": [
    "import math"
   ]
  },
  {
   "cell_type": "code",
   "execution_count": 57,
   "metadata": {},
   "outputs": [
    {
     "name": "stdout",
     "output_type": "stream",
     "text": [
      "1.4142135623730951\n",
      "1.4066308129565621\n",
      "1.084370084772362\n",
      "1.0757575172114764\n",
      "1.0487091805086761\n",
      "1.0398852764207283\n",
      "1.0329687655267656\n",
      "1.0240945274402067\n",
      "1.0084512967062673\n",
      "0.9994467650421888\n",
      "0.9938784065832589\n",
      "0.9848293218334214\n",
      "0.9727212504326262\n",
      "0.9452609564180345\n",
      "0.9267943704801538\n",
      "0.8988056739639118\n",
      "0.8982266177437601\n",
      "0.8142209149099506\n",
      "0.8137237591199612\n",
      "0.7016764691651047\n",
      "0.7012644051036544\n",
      "0.6078571739373754\n",
      "0.6075717924643614\n",
      "0.18722491670142002\n",
      "0.1869158878504673\n",
      "0.0\n"
     ]
    }
   ],
   "source": [
    "d_min = 10000\n",
    "for (tpr, fpr, threshold) in np.array(roc_df):\n",
    "    d = math.sqrt((1-tpr) ** 2 + (1-fpr) ** 2)\n",
    "    print(d)\n",
    "    d_min = min(d_min, d)\n",
    "    \n"
   ]
  },
  {
   "cell_type": "code",
   "execution_count": null,
   "metadata": {},
   "outputs": [],
   "source": []
  }
 ],
 "metadata": {
  "kernelspec": {
   "display_name": "Python 3",
   "language": "python",
   "name": "python3"
  },
  "language_info": {
   "codemirror_mode": {
    "name": "ipython",
    "version": 3
   },
   "file_extension": ".py",
   "mimetype": "text/x-python",
   "name": "python",
   "nbconvert_exporter": "python",
   "pygments_lexer": "ipython3",
   "version": "3.7.2"
  }
 },
 "nbformat": 4,
 "nbformat_minor": 2
}
