{
  "nbformat": 4,
  "nbformat_minor": 0,
  "metadata": {
    "colab": {
      "name": "Copy of AML_HW10.ipynb",
      "version": "0.3.2",
      "provenance": [],
      "collapsed_sections": [],
      "include_colab_link": true
    },
    "language_info": {
      "codemirror_mode": {
        "name": "ipython",
        "version": 3
      },
      "file_extension": ".py",
      "mimetype": "text/x-python",
      "name": "python",
      "nbconvert_exporter": "python",
      "pygments_lexer": "ipython3",
      "version": "3.6.7"
    },
    "kernelspec": {
      "name": "python3",
      "display_name": "Python 3"
    },
    "accelerator": "GPU"
  },
  "cells": [
    {
      "cell_type": "markdown",
      "metadata": {
        "id": "view-in-github",
        "colab_type": "text"
      },
      "source": [
        "<a href=\"https://colab.research.google.com/github/qingemeng/cs498-applied-machine-learning/blob/master/Copy_of_AML_HW10.ipynb\" target=\"_parent\"><img src=\"https://colab.research.google.com/assets/colab-badge.svg\" alt=\"Open In Colab\"/></a>"
      ]
    },
    {
      "metadata": {
        "colab_type": "text",
        "id": "vUTgGUi4JEft"
      },
      "cell_type": "markdown",
      "source": [
        "# Homework 10 - CIFAR10 Image Classification with PyTorch"
      ]
    },
    {
      "metadata": {
        "colab_type": "text",
        "id": "T5Kx8gJBJEW_"
      },
      "cell_type": "markdown",
      "source": [
        "## About"
      ]
    },
    {
      "metadata": {
        "colab_type": "text",
        "id": "aRAalfd1GITX"
      },
      "cell_type": "markdown",
      "source": [
        "The goal of the homework is to train a convolutional neural network on the standard CIFAR10 image classfication dataset.\n",
        "\n",
        "When solving machine learning tasks using neural networks, one typically starts with a simple network architecture and then improves the network by adding new layers, retraining, adjusting parameters, retraining, etc.  We attempt to illustrate this process below with several architecture improvements.\n"
      ]
    },
    {
      "metadata": {
        "colab_type": "text",
        "id": "OCl5gakxJes-"
      },
      "cell_type": "markdown",
      "source": [
        "## Dev Environment\n",
        "### Working on Google Colab\n",
        "You may choose to work locally or on Google Colaboratory. You have access to free compute through this service.   Colab is recommended since it will be setup correctly and will have access to GPU resources.\n",
        "1. Visit https://colab.research.google.com/drive \n",
        "2. Navigate to the **`Upload`** tab, and upload your `HW10.ipynb`\n",
        "3. Now on the top right corner, under the `Comment` and `Share` options, you should see a `Connect` option. Once you are connected, you will have access to a VM with 12GB RAM, 50 GB disk space and a single GPU. The dropdown menu will allow you to connect to a local runtime as well.\n",
        "\n",
        "**Notes:** \n",
        "* **If you do not have a working setup for Python 3, this is your best bet. It will also save you from heavy installations like `tensorflow` if you don't want to deal with those.**\n",
        "* ***There is a downside*. You can only use this instance for a single 12-hour stretch, after which your data will be deleted, and you would have redownload all your datasets, any libraries not already on the VM, and regenerate your logs**.\n",
        "\n",
        "\n",
        "### Installing PyTorch and Dependencies\n",
        "\n",
        "The instructions for installing and setting up PyTorch can be found at https://pytorch.org/get-started/locally/. Make sure you follow the instructions for your machine. For any of the remaining libraries used in this assignment:\n",
        "* We have provided a `hw8_requirements.txt` file on the homework web page. \n",
        "* Download this file, and in the same directory you can run `pip3 install -r hw8_requirements.txt`\n",
        "​\n",
        "Check that PyTorch installed correctly by running the following:"
      ]
    },
    {
      "metadata": {
        "colab_type": "code",
        "id": "IaJ6BLrAJeCU",
        "outputId": "ef099e97-ffce-40a4-8c03-f7e4395eda27",
        "colab": {
          "base_uri": "https://localhost:8080/",
          "height": 102
        }
      },
      "cell_type": "code",
      "source": [
        "import torch\n",
        "torch.rand(5, 3)"
      ],
      "execution_count": 2,
      "outputs": [
        {
          "output_type": "execute_result",
          "data": {
            "text/plain": [
              "tensor([[0.3865, 0.7306, 0.2052],\n",
              "        [0.9422, 0.8056, 0.7823],\n",
              "        [0.2012, 0.6709, 0.5556],\n",
              "        [0.0242, 0.8801, 0.1084],\n",
              "        [0.5658, 0.4616, 0.2159]])"
            ]
          },
          "metadata": {
            "tags": []
          },
          "execution_count": 2
        }
      ]
    },
    {
      "metadata": {
        "colab_type": "text",
        "id": "nEmmCk1IJiGn"
      },
      "cell_type": "markdown",
      "source": [
        "## Part 0 Imports and Basic Setup  (5 Points)"
      ]
    },
    {
      "metadata": {
        "colab_type": "text",
        "id": "Y3mTddKuXPBU"
      },
      "cell_type": "markdown",
      "source": [
        "First, import the required libraries as follows. The libraries we will use will be the same as those in HW8. "
      ]
    },
    {
      "metadata": {
        "colab_type": "code",
        "id": "UwtDsq3VbrNY",
        "colab": {}
      },
      "cell_type": "code",
      "source": [
        "import numpy as np\n",
        "import torch\n",
        "from torch import nn\n",
        "from torch import optim\n",
        "\n",
        "import matplotlib.pyplot as plt"
      ],
      "execution_count": 0,
      "outputs": []
    },
    {
      "metadata": {
        "colab_type": "text",
        "id": "QWKp_UGlWTyR"
      },
      "cell_type": "markdown",
      "source": [
        "**GPU Support**\n",
        "\n",
        "Training of large network can take a long time. PyTorch supports GPU with just a small amount of effort.\n",
        "\n",
        "When creating our networks, we will call \n",
        "`net.to(device)` to tell the network to train on the GPU, if one is available.  Note, if the network utilizes the GPU, it is important that any tensors we use with it (such as the data) also reside on the CPU.  Thus, a call like `images = images.to(device)` is necessary with any data we want to use with the GPU.\n",
        "\n",
        "Note: If you can't get access to a GPU, don't worry to much.  Since we use very small networks, the difference between CPU and GPU isn't large and in some cases GPU will actually be slower."
      ]
    },
    {
      "metadata": {
        "colab_type": "code",
        "id": "gbGGmnIXYca9",
        "outputId": "787052d3-552f-4b2e-c102-935e71870090",
        "colab": {
          "base_uri": "https://localhost:8080/",
          "height": 34
        }
      },
      "cell_type": "code",
      "source": [
        "import torch.cuda as cuda\n",
        "\n",
        "# Use a GPU, i.e. cuda:0 device if it available.\n",
        "device = torch.device(\"cuda:0\" if cuda.is_available() else \"cpu\")\n",
        "print(device)"
      ],
      "execution_count": 4,
      "outputs": [
        {
          "output_type": "stream",
          "text": [
            "cuda:0\n"
          ],
          "name": "stdout"
        }
      ]
    },
    {
      "metadata": {
        "id": "07RjQbhF1tiK",
        "colab_type": "text"
      },
      "cell_type": "markdown",
      "source": [
        "### Training Code"
      ]
    },
    {
      "metadata": {
        "cellView": "form",
        "colab_type": "code",
        "id": "_DZm8ammPCbL",
        "colab": {}
      },
      "cell_type": "code",
      "source": [
        "import time\n",
        "\n",
        "class Flatten(nn.Module):\n",
        "  \"\"\"NN Module that flattens the incoming tensor.\"\"\"\n",
        "  def forward(self, input):\n",
        "    return input.view(input.size(0), -1)\n",
        "  \n",
        "def train(model, train_loader, test_loader, loss_func, opt, num_epochs=10):\n",
        "  all_training_loss = np.zeros((0,2))\n",
        "  all_training_acc = np.zeros((0,2))\n",
        "  all_test_loss = np.zeros((0,2))\n",
        "  all_test_acc = np.zeros((0,2))\n",
        "  \n",
        "  training_step = 0\n",
        "  training_loss, training_acc = 2.0, 0.0\n",
        "  print_every = 1000\n",
        "  \n",
        "  start = time.clock()\n",
        "  \n",
        "  for i in range(num_epochs):\n",
        "    epoch_start = time.clock() \n",
        "   \n",
        "    model.train()\n",
        "    for images, labels in train_loader:\n",
        "      images, labels = images.to(device), labels.to(device)\n",
        "      opt.zero_grad()\n",
        "\n",
        "      preds = model(images)\n",
        "      loss = loss_func(preds, labels)\n",
        "      loss.backward()\n",
        "      opt.step()\n",
        "      \n",
        "      training_loss += loss.item()\n",
        "      training_acc += (torch.argmax(preds, dim=1)==labels).float().mean()\n",
        "      \n",
        "      if training_step % print_every == 0:\n",
        "        training_loss /= print_every\n",
        "        training_acc /= print_every\n",
        "        \n",
        "        all_training_loss = np.concatenate((all_training_loss, [[training_step, training_loss]]))\n",
        "        all_training_acc = np.concatenate((all_training_acc, [[training_step, training_acc]]))\n",
        "        \n",
        "        print('  Epoch %d @ step %d: Train Loss: %3f, Train Accuracy: %3f' % (\n",
        "            i, training_step, training_loss, training_acc))\n",
        "        training_loss, training_acc = 0.0, 0.0\n",
        "        \n",
        "      training_step+=1\n",
        "\n",
        "    model.eval()\n",
        "    with torch.no_grad():\n",
        "      validation_loss, validation_acc = 0.0, 0.0\n",
        "      count = 0\n",
        "      for images, labels in test_loader:\n",
        "        images, labels = images.to(device), labels.to(device)\n",
        "        output = model(images)\n",
        "        validation_loss+=loss_func(output,labels)\n",
        "        validation_acc+=(torch.argmax(output, dim=1) == labels).float().mean()\n",
        "        count += 1\n",
        "      validation_loss/=count\n",
        "      validation_acc/=count\n",
        "      \n",
        "      all_test_loss = np.concatenate((all_test_loss, [[training_step, validation_loss]]))\n",
        "      all_test_acc = np.concatenate((all_test_acc, [[training_step, validation_acc]]))\n",
        "      \n",
        "      epoch_time = time.clock() - epoch_start\n",
        "      \n",
        "      print('Epoch %d Test Loss: %3f, Test Accuracy: %3f, time: %.1fs' % (\n",
        "          i, validation_loss, validation_acc, epoch_time))\n",
        "      \n",
        "  total_time = time.clock() - start\n",
        "  print('Final Test Loss: %3f, Test Accuracy: %3f, Total time: %.1fs' % (\n",
        "      validation_loss, validation_acc, total_time))\n",
        "\n",
        "  return {'loss': { 'train': all_training_loss, 'test': all_test_loss },\n",
        "          'accuracy': { 'train': all_training_acc, 'test': all_test_acc }}\n",
        "\n",
        "def plot_graphs(model_name, metrics):\n",
        "  for metric, values in metrics.items():\n",
        "    for name, v in values.items():\n",
        "      plt.plot(v[:,0], v[:,1], label=name)\n",
        "    plt.title(f'{metric} for {model_name}')\n",
        "    plt.legend()\n",
        "    plt.xlabel(\"Training Steps\")\n",
        "    plt.ylabel(metric)\n",
        "    plt.show()\n",
        "    "
      ],
      "execution_count": 0,
      "outputs": []
    },
    {
      "metadata": {
        "colab_type": "text",
        "id": "1RupXQbCaXb3"
      },
      "cell_type": "markdown",
      "source": [
        "Load the** CIFA-10** dataset and define the transformations. You may also want to print its structure, size, as well as sample a few images to get a sense of how to design the network. "
      ]
    },
    {
      "metadata": {
        "colab_type": "code",
        "id": "mIJmLIgaZ_d3",
        "colab": {}
      },
      "cell_type": "code",
      "source": [
        "!mkdir hw10_data"
      ],
      "execution_count": 0,
      "outputs": []
    },
    {
      "metadata": {
        "colab_type": "code",
        "id": "aDBbPmPPaQuG",
        "outputId": "9665a3ce-7cae-4779-cae7-748972c22628",
        "colab": {
          "base_uri": "https://localhost:8080/",
          "height": 68
        }
      },
      "cell_type": "code",
      "source": [
        "# Download the data.\n",
        "from torchvision import datasets, transforms\n",
        "\n",
        "transformations = transforms.Compose(\n",
        "    [transforms.ToTensor(),\n",
        "     transforms.Normalize((0.5, 0.5, 0.5), (0.5, 0.5, 0.5))])\n",
        "train_set = datasets.CIFAR10(root='hw10_data/', download=True, transform=transformations)\n",
        "test_set = datasets.CIFAR10(root='hw10_data', download=True, train=False, transform=transformations)"
      ],
      "execution_count": 7,
      "outputs": [
        {
          "output_type": "stream",
          "text": [
            "  0%|          | 0/170498071 [00:00<?, ?it/s]"
          ],
          "name": "stderr"
        },
        {
          "output_type": "stream",
          "text": [
            "Downloading https://www.cs.toronto.edu/~kriz/cifar-10-python.tar.gz to hw10_data/cifar-10-python.tar.gz\n"
          ],
          "name": "stdout"
        },
        {
          "output_type": "stream",
          "text": [
            "170500096it [00:09, 17959771.37it/s]                              \n"
          ],
          "name": "stderr"
        },
        {
          "output_type": "stream",
          "text": [
            "Files already downloaded and verified\n"
          ],
          "name": "stdout"
        }
      ]
    },
    {
      "metadata": {
        "colab_type": "text",
        "id": "dfomsGyJiKz9"
      },
      "cell_type": "markdown",
      "source": [
        "Use `DataLoader` to create a loader for the training set and a loader for the testing set. You can use a `batch_size` of 8 to start, and change it if you wish."
      ]
    },
    {
      "metadata": {
        "colab_type": "code",
        "id": "Ioe04mbSiQiV",
        "colab": {}
      },
      "cell_type": "code",
      "source": [
        "from torch.utils.data import DataLoader\n",
        "\n",
        "batch_size = 8\n",
        "train_loader = torch.utils.data.DataLoader(train_set, batch_size, shuffle=True, num_workers=2)\n",
        "test_loader = torch.utils.data.DataLoader(test_set, batch_size, shuffle=True, num_workers=2)\n",
        "\n",
        "input_shape = np.array(train_set[0][0]).shape\n",
        "input_dim = input_shape[1]*input_shape[2]*input_shape[0]\n"
      ],
      "execution_count": 0,
      "outputs": []
    },
    {
      "metadata": {
        "colab_type": "code",
        "id": "fGoPdmuUOOiE",
        "colab": {}
      },
      "cell_type": "code",
      "source": [
        "training_epochs = 5"
      ],
      "execution_count": 0,
      "outputs": []
    },
    {
      "metadata": {
        "colab_type": "text",
        "id": "3T2-qkh8frqF"
      },
      "cell_type": "markdown",
      "source": [
        "## Part 1 CIFAR10 with Fully Connected Neural Netowrk (25 Points)\n",
        "\n",
        "As a warm-up, let's begin by training a two-layer fully connected neural network model on ** CIFAR-10** dataset. You may go back to check HW8 for some basics.\n",
        "\n",
        "We will give you this code to use as a baseline to compare against your CNN models."
      ]
    },
    {
      "metadata": {
        "colab_type": "code",
        "id": "Ck1CGpRycRFE",
        "outputId": "f0d04631-194c-45ec-ba30-7f9a2c536414",
        "colab": {
          "base_uri": "https://localhost:8080/",
          "height": 663
        }
      },
      "cell_type": "code",
      "source": [
        "class TwoLayerModel(nn.Module):\n",
        "  def __init__(self):\n",
        "    super(TwoLayerModel, self).__init__()\n",
        "    self.net = nn.Sequential(\n",
        "      Flatten(), \n",
        "      nn.Linear(input_dim, 64), \n",
        "      nn.ReLU(), \n",
        "      nn.Linear(64, 10))\n",
        "    \n",
        "  def forward(self, x):\n",
        "    return self.net(x)\n",
        "\n",
        "model = TwoLayerModel().to(device)\n",
        "\n",
        "loss = nn.CrossEntropyLoss()\n",
        "optimizer = optim.RMSprop(model.parameters(), lr=0.001, weight_decay=0.01)\n",
        "\n",
        "# Training epoch should be about 15-20 sec each on GPU.\n",
        "metrics = train(model, train_loader, test_loader, loss, optimizer, training_epochs)"
      ],
      "execution_count": 10,
      "outputs": [
        {
          "output_type": "stream",
          "text": [
            "  Epoch 0 @ step 0: Train Loss: 0.004394, Train Accuracy: 0.000000\n",
            "  Epoch 0 @ step 1000: Train Loss: 1.935715, Train Accuracy: 0.327625\n",
            "  Epoch 0 @ step 2000: Train Loss: 1.809503, Train Accuracy: 0.351750\n",
            "  Epoch 0 @ step 3000: Train Loss: 1.797587, Train Accuracy: 0.363250\n",
            "  Epoch 0 @ step 4000: Train Loss: 1.799294, Train Accuracy: 0.359625\n",
            "  Epoch 0 @ step 5000: Train Loss: 1.750797, Train Accuracy: 0.366250\n",
            "  Epoch 0 @ step 6000: Train Loss: 1.743737, Train Accuracy: 0.371875\n",
            "Epoch 0 Test Loss: 1.780166, Test Accuracy: 0.349900, time: 26.0s\n",
            "  Epoch 1 @ step 7000: Train Loss: 1.767226, Train Accuracy: 0.369625\n",
            "  Epoch 1 @ step 8000: Train Loss: 1.748764, Train Accuracy: 0.373750\n",
            "  Epoch 1 @ step 9000: Train Loss: 1.754124, Train Accuracy: 0.374625\n",
            "  Epoch 1 @ step 10000: Train Loss: 1.754911, Train Accuracy: 0.367500\n",
            "  Epoch 1 @ step 11000: Train Loss: 1.729203, Train Accuracy: 0.379125\n",
            "  Epoch 1 @ step 12000: Train Loss: 1.735886, Train Accuracy: 0.378375\n",
            "Epoch 1 Test Loss: 1.724414, Test Accuracy: 0.373100, time: 26.2s\n",
            "  Epoch 2 @ step 13000: Train Loss: 1.723030, Train Accuracy: 0.377375\n",
            "  Epoch 2 @ step 14000: Train Loss: 1.746007, Train Accuracy: 0.385000\n",
            "  Epoch 2 @ step 15000: Train Loss: 1.731750, Train Accuracy: 0.382875\n",
            "  Epoch 2 @ step 16000: Train Loss: 1.728002, Train Accuracy: 0.382500\n",
            "  Epoch 2 @ step 17000: Train Loss: 1.744422, Train Accuracy: 0.376125\n",
            "  Epoch 2 @ step 18000: Train Loss: 1.717082, Train Accuracy: 0.382250\n",
            "Epoch 2 Test Loss: 1.762989, Test Accuracy: 0.361300, time: 26.3s\n",
            "  Epoch 3 @ step 19000: Train Loss: 1.725595, Train Accuracy: 0.383500\n",
            "  Epoch 3 @ step 20000: Train Loss: 1.734288, Train Accuracy: 0.385750\n",
            "  Epoch 3 @ step 21000: Train Loss: 1.732427, Train Accuracy: 0.385125\n",
            "  Epoch 3 @ step 22000: Train Loss: 1.723597, Train Accuracy: 0.386625\n",
            "  Epoch 3 @ step 23000: Train Loss: 1.736227, Train Accuracy: 0.383500\n",
            "  Epoch 3 @ step 24000: Train Loss: 1.734961, Train Accuracy: 0.382750\n",
            "Epoch 3 Test Loss: 1.702363, Test Accuracy: 0.388500, time: 26.1s\n",
            "  Epoch 4 @ step 25000: Train Loss: 1.728822, Train Accuracy: 0.381625\n",
            "  Epoch 4 @ step 26000: Train Loss: 1.733754, Train Accuracy: 0.378250\n",
            "  Epoch 4 @ step 27000: Train Loss: 1.740731, Train Accuracy: 0.382500\n",
            "  Epoch 4 @ step 28000: Train Loss: 1.730523, Train Accuracy: 0.377750\n",
            "  Epoch 4 @ step 29000: Train Loss: 1.725184, Train Accuracy: 0.380500\n",
            "  Epoch 4 @ step 30000: Train Loss: 1.715555, Train Accuracy: 0.380750\n",
            "  Epoch 4 @ step 31000: Train Loss: 1.732533, Train Accuracy: 0.388375\n",
            "Epoch 4 Test Loss: 1.692002, Test Accuracy: 0.394400, time: 26.3s\n",
            "Final Test Loss: 1.692002, Test Accuracy: 0.394400, Total time: 130.9s\n"
          ],
          "name": "stdout"
        }
      ]
    },
    {
      "metadata": {
        "colab_type": "text",
        "id": "qjbncuMnKpf7"
      },
      "cell_type": "markdown",
      "source": [
        "**Plot the model results**\n",
        "\n",
        "Normally we would want to use Tensorboard for looking at metrics.  However, if colab reset while we are working, we might lose our logs and therefore our metrics.  Let's just plot some graphs that will survive across colab instances."
      ]
    },
    {
      "metadata": {
        "colab_type": "code",
        "id": "CuVL9MJ_D92h",
        "outputId": "51582737-5172-4693-b5ea-9bfc04096242",
        "colab": {
          "base_uri": "https://localhost:8080/",
          "height": 573
        }
      },
      "cell_type": "code",
      "source": [
        "plot_graphs(\"TwoLayerModel\", metrics)"
      ],
      "execution_count": 11,
      "outputs": [
        {
          "output_type": "display_data",
          "data": {
            "image/png": "[encoded data removed]",
            "text/plain": [
              "<Figure size 432x288 with 1 Axes>"
            ]
          },
          "metadata": {
            "tags": []
          }
        },
        {
          "output_type": "display_data",
          "data": {
            "image/png": "[encoded data removed]",
            "text/plain": [
              "<Figure size 432x288 with 1 Axes>"
            ]
          },
          "metadata": {
            "tags": []
          }
        }
      ]
    },
    {
      "metadata": {
        "colab_type": "text",
        "id": "4_xi8bkkfsM7"
      },
      "cell_type": "markdown",
      "source": [
        "## Part 2 Convolutional Neural Network (CNN) (35 Points)\n",
        "\n",
        "Now, let's design a convolution neural netwrok!\n",
        "\n",
        "Build a simple CNN model, inserting 2 CNN layers in from of our 2 layer fully connect model from above:\n",
        "\n",
        "1. A convolution with\t3x3 filter, 16 output channels, stride = 1, padding=1\n",
        "2. A ReLU activation\n",
        "2. A Max-Pooling layer with 2x2 window\n",
        "3. A convolution,\t3x3 filter, 16 output channels, stride = 1, padding=1\n",
        "4. A ReLU activation\n",
        "4. Flatten layer\n",
        "5. Fully connected linear layer with output size 64\n",
        "6. ReLU\n",
        "7. Fully connected linear layer, with output size 10\n",
        "\n",
        "You will have to figure out the input sizes of the first fully connnected layer based on the previous layer sizes. Note that you also need to fill those in the report section (see report section in the notebook for details) "
      ]
    },
    {
      "metadata": {
        "colab_type": "code",
        "id": "tLXjjywngO7g",
        "outputId": "192cd81b-7468-4646-ba54-357a63437682",
        "colab": {
          "base_uri": "https://localhost:8080/",
          "height": 663
        }
      },
      "cell_type": "code",
      "source": [
        "class ConvModel(nn.Module):\n",
        "  # Your Code Here\n",
        "  def __init__(self):\n",
        "    super(ConvModel, self).__init__()\n",
        "    self.net = nn.Sequential(\n",
        "        nn.Conv2d(3, 16, kernel_size=3, stride=1, padding=1),\n",
        "        nn.ReLU(),\n",
        "        nn.MaxPool2d(kernel_size=2),\n",
        "        nn.Conv2d(16, 16, kernel_size=3, stride=1, padding=1),\n",
        "        nn.ReLU(),\n",
        "        Flatten(),       \n",
        "        nn.Linear(4096, 64), \n",
        "        nn.ReLU(), \n",
        "        nn.Linear(64, 10)\n",
        "    )\n",
        "    \n",
        "  def forward(self, x):\n",
        "    return self.net(x)\n",
        "\n",
        "model = ConvModel().to(device)\n",
        "\n",
        "loss = nn.CrossEntropyLoss()\n",
        "optimizer = optim.RMSprop(model.parameters(), lr=0.001, weight_decay=0.01)\n",
        "\n",
        "metrics = train(model, train_loader, test_loader, loss, optimizer, training_epochs)"
      ],
      "execution_count": 12,
      "outputs": [
        {
          "output_type": "stream",
          "text": [
            "  Epoch 0 @ step 0: Train Loss: 0.004315, Train Accuracy: 0.000000\n",
            "  Epoch 0 @ step 1000: Train Loss: 1.836359, Train Accuracy: 0.332625\n",
            "  Epoch 0 @ step 2000: Train Loss: 1.561058, Train Accuracy: 0.428000\n",
            "  Epoch 0 @ step 3000: Train Loss: 1.486044, Train Accuracy: 0.456000\n",
            "  Epoch 0 @ step 4000: Train Loss: 1.447316, Train Accuracy: 0.470750\n",
            "  Epoch 0 @ step 5000: Train Loss: 1.427019, Train Accuracy: 0.483875\n",
            "  Epoch 0 @ step 6000: Train Loss: 1.416006, Train Accuracy: 0.496250\n",
            "Epoch 0 Test Loss: 1.353997, Test Accuracy: 0.505300, time: 41.2s\n",
            "  Epoch 1 @ step 7000: Train Loss: 1.375502, Train Accuracy: 0.501750\n",
            "  Epoch 1 @ step 8000: Train Loss: 1.342912, Train Accuracy: 0.519125\n",
            "  Epoch 1 @ step 9000: Train Loss: 1.342262, Train Accuracy: 0.520500\n",
            "  Epoch 1 @ step 10000: Train Loss: 1.343229, Train Accuracy: 0.513375\n",
            "  Epoch 1 @ step 11000: Train Loss: 1.313057, Train Accuracy: 0.524125\n",
            "  Epoch 1 @ step 12000: Train Loss: 1.324245, Train Accuracy: 0.524375\n",
            "Epoch 1 Test Loss: 1.280194, Test Accuracy: 0.544600, time: 41.1s\n",
            "  Epoch 2 @ step 13000: Train Loss: 1.302407, Train Accuracy: 0.531000\n",
            "  Epoch 2 @ step 14000: Train Loss: 1.299729, Train Accuracy: 0.533000\n",
            "  Epoch 2 @ step 15000: Train Loss: 1.294933, Train Accuracy: 0.536625\n",
            "  Epoch 2 @ step 16000: Train Loss: 1.285385, Train Accuracy: 0.535250\n",
            "  Epoch 2 @ step 17000: Train Loss: 1.277450, Train Accuracy: 0.541375\n",
            "  Epoch 2 @ step 18000: Train Loss: 1.271993, Train Accuracy: 0.541500\n",
            "Epoch 2 Test Loss: 1.220474, Test Accuracy: 0.564800, time: 41.0s\n",
            "  Epoch 3 @ step 19000: Train Loss: 1.264345, Train Accuracy: 0.553500\n",
            "  Epoch 3 @ step 20000: Train Loss: 1.252351, Train Accuracy: 0.555375\n",
            "  Epoch 3 @ step 21000: Train Loss: 1.252729, Train Accuracy: 0.547625\n",
            "  Epoch 3 @ step 22000: Train Loss: 1.254950, Train Accuracy: 0.541625\n",
            "  Epoch 3 @ step 23000: Train Loss: 1.247226, Train Accuracy: 0.551625\n",
            "  Epoch 3 @ step 24000: Train Loss: 1.251052, Train Accuracy: 0.552125\n",
            "Epoch 3 Test Loss: 1.211826, Test Accuracy: 0.572700, time: 40.9s\n",
            "  Epoch 4 @ step 25000: Train Loss: 1.250815, Train Accuracy: 0.554375\n",
            "  Epoch 4 @ step 26000: Train Loss: 1.244078, Train Accuracy: 0.549125\n",
            "  Epoch 4 @ step 27000: Train Loss: 1.228384, Train Accuracy: 0.563750\n",
            "  Epoch 4 @ step 28000: Train Loss: 1.225335, Train Accuracy: 0.561000\n",
            "  Epoch 4 @ step 29000: Train Loss: 1.219494, Train Accuracy: 0.564750\n",
            "  Epoch 4 @ step 30000: Train Loss: 1.218303, Train Accuracy: 0.558000\n",
            "  Epoch 4 @ step 31000: Train Loss: 1.224281, Train Accuracy: 0.557375\n",
            "Epoch 4 Test Loss: 1.194890, Test Accuracy: 0.567500, time: 41.1s\n",
            "Final Test Loss: 1.194890, Test Accuracy: 0.567500, Total time: 205.3s\n"
          ],
          "name": "stdout"
        }
      ]
    },
    {
      "metadata": {
        "colab_type": "code",
        "id": "8BGTJw-TPTfh",
        "colab": {
          "base_uri": "https://localhost:8080/",
          "height": 573
        },
        "outputId": "8372defd-0b75-4eeb-eb01-d7a855873671"
      },
      "cell_type": "code",
      "source": [
        "plot_graphs(\"ConvModel\", metrics)"
      ],
      "execution_count": 13,
      "outputs": [
        {
          "output_type": "display_data",
          "data": {
            "image/png": "[encoded data removed]",
            "text/plain": [
              "<Figure size 432x288 with 1 Axes>"
            ]
          },
          "metadata": {
            "tags": []
          }
        },
        {
          "output_type": "display_data",
          "data": {
            "image/png": "[encoded data removed]",
            "text/plain": [
              "<Figure size 432x288 with 1 Axes>"
            ]
          },
          "metadata": {
            "tags": []
          }
        }
      ]
    },
    {
      "metadata": {
        "colab_type": "text",
        "id": "oFAc6IORmzCJ"
      },
      "cell_type": "markdown",
      "source": [
        "Do you notice the improvement over the accuracy compared to that in Part 1? - Yes, it improved about 16%"
      ]
    },
    {
      "metadata": {
        "id": "2vlT1XJJLKg_",
        "colab_type": "code",
        "colab": {}
      },
      "cell_type": "code",
      "source": [
        ""
      ],
      "execution_count": 0,
      "outputs": []
    },
    {
      "metadata": {
        "colab_type": "text",
        "id": "hXpJgsjhftDP"
      },
      "cell_type": "markdown",
      "source": [
        "## Part 3 Open Design Competition (35 Points + 10 bonus points)\n",
        "\n",
        "Try to beat the previous models by adding additional layers, changing parameters, etc.  You should add at least one layer.\n",
        "\n",
        "Possible changes include:\n",
        "*   Dropout\n",
        "*   Batch Normalization\n",
        "*   More layers\n",
        "*   Residual Connections (harder)\n",
        "*   Change layer size\n",
        "*   Pooling layers, stride\n",
        "*   Different optimizer\n",
        "*   Train for longer\n",
        "\n",
        "Once you have a model you think is great, evaluate it against our hidden test data (see hidden_loader above) and upload the results to the leader board on gradescope.  **The top 3 scorers will get a bonus 10 points.**\n",
        "\n",
        "You can steal model structures found on the internet if you want.  The only constraint is that **you must train the model from scratch**.\n"
      ]
    },
    {
      "metadata": {
        "colab_type": "code",
        "id": "QZFkuraiZOaT",
        "colab": {
          "base_uri": "https://localhost:8080/",
          "height": 2347
        },
        "outputId": "9d6655bc-d1da-4144-c8dd-24b6995c9242"
      },
      "cell_type": "code",
      "source": [
        "# You Awesome Super Best model code here\n",
        "class AwesomeModel(nn.Module):\n",
        "  def __init__(self):\n",
        "        super(AwesomeModel, self).__init__()\n",
        "\n",
        "        self.conv_layer = nn.Sequential(\n",
        "            \n",
        "          nn.Conv2d(3, 16, kernel_size=3, stride=1, padding=1),\n",
        "          nn.BatchNorm2d(16),\n",
        "          nn.ReLU(),\n",
        "          nn.MaxPool2d(kernel_size=2),\n",
        "            \n",
        "          nn.Conv2d(in_channels=16, out_channels=32, kernel_size=3, padding=1),\n",
        "          nn.BatchNorm2d(32),\n",
        "          nn.ReLU(),\n",
        "          nn.Conv2d(in_channels=32, out_channels=32, kernel_size=3, padding=1),\n",
        "          nn.ReLU(),\n",
        "          nn.MaxPool2d(kernel_size=2),\n",
        "          nn.Dropout2d(p=0.05),\n",
        "            \n",
        "          nn.Conv2d(32, 64, kernel_size=3, stride=1, padding=1),\n",
        "          nn.BatchNorm2d(64),\n",
        "          nn.ReLU(),\n",
        "          nn.Conv2d(in_channels=64, out_channels=64, kernel_size=3, padding=1),\n",
        "          nn.ReLU(),\n",
        "          nn.MaxPool2d(kernel_size=2)\n",
        "        )\n",
        "        \n",
        "\n",
        "\n",
        "        self.fc_layer = nn.Sequential(\n",
        "          Flatten(), \n",
        "          nn.Dropout(p=0.1),\n",
        "          nn.Linear(1024, 64), \n",
        "          nn.ReLU(), \n",
        "          nn.Linear(64, 10)\n",
        "        )\n",
        "\n",
        "\n",
        "  def forward(self, x):\n",
        "      \"\"\"Perform forward.\"\"\"\n",
        "\n",
        "      # conv layers\n",
        "      x = self.conv_layer(x)\n",
        "\n",
        "      # fc layer\n",
        "      x = self.fc_layer(x)\n",
        "\n",
        "      return x\n",
        "\n",
        "\n",
        "model = AwesomeModel().to(device)\n",
        "\n",
        "loss = nn.CrossEntropyLoss()\n",
        "optimizer = optim.Adam(model.parameters(), lr=0.001, weight_decay=0.01)\n",
        "\n",
        "metrics = train(model, train_loader, test_loader, loss, optimizer, 15)"
      ],
      "execution_count": 38,
      "outputs": [
        {
          "output_type": "stream",
          "text": [
            "  Epoch 0 @ step 0: Train Loss: 0.004283, Train Accuracy: 0.000125\n",
            "  Epoch 0 @ step 1000: Train Loss: 1.864491, Train Accuracy: 0.295125\n",
            "  Epoch 0 @ step 2000: Train Loss: 1.638008, Train Accuracy: 0.389000\n",
            "  Epoch 0 @ step 3000: Train Loss: 1.571615, Train Accuracy: 0.418625\n",
            "  Epoch 0 @ step 4000: Train Loss: 1.529915, Train Accuracy: 0.437125\n",
            "  Epoch 0 @ step 5000: Train Loss: 1.466832, Train Accuracy: 0.462500\n",
            "  Epoch 0 @ step 6000: Train Loss: 1.438350, Train Accuracy: 0.482375\n",
            "Epoch 0 Test Loss: 1.314448, Test Accuracy: 0.522800, time: 64.8s\n",
            "  Epoch 1 @ step 7000: Train Loss: 1.372954, Train Accuracy: 0.503750\n",
            "  Epoch 1 @ step 8000: Train Loss: 1.357582, Train Accuracy: 0.498125\n",
            "  Epoch 1 @ step 9000: Train Loss: 1.330580, Train Accuracy: 0.518875\n",
            "  Epoch 1 @ step 10000: Train Loss: 1.317555, Train Accuracy: 0.518125\n",
            "  Epoch 1 @ step 11000: Train Loss: 1.284391, Train Accuracy: 0.530750\n",
            "  Epoch 1 @ step 12000: Train Loss: 1.272968, Train Accuracy: 0.544125\n",
            "Epoch 1 Test Loss: 1.210570, Test Accuracy: 0.548500, time: 65.2s\n",
            "  Epoch 2 @ step 13000: Train Loss: 1.250070, Train Accuracy: 0.544875\n",
            "  Epoch 2 @ step 14000: Train Loss: 1.219599, Train Accuracy: 0.560000\n",
            "  Epoch 2 @ step 15000: Train Loss: 1.220089, Train Accuracy: 0.563125\n",
            "  Epoch 2 @ step 16000: Train Loss: 1.229451, Train Accuracy: 0.558625\n",
            "  Epoch 2 @ step 17000: Train Loss: 1.195911, Train Accuracy: 0.576750\n",
            "  Epoch 2 @ step 18000: Train Loss: 1.218965, Train Accuracy: 0.570750\n",
            "Epoch 2 Test Loss: 1.122945, Test Accuracy: 0.600600, time: 65.3s\n",
            "  Epoch 3 @ step 19000: Train Loss: 1.191728, Train Accuracy: 0.577125\n",
            "  Epoch 3 @ step 20000: Train Loss: 1.187368, Train Accuracy: 0.571250\n",
            "  Epoch 3 @ step 21000: Train Loss: 1.187297, Train Accuracy: 0.572125\n",
            "  Epoch 3 @ step 22000: Train Loss: 1.165029, Train Accuracy: 0.586125\n",
            "  Epoch 3 @ step 23000: Train Loss: 1.165980, Train Accuracy: 0.583000\n",
            "  Epoch 3 @ step 24000: Train Loss: 1.171775, Train Accuracy: 0.592625\n",
            "Epoch 3 Test Loss: 1.120901, Test Accuracy: 0.602000, time: 65.2s\n",
            "  Epoch 4 @ step 25000: Train Loss: 1.149201, Train Accuracy: 0.585875\n",
            "  Epoch 4 @ step 26000: Train Loss: 1.143008, Train Accuracy: 0.602875\n",
            "  Epoch 4 @ step 27000: Train Loss: 1.142816, Train Accuracy: 0.589375\n",
            "  Epoch 4 @ step 28000: Train Loss: 1.142314, Train Accuracy: 0.594125\n",
            "  Epoch 4 @ step 29000: Train Loss: 1.142023, Train Accuracy: 0.594875\n",
            "  Epoch 4 @ step 30000: Train Loss: 1.139127, Train Accuracy: 0.596875\n",
            "  Epoch 4 @ step 31000: Train Loss: 1.121765, Train Accuracy: 0.605625\n",
            "Epoch 4 Test Loss: 1.066377, Test Accuracy: 0.620700, time: 65.0s\n",
            "  Epoch 5 @ step 32000: Train Loss: 1.140501, Train Accuracy: 0.592375\n",
            "  Epoch 5 @ step 33000: Train Loss: 1.111535, Train Accuracy: 0.607375\n",
            "  Epoch 5 @ step 34000: Train Loss: 1.127523, Train Accuracy: 0.606125\n",
            "  Epoch 5 @ step 35000: Train Loss: 1.139594, Train Accuracy: 0.596625\n",
            "  Epoch 5 @ step 36000: Train Loss: 1.132478, Train Accuracy: 0.593625\n",
            "  Epoch 5 @ step 37000: Train Loss: 1.123269, Train Accuracy: 0.602625\n",
            "Epoch 5 Test Loss: 1.030500, Test Accuracy: 0.631200, time: 64.6s\n",
            "  Epoch 6 @ step 38000: Train Loss: 1.109344, Train Accuracy: 0.607500\n",
            "  Epoch 6 @ step 39000: Train Loss: 1.114924, Train Accuracy: 0.607375\n",
            "  Epoch 6 @ step 40000: Train Loss: 1.113964, Train Accuracy: 0.603625\n",
            "  Epoch 6 @ step 41000: Train Loss: 1.114299, Train Accuracy: 0.600125\n",
            "  Epoch 6 @ step 42000: Train Loss: 1.116487, Train Accuracy: 0.603250\n",
            "  Epoch 6 @ step 43000: Train Loss: 1.102164, Train Accuracy: 0.616625\n",
            "Epoch 6 Test Loss: 0.999463, Test Accuracy: 0.647800, time: 65.2s\n",
            "  Epoch 7 @ step 44000: Train Loss: 1.112736, Train Accuracy: 0.608125\n",
            "  Epoch 7 @ step 45000: Train Loss: 1.109955, Train Accuracy: 0.610000\n",
            "  Epoch 7 @ step 46000: Train Loss: 1.104272, Train Accuracy: 0.608625\n",
            "  Epoch 7 @ step 47000: Train Loss: 1.099678, Train Accuracy: 0.611375\n",
            "  Epoch 7 @ step 48000: Train Loss: 1.110437, Train Accuracy: 0.600500\n",
            "  Epoch 7 @ step 49000: Train Loss: 1.106895, Train Accuracy: 0.604625\n",
            "Epoch 7 Test Loss: 1.037137, Test Accuracy: 0.635900, time: 65.1s\n",
            "  Epoch 8 @ step 50000: Train Loss: 1.092490, Train Accuracy: 0.607000\n",
            "  Epoch 8 @ step 51000: Train Loss: 1.090151, Train Accuracy: 0.618125\n",
            "  Epoch 8 @ step 52000: Train Loss: 1.095901, Train Accuracy: 0.615375\n",
            "  Epoch 8 @ step 53000: Train Loss: 1.091219, Train Accuracy: 0.614875\n",
            "  Epoch 8 @ step 54000: Train Loss: 1.091616, Train Accuracy: 0.617875\n",
            "  Epoch 8 @ step 55000: Train Loss: 1.098202, Train Accuracy: 0.607375\n",
            "  Epoch 8 @ step 56000: Train Loss: 1.109652, Train Accuracy: 0.611250\n",
            "Epoch 8 Test Loss: 1.052081, Test Accuracy: 0.630500, time: 64.7s\n",
            "  Epoch 9 @ step 57000: Train Loss: 1.084364, Train Accuracy: 0.617625\n",
            "  Epoch 9 @ step 58000: Train Loss: 1.075843, Train Accuracy: 0.620250\n",
            "  Epoch 9 @ step 59000: Train Loss: 1.088093, Train Accuracy: 0.619500\n",
            "  Epoch 9 @ step 60000: Train Loss: 1.093809, Train Accuracy: 0.617250\n",
            "  Epoch 9 @ step 61000: Train Loss: 1.076436, Train Accuracy: 0.618750\n",
            "  Epoch 9 @ step 62000: Train Loss: 1.077922, Train Accuracy: 0.617250\n",
            "Epoch 9 Test Loss: 1.012888, Test Accuracy: 0.643900, time: 65.1s\n",
            "  Epoch 10 @ step 63000: Train Loss: 1.086869, Train Accuracy: 0.618375\n",
            "  Epoch 10 @ step 64000: Train Loss: 1.086656, Train Accuracy: 0.620250\n",
            "  Epoch 10 @ step 65000: Train Loss: 1.070784, Train Accuracy: 0.623875\n",
            "  Epoch 10 @ step 66000: Train Loss: 1.088093, Train Accuracy: 0.621875\n",
            "  Epoch 10 @ step 67000: Train Loss: 1.094983, Train Accuracy: 0.611375\n",
            "  Epoch 10 @ step 68000: Train Loss: 1.095232, Train Accuracy: 0.614125\n",
            "Epoch 10 Test Loss: 1.058756, Test Accuracy: 0.624700, time: 65.0s\n",
            "  Epoch 11 @ step 69000: Train Loss: 1.055992, Train Accuracy: 0.626375\n",
            "  Epoch 11 @ step 70000: Train Loss: 1.062002, Train Accuracy: 0.633000\n",
            "  Epoch 11 @ step 71000: Train Loss: 1.069582, Train Accuracy: 0.623500\n",
            "  Epoch 11 @ step 72000: Train Loss: 1.078151, Train Accuracy: 0.613125\n",
            "  Epoch 11 @ step 73000: Train Loss: 1.105197, Train Accuracy: 0.605250\n",
            "  Epoch 11 @ step 74000: Train Loss: 1.078080, Train Accuracy: 0.621875\n",
            "Epoch 11 Test Loss: 0.992485, Test Accuracy: 0.645900, time: 64.7s\n",
            "  Epoch 12 @ step 75000: Train Loss: 1.062382, Train Accuracy: 0.630250\n",
            "  Epoch 12 @ step 76000: Train Loss: 1.068568, Train Accuracy: 0.621500\n",
            "  Epoch 12 @ step 77000: Train Loss: 1.087855, Train Accuracy: 0.618375\n",
            "  Epoch 12 @ step 78000: Train Loss: 1.081442, Train Accuracy: 0.618375\n",
            "  Epoch 12 @ step 79000: Train Loss: 1.058987, Train Accuracy: 0.626875\n",
            "  Epoch 12 @ step 80000: Train Loss: 1.066277, Train Accuracy: 0.618375\n",
            "  Epoch 12 @ step 81000: Train Loss: 1.055571, Train Accuracy: 0.627750\n",
            "Epoch 12 Test Loss: 1.022016, Test Accuracy: 0.638700, time: 64.7s\n",
            "  Epoch 13 @ step 82000: Train Loss: 1.067255, Train Accuracy: 0.623625\n",
            "  Epoch 13 @ step 83000: Train Loss: 1.087432, Train Accuracy: 0.619000\n",
            "  Epoch 13 @ step 84000: Train Loss: 1.057629, Train Accuracy: 0.625000\n",
            "  Epoch 13 @ step 85000: Train Loss: 1.071375, Train Accuracy: 0.626375\n",
            "  Epoch 13 @ step 86000: Train Loss: 1.069467, Train Accuracy: 0.621625\n",
            "  Epoch 13 @ step 87000: Train Loss: 1.064621, Train Accuracy: 0.625250\n",
            "Epoch 13 Test Loss: 0.993134, Test Accuracy: 0.661300, time: 64.8s\n",
            "  Epoch 14 @ step 88000: Train Loss: 1.050576, Train Accuracy: 0.628000\n",
            "  Epoch 14 @ step 89000: Train Loss: 1.071194, Train Accuracy: 0.619250\n",
            "  Epoch 14 @ step 90000: Train Loss: 1.070196, Train Accuracy: 0.617500\n",
            "  Epoch 14 @ step 91000: Train Loss: 1.079565, Train Accuracy: 0.625250\n",
            "  Epoch 14 @ step 92000: Train Loss: 1.070405, Train Accuracy: 0.622375\n",
            "  Epoch 14 @ step 93000: Train Loss: 1.089349, Train Accuracy: 0.613500\n",
            "Epoch 14 Test Loss: 1.051114, Test Accuracy: 0.630300, time: 64.8s\n",
            "  Epoch 15 @ step 94000: Train Loss: 1.066453, Train Accuracy: 0.621250\n",
            "  Epoch 15 @ step 95000: Train Loss: 1.063314, Train Accuracy: 0.621375\n",
            "  Epoch 15 @ step 96000: Train Loss: 1.062359, Train Accuracy: 0.627000\n",
            "  Epoch 15 @ step 97000: Train Loss: 1.055085, Train Accuracy: 0.627000\n",
            "  Epoch 15 @ step 98000: Train Loss: 1.069235, Train Accuracy: 0.624375\n",
            "  Epoch 15 @ step 99000: Train Loss: 1.084672, Train Accuracy: 0.618125\n",
            "Epoch 15 Test Loss: 1.065273, Test Accuracy: 0.614000, time: 65.4s\n",
            "  Epoch 16 @ step 100000: Train Loss: 1.091758, Train Accuracy: 0.619375\n",
            "  Epoch 16 @ step 101000: Train Loss: 1.069975, Train Accuracy: 0.622750\n"
          ],
          "name": "stdout"
        },
        {
          "output_type": "error",
          "ename": "KeyboardInterrupt",
          "evalue": "ignored",
          "traceback": [
            "\u001b[0;31m---------------------------------------------------------------------------\u001b[0m",
            "\u001b[0;31mKeyboardInterrupt\u001b[0m                         Traceback (most recent call last)",
            "\u001b[0;32m<ipython-input-38-9df22f5c6d76>\u001b[0m in \u001b[0;36m<module>\u001b[0;34m()\u001b[0m\n\u001b[1;32m     83\u001b[0m \u001b[0moptimizer\u001b[0m \u001b[0;34m=\u001b[0m \u001b[0moptim\u001b[0m\u001b[0;34m.\u001b[0m\u001b[0mAdam\u001b[0m\u001b[0;34m(\u001b[0m\u001b[0mmodel\u001b[0m\u001b[0;34m.\u001b[0m\u001b[0mparameters\u001b[0m\u001b[0;34m(\u001b[0m\u001b[0;34m)\u001b[0m\u001b[0;34m,\u001b[0m \u001b[0mlr\u001b[0m\u001b[0;34m=\u001b[0m\u001b[0;36m0.001\u001b[0m\u001b[0;34m,\u001b[0m \u001b[0mweight_decay\u001b[0m\u001b[0;34m=\u001b[0m\u001b[0;36m0.01\u001b[0m\u001b[0;34m)\u001b[0m\u001b[0;34m\u001b[0m\u001b[0;34m\u001b[0m\u001b[0m\n\u001b[1;32m     84\u001b[0m \u001b[0;34m\u001b[0m\u001b[0m\n\u001b[0;32m---> 85\u001b[0;31m \u001b[0mmetrics\u001b[0m \u001b[0;34m=\u001b[0m \u001b[0mtrain\u001b[0m\u001b[0;34m(\u001b[0m\u001b[0mmodel\u001b[0m\u001b[0;34m,\u001b[0m \u001b[0mtrain_loader\u001b[0m\u001b[0;34m,\u001b[0m \u001b[0mtest_loader\u001b[0m\u001b[0;34m,\u001b[0m \u001b[0mloss\u001b[0m\u001b[0;34m,\u001b[0m \u001b[0moptimizer\u001b[0m\u001b[0;34m,\u001b[0m \u001b[0;36m30\u001b[0m\u001b[0;34m)\u001b[0m\u001b[0;34m\u001b[0m\u001b[0;34m\u001b[0m\u001b[0m\n\u001b[0m",
            "\u001b[0;32m<ipython-input-5-45dd83a634d8>\u001b[0m in \u001b[0;36mtrain\u001b[0;34m(model, train_loader, test_loader, loss_func, opt, num_epochs)\u001b[0m\n\u001b[1;32m     29\u001b[0m       \u001b[0mloss\u001b[0m \u001b[0;34m=\u001b[0m \u001b[0mloss_func\u001b[0m\u001b[0;34m(\u001b[0m\u001b[0mpreds\u001b[0m\u001b[0;34m,\u001b[0m \u001b[0mlabels\u001b[0m\u001b[0;34m)\u001b[0m\u001b[0;34m\u001b[0m\u001b[0;34m\u001b[0m\u001b[0m\n\u001b[1;32m     30\u001b[0m       \u001b[0mloss\u001b[0m\u001b[0;34m.\u001b[0m\u001b[0mbackward\u001b[0m\u001b[0;34m(\u001b[0m\u001b[0;34m)\u001b[0m\u001b[0;34m\u001b[0m\u001b[0;34m\u001b[0m\u001b[0m\n\u001b[0;32m---> 31\u001b[0;31m       \u001b[0mopt\u001b[0m\u001b[0;34m.\u001b[0m\u001b[0mstep\u001b[0m\u001b[0;34m(\u001b[0m\u001b[0;34m)\u001b[0m\u001b[0;34m\u001b[0m\u001b[0;34m\u001b[0m\u001b[0m\n\u001b[0m\u001b[1;32m     32\u001b[0m \u001b[0;34m\u001b[0m\u001b[0m\n\u001b[1;32m     33\u001b[0m       \u001b[0mtraining_loss\u001b[0m \u001b[0;34m+=\u001b[0m \u001b[0mloss\u001b[0m\u001b[0;34m.\u001b[0m\u001b[0mitem\u001b[0m\u001b[0;34m(\u001b[0m\u001b[0;34m)\u001b[0m\u001b[0;34m\u001b[0m\u001b[0;34m\u001b[0m\u001b[0m\n",
            "\u001b[0;32m/usr/local/lib/python3.6/dist-packages/torch/optim/adam.py\u001b[0m in \u001b[0;36mstep\u001b[0;34m(self, closure)\u001b[0m\n\u001b[1;32m     99\u001b[0m                     \u001b[0mdenom\u001b[0m \u001b[0;34m=\u001b[0m \u001b[0mmax_exp_avg_sq\u001b[0m\u001b[0;34m.\u001b[0m\u001b[0msqrt\u001b[0m\u001b[0;34m(\u001b[0m\u001b[0;34m)\u001b[0m\u001b[0;34m.\u001b[0m\u001b[0madd_\u001b[0m\u001b[0;34m(\u001b[0m\u001b[0mgroup\u001b[0m\u001b[0;34m[\u001b[0m\u001b[0;34m'eps'\u001b[0m\u001b[0;34m]\u001b[0m\u001b[0;34m)\u001b[0m\u001b[0;34m\u001b[0m\u001b[0;34m\u001b[0m\u001b[0m\n\u001b[1;32m    100\u001b[0m                 \u001b[0;32melse\u001b[0m\u001b[0;34m:\u001b[0m\u001b[0;34m\u001b[0m\u001b[0;34m\u001b[0m\u001b[0m\n\u001b[0;32m--> 101\u001b[0;31m                     \u001b[0mdenom\u001b[0m \u001b[0;34m=\u001b[0m \u001b[0mexp_avg_sq\u001b[0m\u001b[0;34m.\u001b[0m\u001b[0msqrt\u001b[0m\u001b[0;34m(\u001b[0m\u001b[0;34m)\u001b[0m\u001b[0;34m.\u001b[0m\u001b[0madd_\u001b[0m\u001b[0;34m(\u001b[0m\u001b[0mgroup\u001b[0m\u001b[0;34m[\u001b[0m\u001b[0;34m'eps'\u001b[0m\u001b[0;34m]\u001b[0m\u001b[0;34m)\u001b[0m\u001b[0;34m\u001b[0m\u001b[0;34m\u001b[0m\u001b[0m\n\u001b[0m\u001b[1;32m    102\u001b[0m \u001b[0;34m\u001b[0m\u001b[0m\n\u001b[1;32m    103\u001b[0m                 \u001b[0mbias_correction1\u001b[0m \u001b[0;34m=\u001b[0m \u001b[0;36m1\u001b[0m \u001b[0;34m-\u001b[0m \u001b[0mbeta1\u001b[0m \u001b[0;34m**\u001b[0m \u001b[0mstate\u001b[0m\u001b[0;34m[\u001b[0m\u001b[0;34m'step'\u001b[0m\u001b[0;34m]\u001b[0m\u001b[0;34m\u001b[0m\u001b[0;34m\u001b[0m\u001b[0m\n",
            "\u001b[0;31mKeyboardInterrupt\u001b[0m: "
          ]
        }
      ]
    },
    {
      "metadata": {
        "colab_type": "text",
        "id": "xbx5REUdc-Xs"
      },
      "cell_type": "markdown",
      "source": [
        "**What changes did you make to improve your model?** \n",
        "\n",
        "* Adding Batch Normalization layer to each layer block\n",
        "* Adding more layers\n",
        "* Change layer size\n",
        "* Pooling layers, stride\n",
        "* Different optimizer\n",
        "* Train for longer\n",
        "\n"
      ]
    },
    {
      "metadata": {
        "id": "0dnYGLUyL4IN",
        "colab_type": "code",
        "colab": {}
      },
      "cell_type": "code",
      "source": [
        ""
      ],
      "execution_count": 0,
      "outputs": []
    },
    {
      "metadata": {
        "colab_type": "code",
        "id": "uItu0w4fZTuG",
        "colab": {
          "base_uri": "https://localhost:8080/",
          "height": 573
        },
        "outputId": "2a443d94-da0f-4b44-abf6-3a89ae1a6f81"
      },
      "cell_type": "code",
      "source": [
        "plot_graphs(\"AwesomeModel\", metrics)"
      ],
      "execution_count": 39,
      "outputs": [
        {
          "output_type": "display_data",
          "data": {
            "image/png": "[encoded data removed]",
            "text/plain": [
              "<Figure size 432x288 with 1 Axes>"
            ]
          },
          "metadata": {
            "tags": []
          }
        },
        {
          "output_type": "display_data",
          "data": {
            "image/png": "[encoded data removed]",
            "text/plain": [
              "<Figure size 432x288 with 1 Axes>"
            ]
          },
          "metadata": {
            "tags": []
          }
        }
      ]
    },
    {
      "metadata": {
        "colab_type": "text",
        "id": "rWlP2WsodgK0"
      },
      "cell_type": "markdown",
      "source": [
        "After you get a nice model, download the test_file.zip and unzip it to get test_file.pt. In colab, you can explore your files from the left side bar. You can also download the files to your machine from there."
      ]
    },
    {
      "metadata": {
        "colab_type": "code",
        "id": "Z6UZInUCdfQ1",
        "colab": {
          "base_uri": "https://localhost:8080/",
          "height": 306
        },
        "outputId": "ebbf62da-ef17-4429-bb68-9b2d0501e037"
      },
      "cell_type": "code",
      "source": [
        "!wget http://courses.engr.illinois.edu/cs498aml/sp2019/homeworks/test_file.zip\n",
        "!unzip test_file.zip"
      ],
      "execution_count": 40,
      "outputs": [
        {
          "output_type": "stream",
          "text": [
            "--2019-05-01 16:29:30--  http://courses.engr.illinois.edu/cs498aml/sp2019/homeworks/test_file.zip\n",
            "Resolving courses.engr.illinois.edu (courses.engr.illinois.edu)... 130.126.151.9\n",
            "Connecting to courses.engr.illinois.edu (courses.engr.illinois.edu)|130.126.151.9|:80... connected.\n",
            "HTTP request sent, awaiting response... 301 Moved Permanently\n",
            "Location: https://courses.engr.illinois.edu/cs498aml/sp2019/homeworks/test_file.zip [following]\n",
            "--2019-05-01 16:29:30--  https://courses.engr.illinois.edu/cs498aml/sp2019/homeworks/test_file.zip\n",
            "Connecting to courses.engr.illinois.edu (courses.engr.illinois.edu)|130.126.151.9|:443... connected.\n",
            "HTTP request sent, awaiting response... 200 OK\n",
            "Length: 3841776 (3.7M) [application/x-zip-compressed]\n",
            "Saving to: ‘test_file.zip’\n",
            "\n",
            "test_file.zip       100%[===================>]   3.66M  5.99MB/s    in 0.6s    \n",
            "\n",
            "2019-05-01 16:29:31 (5.99 MB/s) - ‘test_file.zip’ saved [3841776/3841776]\n",
            "\n",
            "Archive:  test_file.zip\n",
            "  inflating: test_file.pt            \n"
          ],
          "name": "stdout"
        }
      ]
    },
    {
      "metadata": {
        "id": "b6O1qn38YVdL",
        "colab_type": "code",
        "colab": {}
      },
      "cell_type": "code",
      "source": [
        ""
      ],
      "execution_count": 0,
      "outputs": []
    },
    {
      "metadata": {
        "colab_type": "text",
        "id": "7g5caFPreMLT"
      },
      "cell_type": "markdown",
      "source": [
        "Then use your model to predict the label of the test images. Fill the remaining code below, where x has two dimensions (batch_size x one image size). Remember to reshpe x accordingly before feeding it into your model. The submission.txt should contain one predicted label (0~9) each line. Submit your submission.txt to the competition in gradscope."
      ]
    },
    {
      "metadata": {
        "colab_type": "code",
        "id": "yNdYAH9XeLlb",
        "colab": {}
      },
      "cell_type": "code",
      "source": [
        "import torch.utils.data as Data\n",
        "\n",
        "test_file = 'test_file.pt'\n",
        "pred_file = 'submission.txt'\n",
        "\n",
        "f_pred = open(pred_file,'w') \n",
        "tensor = torch.load(test_file)\n",
        "torch_dataset = Data.TensorDataset(tensor)  \n",
        "test_loader = torch.utils.data.DataLoader(torch_dataset, batch_size, shuffle=False, num_workers=2)\n",
        "\n",
        "for ele in test_loader:\n",
        "    x = ele[0].to(device)\n",
        "    \n",
        "    output = model(x.reshape(8, 3, 32, 32))\n",
        "\n",
        "    predicts = torch.argmax(output, dim=1)\n",
        "    for predict in predicts:\n",
        "      f_pred.write(str(predict.item()))\n",
        "      f_pred.write('\\n')\n",
        "    \n",
        "f_pred.close()"
      ],
      "execution_count": 0,
      "outputs": []
    },
    {
      "metadata": {
        "id": "JekaSNZYXeDT",
        "colab_type": "code",
        "colab": {}
      },
      "cell_type": "code",
      "source": [
        "from google.colab import files\n",
        "files.download('submission.txt')"
      ],
      "execution_count": 0,
      "outputs": []
    },
    {
      "metadata": {
        "colab_type": "text",
        "id": "8-L6F0CMqc-A"
      },
      "cell_type": "markdown",
      "source": [
        "\n",
        "# Report\n",
        "\n",
        "## Part 0: Imports and Basic Setup (5 Points)\n",
        "Nothing to report for this part. You will be just scored for finishing the setup.\n",
        "\n",
        "## Part 1: Fully connected neural networks (25 Points)\n",
        "\n",
        "Test (on validation set) accuracy (5 Points): 0.394400\n",
        "\n",
        "Test loss (5 Points): 1.692002\n",
        "\n",
        "Training time (5 Points): 130.9s\n",
        "\n",
        "\n",
        "Plots:\n",
        "\n",
        "- Plot a graph of accuracy on validation set vs training steps (5 Points)\n",
        "\n",
        "- Plot a graph of loss on validation set vs training steps (5 Points)\n",
        "\n",
        "\n",
        "## Part 2: Convolution Network (Basic) (35 Points)\n",
        "\n",
        "Tensor dimensions: A good way to debug your network for size mismatches is to print the dimension of output after every layers:\n",
        "\n",
        "(10 Points)\n",
        "\n",
        "Output dimension after 1st conv layer: 16\n",
        "\n",
        "Output dimension after 1st max pooling: 16\n",
        "\n",
        "Output dimension after 2nd conv layer: 16\n",
        "\n",
        "Output dimension after flatten layer: 4096\n",
        "\n",
        "Output dimension after 1st fully connected layer: 64\n",
        "\n",
        "Output dimension after 2nd fully connected layer: 10\n",
        "\n",
        "\n",
        "Test (on validation set) Accuracy (5 Points): 0.567500\n",
        "\n",
        "Test loss (5 Points): 1.194890\n",
        "\n",
        "Training time (5 Points): 205.3s\n",
        "\n",
        "\n",
        "Plots:\n",
        "\n",
        "- Plot a graph of accuracy on validation set vs training steps (5 Points)\n",
        "\n",
        "- Plot a graph of loss on validation set vs training steps (5 Points)\n",
        "\n",
        "\n",
        "\n",
        "## Part 3: Convolution Network (Add one or more  suggested changes) (35 Points)\n",
        "\n",
        "Describe the additional changes implemented, your intuition for as to why it works, you may also describe other approaches you experimented with (10 Points):\n",
        "\n",
        "* Adding Batch Normalization layer to each layer block\n",
        "* Adding more layers\n",
        "* Changing layer size\n",
        "* Pooling layers, stride\n",
        "* Different optimizer - Adam\n",
        "* Train for longer - 15 epochs\n",
        "\n",
        "Test (on validation set) Accuracy (5 Points):0.630300\n",
        "\n",
        "Test loss (5 Points): 1.051114\n",
        "\n",
        "Training time (5 Points): 970.5s\n",
        "\n",
        "\n",
        "Plots:\n",
        "\n",
        "- Plot a graph of accuracy on validation set vs training steps (5 Points)\n",
        "\n",
        "- Plot a graph of loss on validation set vs training steps (5 Points)\n",
        "\n",
        "10 bonus points will be awarded to top 3 scorers on leaderboard (in case of tie for 3rd position everyone tied for 3rd position will get the bonus)"
      ]
    },
    {
      "metadata": {
        "id": "cMpXJT3p1tjB",
        "colab_type": "code",
        "colab": {}
      },
      "cell_type": "code",
      "source": [
        ""
      ],
      "execution_count": 0,
      "outputs": []
    }
  ]
}