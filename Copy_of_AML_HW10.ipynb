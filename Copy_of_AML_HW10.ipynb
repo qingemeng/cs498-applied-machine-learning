{
  "nbformat": 4,
  "nbformat_minor": 0,
  "metadata": {
    "colab": {
      "name": "Copy of AML_HW10.ipynb",
      "version": "0.3.2",
      "provenance": [],
      "collapsed_sections": [],
      "include_colab_link": true
    },
    "language_info": {
      "codemirror_mode": {
        "name": "ipython",
        "version": 3
      },
      "file_extension": ".py",
      "mimetype": "text/x-python",
      "name": "python",
      "nbconvert_exporter": "python",
      "pygments_lexer": "ipython3",
      "version": "3.6.7"
    },
    "kernelspec": {
      "name": "python3",
      "display_name": "Python 3"
    },
    "accelerator": "GPU"
  },
  "cells": [
    {
      "cell_type": "markdown",
      "metadata": {
        "id": "view-in-github",
        "colab_type": "text"
      },
      "source": [
        "<a href=\"https://colab.research.google.com/github/qingemeng/cs498-applied-machine-learning/blob/master/Copy_of_AML_HW10.ipynb\" target=\"_parent\"><img src=\"https://colab.research.google.com/assets/colab-badge.svg\" alt=\"Open In Colab\"/></a>"
      ]
    },
    {
      "metadata": {
        "colab_type": "text",
        "id": "vUTgGUi4JEft"
      },
      "cell_type": "markdown",
      "source": [
        "# Homework 10 - CIFAR10 Image Classification with PyTorch"
      ]
    },
    {
      "metadata": {
        "colab_type": "text",
        "id": "T5Kx8gJBJEW_"
      },
      "cell_type": "markdown",
      "source": [
        "## About"
      ]
    },
    {
      "metadata": {
        "colab_type": "text",
        "id": "aRAalfd1GITX"
      },
      "cell_type": "markdown",
      "source": [
        "The goal of the homework is to train a convolutional neural network on the standard CIFAR10 image classfication dataset.\n",
        "\n",
        "When solving machine learning tasks using neural networks, one typically starts with a simple network architecture and then improves the network by adding new layers, retraining, adjusting parameters, retraining, etc.  We attempt to illustrate this process below with several architecture improvements.\n"
      ]
    },
    {
      "metadata": {
        "colab_type": "text",
        "id": "OCl5gakxJes-"
      },
      "cell_type": "markdown",
      "source": [
        "## Dev Environment\n",
        "### Working on Google Colab\n",
        "You may choose to work locally or on Google Colaboratory. You have access to free compute through this service.   Colab is recommended since it will be setup correctly and will have access to GPU resources.\n",
        "1. Visit https://colab.research.google.com/drive \n",
        "2. Navigate to the **`Upload`** tab, and upload your `HW10.ipynb`\n",
        "3. Now on the top right corner, under the `Comment` and `Share` options, you should see a `Connect` option. Once you are connected, you will have access to a VM with 12GB RAM, 50 GB disk space and a single GPU. The dropdown menu will allow you to connect to a local runtime as well.\n",
        "\n",
        "**Notes:** \n",
        "* **If you do not have a working setup for Python 3, this is your best bet. It will also save you from heavy installations like `tensorflow` if you don't want to deal with those.**\n",
        "* ***There is a downside*. You can only use this instance for a single 12-hour stretch, after which your data will be deleted, and you would have redownload all your datasets, any libraries not already on the VM, and regenerate your logs**.\n",
        "\n",
        "\n",
        "### Installing PyTorch and Dependencies\n",
        "\n",
        "The instructions for installing and setting up PyTorch can be found at https://pytorch.org/get-started/locally/. Make sure you follow the instructions for your machine. For any of the remaining libraries used in this assignment:\n",
        "* We have provided a `hw8_requirements.txt` file on the homework web page. \n",
        "* Download this file, and in the same directory you can run `pip3 install -r hw8_requirements.txt`\n",
        "​\n",
        "Check that PyTorch installed correctly by running the following:"
      ]
    },
    {
      "metadata": {
        "colab_type": "code",
        "id": "IaJ6BLrAJeCU",
        "colab": {
          "base_uri": "https://localhost:8080/",
          "height": 102
        },
        "outputId": "36e75ebc-2b59-4a49-8069-a0a03d19241a"
      },
      "cell_type": "code",
      "source": [
        "import torch\n",
        "torch.rand(5, 3)"
      ],
      "execution_count": 1,
      "outputs": [
        {
          "output_type": "execute_result",
          "data": {
            "text/plain": [
              "tensor([[0.7422, 0.3416, 0.1672],\n",
              "        [0.4171, 0.2371, 0.1072],\n",
              "        [0.9055, 0.8154, 0.9907],\n",
              "        [0.4520, 0.3420, 0.7664],\n",
              "        [0.8663, 0.6255, 0.0662]])"
            ]
          },
          "metadata": {
            "tags": []
          },
          "execution_count": 1
        }
      ]
    },
    {
      "metadata": {
        "colab_type": "text",
        "id": "nEmmCk1IJiGn"
      },
      "cell_type": "markdown",
      "source": [
        "## Part 0 Imports and Basic Setup  (5 Points)"
      ]
    },
    {
      "metadata": {
        "colab_type": "text",
        "id": "Y3mTddKuXPBU"
      },
      "cell_type": "markdown",
      "source": [
        "First, import the required libraries as follows. The libraries we will use will be the same as those in HW8. "
      ]
    },
    {
      "metadata": {
        "colab_type": "code",
        "id": "UwtDsq3VbrNY",
        "colab": {}
      },
      "cell_type": "code",
      "source": [
        "import numpy as np\n",
        "import torch\n",
        "from torch import nn\n",
        "from torch import optim\n",
        "\n",
        "import matplotlib.pyplot as plt"
      ],
      "execution_count": 0,
      "outputs": []
    },
    {
      "metadata": {
        "colab_type": "text",
        "id": "QWKp_UGlWTyR"
      },
      "cell_type": "markdown",
      "source": [
        "**GPU Support**\n",
        "\n",
        "Training of large network can take a long time. PyTorch supports GPU with just a small amount of effort.\n",
        "\n",
        "When creating our networks, we will call \n",
        "`net.to(device)` to tell the network to train on the GPU, if one is available.  Note, if the network utilizes the GPU, it is important that any tensors we use with it (such as the data) also reside on the CPU.  Thus, a call like `images = images.to(device)` is necessary with any data we want to use with the GPU.\n",
        "\n",
        "Note: If you can't get access to a GPU, don't worry to much.  Since we use very small networks, the difference between CPU and GPU isn't large and in some cases GPU will actually be slower."
      ]
    },
    {
      "metadata": {
        "colab_type": "code",
        "id": "gbGGmnIXYca9",
        "colab": {
          "base_uri": "https://localhost:8080/",
          "height": 34
        },
        "outputId": "bab44de0-216c-4129-d5df-1deabf96791b"
      },
      "cell_type": "code",
      "source": [
        "import torch.cuda as cuda\n",
        "\n",
        "# Use a GPU, i.e. cuda:0 device if it available.\n",
        "device = torch.device(\"cuda:0\" if cuda.is_available() else \"cpu\")\n",
        "print(device)"
      ],
      "execution_count": 3,
      "outputs": [
        {
          "output_type": "stream",
          "text": [
            "cuda:0\n"
          ],
          "name": "stdout"
        }
      ]
    },
    {
      "metadata": {
        "id": "07RjQbhF1tiK",
        "colab_type": "text"
      },
      "cell_type": "markdown",
      "source": [
        "### Training Code"
      ]
    },
    {
      "metadata": {
        "cellView": "form",
        "colab_type": "code",
        "id": "_DZm8ammPCbL",
        "colab": {}
      },
      "cell_type": "code",
      "source": [
        "import time\n",
        "\n",
        "class Flatten(nn.Module):\n",
        "  \"\"\"NN Module that flattens the incoming tensor.\"\"\"\n",
        "  def forward(self, input):\n",
        "    return input.view(input.size(0), -1)\n",
        "  \n",
        "def train(model, train_loader, test_loader, loss_func, opt, num_epochs=10):\n",
        "  all_training_loss = np.zeros((0,2))\n",
        "  all_training_acc = np.zeros((0,2))\n",
        "  all_test_loss = np.zeros((0,2))\n",
        "  all_test_acc = np.zeros((0,2))\n",
        "  \n",
        "  training_step = 0\n",
        "  training_loss, training_acc = 2.0, 0.0\n",
        "  print_every = 1000\n",
        "  \n",
        "  start = time.clock()\n",
        "  \n",
        "  for i in range(num_epochs):\n",
        "    epoch_start = time.clock() \n",
        "   \n",
        "    model.train()\n",
        "    for images, labels in train_loader:\n",
        "      images, labels = images.to(device), labels.to(device)\n",
        "      opt.zero_grad()\n",
        "\n",
        "      preds = model(images)\n",
        "      loss = loss_func(preds, labels)\n",
        "      loss.backward()\n",
        "      opt.step()\n",
        "      \n",
        "      training_loss += loss.item()\n",
        "      training_acc += (torch.argmax(preds, dim=1)==labels).float().mean()\n",
        "      \n",
        "      if training_step % print_every == 0:\n",
        "        training_loss /= print_every\n",
        "        training_acc /= print_every\n",
        "        \n",
        "        all_training_loss = np.concatenate((all_training_loss, [[training_step, training_loss]]))\n",
        "        all_training_acc = np.concatenate((all_training_acc, [[training_step, training_acc]]))\n",
        "        \n",
        "        print('  Epoch %d @ step %d: Train Loss: %3f, Train Accuracy: %3f' % (\n",
        "            i, training_step, training_loss, training_acc))\n",
        "        training_loss, training_acc = 0.0, 0.0\n",
        "        \n",
        "      training_step+=1\n",
        "\n",
        "    model.eval()\n",
        "    with torch.no_grad():\n",
        "      validation_loss, validation_acc = 0.0, 0.0\n",
        "      count = 0\n",
        "      for images, labels in test_loader:\n",
        "        images, labels = images.to(device), labels.to(device)\n",
        "        output = model(images)\n",
        "        validation_loss+=loss_func(output,labels)\n",
        "        validation_acc+=(torch.argmax(output, dim=1) == labels).float().mean()\n",
        "        count += 1\n",
        "      validation_loss/=count\n",
        "      validation_acc/=count\n",
        "      \n",
        "      all_test_loss = np.concatenate((all_test_loss, [[training_step, validation_loss]]))\n",
        "      all_test_acc = np.concatenate((all_test_acc, [[training_step, validation_acc]]))\n",
        "      \n",
        "      epoch_time = time.clock() - epoch_start\n",
        "      \n",
        "      print('Epoch %d Test Loss: %3f, Test Accuracy: %3f, time: %.1fs' % (\n",
        "          i, validation_loss, validation_acc, epoch_time))\n",
        "      \n",
        "  total_time = time.clock() - start\n",
        "  print('Final Test Loss: %3f, Test Accuracy: %3f, Total time: %.1fs' % (\n",
        "      validation_loss, validation_acc, total_time))\n",
        "\n",
        "  return {'loss': { 'train': all_training_loss, 'test': all_test_loss },\n",
        "          'accuracy': { 'train': all_training_acc, 'test': all_test_acc }}\n",
        "\n",
        "def plot_graphs(model_name, metrics):\n",
        "  for metric, values in metrics.items():\n",
        "    for name, v in values.items():\n",
        "      plt.plot(v[:,0], v[:,1], label=name)\n",
        "    plt.title(f'{metric} for {model_name}')\n",
        "    plt.legend()\n",
        "    plt.xlabel(\"Training Steps\")\n",
        "    plt.ylabel(metric)\n",
        "    plt.show()\n",
        "    "
      ],
      "execution_count": 0,
      "outputs": []
    },
    {
      "metadata": {
        "colab_type": "text",
        "id": "1RupXQbCaXb3"
      },
      "cell_type": "markdown",
      "source": [
        "Load the** CIFA-10** dataset and define the transformations. You may also want to print its structure, size, as well as sample a few images to get a sense of how to design the network. "
      ]
    },
    {
      "metadata": {
        "colab_type": "code",
        "id": "mIJmLIgaZ_d3",
        "colab": {}
      },
      "cell_type": "code",
      "source": [
        "!mkdir hw10_data"
      ],
      "execution_count": 0,
      "outputs": []
    },
    {
      "metadata": {
        "colab_type": "code",
        "id": "aDBbPmPPaQuG",
        "colab": {
          "base_uri": "https://localhost:8080/",
          "height": 68
        },
        "outputId": "214290a8-0f0c-4f0a-c5bb-a5de50a993ee"
      },
      "cell_type": "code",
      "source": [
        "# Download the data.\n",
        "from torchvision import datasets, transforms\n",
        "\n",
        "transformations = transforms.Compose(\n",
        "    [transforms.ToTensor(),\n",
        "     transforms.Normalize((0.5, 0.5, 0.5), (0.5, 0.5, 0.5))])\n",
        "train_set = datasets.CIFAR10(root='hw10_data/', download=True, transform=transformations)\n",
        "test_set = datasets.CIFAR10(root='hw10_data', download=True, train=False, transform=transformations)"
      ],
      "execution_count": 6,
      "outputs": [
        {
          "output_type": "stream",
          "text": [
            "  0%|          | 0/170498071 [00:00<?, ?it/s]"
          ],
          "name": "stderr"
        },
        {
          "output_type": "stream",
          "text": [
            "Downloading https://www.cs.toronto.edu/~kriz/cifar-10-python.tar.gz to hw10_data/cifar-10-python.tar.gz\n"
          ],
          "name": "stdout"
        },
        {
          "output_type": "stream",
          "text": [
            "170500096it [00:06, 27346358.53it/s]                               \n"
          ],
          "name": "stderr"
        },
        {
          "output_type": "stream",
          "text": [
            "Files already downloaded and verified\n"
          ],
          "name": "stdout"
        }
      ]
    },
    {
      "metadata": {
        "colab_type": "text",
        "id": "dfomsGyJiKz9"
      },
      "cell_type": "markdown",
      "source": [
        "Use `DataLoader` to create a loader for the training set and a loader for the testing set. You can use a `batch_size` of 8 to start, and change it if you wish."
      ]
    },
    {
      "metadata": {
        "colab_type": "code",
        "id": "Ioe04mbSiQiV",
        "colab": {}
      },
      "cell_type": "code",
      "source": [
        "from torch.utils.data import DataLoader\n",
        "\n",
        "batch_size = 8\n",
        "train_loader = torch.utils.data.DataLoader(train_set, batch_size, shuffle=True, num_workers=2)\n",
        "test_loader = torch.utils.data.DataLoader(test_set, batch_size, shuffle=True, num_workers=2)\n",
        "\n",
        "input_shape = np.array(train_set[0][0]).shape\n",
        "input_dim = input_shape[1]*input_shape[2]*input_shape[0]\n"
      ],
      "execution_count": 0,
      "outputs": []
    },
    {
      "metadata": {
        "colab_type": "code",
        "id": "fGoPdmuUOOiE",
        "colab": {}
      },
      "cell_type": "code",
      "source": [
        "training_epochs = 5"
      ],
      "execution_count": 0,
      "outputs": []
    },
    {
      "metadata": {
        "colab_type": "text",
        "id": "3T2-qkh8frqF"
      },
      "cell_type": "markdown",
      "source": [
        "## Part 1 CIFAR10 with Fully Connected Neural Netowrk (25 Points)\n",
        "\n",
        "As a warm-up, let's begin by training a two-layer fully connected neural network model on ** CIFAR-10** dataset. You may go back to check HW8 for some basics.\n",
        "\n",
        "We will give you this code to use as a baseline to compare against your CNN models."
      ]
    },
    {
      "metadata": {
        "colab_type": "code",
        "id": "Ck1CGpRycRFE",
        "colab": {
          "base_uri": "https://localhost:8080/",
          "height": 663
        },
        "outputId": "609e3b11-21c5-4ebb-8378-bba228c4cf93"
      },
      "cell_type": "code",
      "source": [
        "class TwoLayerModel(nn.Module):\n",
        "  def __init__(self):\n",
        "    super(TwoLayerModel, self).__init__()\n",
        "    self.net = nn.Sequential(\n",
        "      Flatten(), \n",
        "      nn.Linear(input_dim, 64), \n",
        "      nn.ReLU(), \n",
        "      nn.Linear(64, 10))\n",
        "    \n",
        "  def forward(self, x):\n",
        "    return self.net(x)\n",
        "\n",
        "model = TwoLayerModel().to(device)\n",
        "\n",
        "loss = nn.CrossEntropyLoss()\n",
        "optimizer = optim.RMSprop(model.parameters(), lr=0.001, weight_decay=0.01)\n",
        "\n",
        "# Training epoch should be about 15-20 sec each on GPU.\n",
        "metrics = train(model, train_loader, test_loader, loss, optimizer, training_epochs)"
      ],
      "execution_count": 9,
      "outputs": [
        {
          "output_type": "stream",
          "text": [
            "  Epoch 0 @ step 0: Train Loss: 0.004225, Train Accuracy: 0.000250\n",
            "  Epoch 0 @ step 1000: Train Loss: 1.937662, Train Accuracy: 0.330375\n",
            "  Epoch 0 @ step 2000: Train Loss: 1.815672, Train Accuracy: 0.354750\n",
            "  Epoch 0 @ step 3000: Train Loss: 1.786950, Train Accuracy: 0.357250\n",
            "  Epoch 0 @ step 4000: Train Loss: 1.777949, Train Accuracy: 0.365125\n",
            "  Epoch 0 @ step 5000: Train Loss: 1.774321, Train Accuracy: 0.367375\n",
            "  Epoch 0 @ step 6000: Train Loss: 1.741993, Train Accuracy: 0.378875\n",
            "Epoch 0 Test Loss: 1.718605, Test Accuracy: 0.394900, time: 17.1s\n",
            "  Epoch 1 @ step 7000: Train Loss: 1.748135, Train Accuracy: 0.381250\n",
            "  Epoch 1 @ step 8000: Train Loss: 1.741761, Train Accuracy: 0.382000\n",
            "  Epoch 1 @ step 9000: Train Loss: 1.749321, Train Accuracy: 0.380125\n",
            "  Epoch 1 @ step 10000: Train Loss: 1.752507, Train Accuracy: 0.375000\n",
            "  Epoch 1 @ step 11000: Train Loss: 1.738610, Train Accuracy: 0.382000\n",
            "  Epoch 1 @ step 12000: Train Loss: 1.739811, Train Accuracy: 0.380125\n",
            "Epoch 1 Test Loss: 1.727937, Test Accuracy: 0.384500, time: 17.8s\n",
            "  Epoch 2 @ step 13000: Train Loss: 1.722330, Train Accuracy: 0.381625\n",
            "  Epoch 2 @ step 14000: Train Loss: 1.727654, Train Accuracy: 0.391375\n",
            "  Epoch 2 @ step 15000: Train Loss: 1.713505, Train Accuracy: 0.396250\n",
            "  Epoch 2 @ step 16000: Train Loss: 1.747435, Train Accuracy: 0.370375\n",
            "  Epoch 2 @ step 17000: Train Loss: 1.731642, Train Accuracy: 0.379500\n",
            "  Epoch 2 @ step 18000: Train Loss: 1.742811, Train Accuracy: 0.380500\n",
            "Epoch 2 Test Loss: 1.739951, Test Accuracy: 0.386500, time: 18.3s\n",
            "  Epoch 3 @ step 19000: Train Loss: 1.723635, Train Accuracy: 0.391375\n",
            "  Epoch 3 @ step 20000: Train Loss: 1.705404, Train Accuracy: 0.383625\n",
            "  Epoch 3 @ step 21000: Train Loss: 1.743805, Train Accuracy: 0.375250\n",
            "  Epoch 3 @ step 22000: Train Loss: 1.742420, Train Accuracy: 0.378125\n",
            "  Epoch 3 @ step 23000: Train Loss: 1.724347, Train Accuracy: 0.386750\n",
            "  Epoch 3 @ step 24000: Train Loss: 1.745183, Train Accuracy: 0.374500\n",
            "Epoch 3 Test Loss: 1.758004, Test Accuracy: 0.387000, time: 17.6s\n",
            "  Epoch 4 @ step 25000: Train Loss: 1.730110, Train Accuracy: 0.380750\n",
            "  Epoch 4 @ step 26000: Train Loss: 1.733499, Train Accuracy: 0.383125\n",
            "  Epoch 4 @ step 27000: Train Loss: 1.712696, Train Accuracy: 0.392875\n",
            "  Epoch 4 @ step 28000: Train Loss: 1.722543, Train Accuracy: 0.383000\n",
            "  Epoch 4 @ step 29000: Train Loss: 1.742335, Train Accuracy: 0.383500\n",
            "  Epoch 4 @ step 30000: Train Loss: 1.728645, Train Accuracy: 0.379875\n",
            "  Epoch 4 @ step 31000: Train Loss: 1.738060, Train Accuracy: 0.380375\n",
            "Epoch 4 Test Loss: 1.704380, Test Accuracy: 0.402000, time: 17.4s\n",
            "Final Test Loss: 1.704380, Test Accuracy: 0.402000, Total time: 88.2s\n"
          ],
          "name": "stdout"
        }
      ]
    },
    {
      "metadata": {
        "colab_type": "text",
        "id": "qjbncuMnKpf7"
      },
      "cell_type": "markdown",
      "source": [
        "**Plot the model results**\n",
        "\n",
        "Normally we would want to use Tensorboard for looking at metrics.  However, if colab reset while we are working, we might lose our logs and therefore our metrics.  Let's just plot some graphs that will survive across colab instances."
      ]
    },
    {
      "metadata": {
        "colab_type": "code",
        "id": "CuVL9MJ_D92h",
        "colab": {
          "base_uri": "https://localhost:8080/",
          "height": 573
        },
        "outputId": "ad25f41d-a180-4067-c65c-1e387d7916f5"
      },
      "cell_type": "code",
      "source": [
        "plot_graphs(\"TwoLayerModel\", metrics)"
      ],
      "execution_count": 10,
      "outputs": [
        {
          "output_type": "display_data",
          "data": {
            "image/png": "[encoded data removed]",
            "text/plain": [
              "<Figure size 432x288 with 1 Axes>"
            ]
          },
          "metadata": {
            "tags": []
          }
        },
        {
          "output_type": "display_data",
          "data": {
            "image/png": "[encoded data removed]",
            "text/plain": [
              "<Figure size 432x288 with 1 Axes>"
            ]
          },
          "metadata": {
            "tags": []
          }
        }
      ]
    },
    {
      "metadata": {
        "colab_type": "text",
        "id": "4_xi8bkkfsM7"
      },
      "cell_type": "markdown",
      "source": [
        "## Part 2 Convolutional Neural Network (CNN) (35 Points)\n",
        "\n",
        "Now, let's design a convolution neural netwrok!\n",
        "\n",
        "Build a simple CNN model, inserting 2 CNN layers in from of our 2 layer fully connect model from above:\n",
        "\n",
        "1. A convolution with\t3x3 filter, 16 output channels, stride = 1, padding=1\n",
        "2. A ReLU activation\n",
        "2. A Max-Pooling layer with 2x2 window\n",
        "3. A convolution,\t3x3 filter, 16 output channels, stride = 1, padding=1\n",
        "4. A ReLU activation\n",
        "4. Flatten layer\n",
        "5. Fully connected linear layer with output size 64\n",
        "6. ReLU\n",
        "7. Fully connected linear layer, with output size 10\n",
        "\n",
        "You will have to figure out the input sizes of the first fully connnected layer based on the previous layer sizes. Note that you also need to fill those in the report section (see report section in the notebook for details) "
      ]
    },
    {
      "metadata": {
        "colab_type": "code",
        "id": "tLXjjywngO7g",
        "colab": {
          "base_uri": "https://localhost:8080/",
          "height": 341
        },
        "outputId": "8f7c7ba2-7ec5-4da7-dec6-b6869b4e64ae"
      },
      "cell_type": "code",
      "source": [
        "class ConvModel(nn.Module):\n",
        "  # Your Code Here\n",
        "  def __init__(self):\n",
        "    super(ConvModel, self).__init__()\n",
        "    self.net = nn.Sequential(\n",
        "        nn.Conv2d(3, 16, kernel_size=3, stride=1, padding=1),\n",
        "        nn.ReLU(),\n",
        "        nn.MaxPool2d(kernel_size=2),\n",
        "        nn.Conv2d(16, 16, kernel_size=3, stride=1, padding=1),\n",
        "        nn.ReLU(),\n",
        "        Flatten(),       \n",
        "        nn.Linear(input_dim, 64), \n",
        "        nn.ReLU(), \n",
        "        nn.Linear(64, 10))\n",
        "    \n",
        "  def forward(self, x):\n",
        "    return self.net(x)\n",
        "\n",
        "model = ConvModel().to(device)\n",
        "\n",
        "loss = nn.CrossEntropyLoss()\n",
        "optimizer = optim.RMSprop(model.parameters(), lr=0.001, weight_decay=0.01)\n",
        "\n",
        "metrics = train(model, train_loader, test_loader, loss, optimizer, training_epochs)"
      ],
      "execution_count": 21,
      "outputs": [
        {
          "output_type": "error",
          "ename": "RuntimeError",
          "evalue": "ignored",
          "traceback": [
            "\u001b[0;31m---------------------------------------------------------------------------\u001b[0m",
            "\u001b[0;31mRuntimeError\u001b[0m                              Traceback (most recent call last)",
            "\u001b[0;32m<ipython-input-21-9738e11c8e74>\u001b[0m in \u001b[0;36m<module>\u001b[0;34m()\u001b[0m\n\u001b[1;32m     22\u001b[0m \u001b[0moptimizer\u001b[0m \u001b[0;34m=\u001b[0m \u001b[0moptim\u001b[0m\u001b[0;34m.\u001b[0m\u001b[0mRMSprop\u001b[0m\u001b[0;34m(\u001b[0m\u001b[0mmodel\u001b[0m\u001b[0;34m.\u001b[0m\u001b[0mparameters\u001b[0m\u001b[0;34m(\u001b[0m\u001b[0;34m)\u001b[0m\u001b[0;34m,\u001b[0m \u001b[0mlr\u001b[0m\u001b[0;34m=\u001b[0m\u001b[0;36m0.001\u001b[0m\u001b[0;34m,\u001b[0m \u001b[0mweight_decay\u001b[0m\u001b[0;34m=\u001b[0m\u001b[0;36m0.01\u001b[0m\u001b[0;34m)\u001b[0m\u001b[0;34m\u001b[0m\u001b[0;34m\u001b[0m\u001b[0m\n\u001b[1;32m     23\u001b[0m \u001b[0;34m\u001b[0m\u001b[0m\n\u001b[0;32m---> 24\u001b[0;31m \u001b[0mmetrics\u001b[0m \u001b[0;34m=\u001b[0m \u001b[0mtrain\u001b[0m\u001b[0;34m(\u001b[0m\u001b[0mmodel\u001b[0m\u001b[0;34m,\u001b[0m \u001b[0mtrain_loader\u001b[0m\u001b[0;34m,\u001b[0m \u001b[0mtest_loader\u001b[0m\u001b[0;34m,\u001b[0m \u001b[0mloss\u001b[0m\u001b[0;34m,\u001b[0m \u001b[0moptimizer\u001b[0m\u001b[0;34m,\u001b[0m \u001b[0mtraining_epochs\u001b[0m\u001b[0;34m)\u001b[0m\u001b[0;34m\u001b[0m\u001b[0;34m\u001b[0m\u001b[0m\n\u001b[0m",
            "\u001b[0;32m<ipython-input-4-45dd83a634d8>\u001b[0m in \u001b[0;36mtrain\u001b[0;34m(model, train_loader, test_loader, loss_func, opt, num_epochs)\u001b[0m\n\u001b[1;32m     26\u001b[0m       \u001b[0mopt\u001b[0m\u001b[0;34m.\u001b[0m\u001b[0mzero_grad\u001b[0m\u001b[0;34m(\u001b[0m\u001b[0;34m)\u001b[0m\u001b[0;34m\u001b[0m\u001b[0;34m\u001b[0m\u001b[0m\n\u001b[1;32m     27\u001b[0m \u001b[0;34m\u001b[0m\u001b[0m\n\u001b[0;32m---> 28\u001b[0;31m       \u001b[0mpreds\u001b[0m \u001b[0;34m=\u001b[0m \u001b[0mmodel\u001b[0m\u001b[0;34m(\u001b[0m\u001b[0mimages\u001b[0m\u001b[0;34m)\u001b[0m\u001b[0;34m\u001b[0m\u001b[0;34m\u001b[0m\u001b[0m\n\u001b[0m\u001b[1;32m     29\u001b[0m       \u001b[0mloss\u001b[0m \u001b[0;34m=\u001b[0m \u001b[0mloss_func\u001b[0m\u001b[0;34m(\u001b[0m\u001b[0mpreds\u001b[0m\u001b[0;34m,\u001b[0m \u001b[0mlabels\u001b[0m\u001b[0;34m)\u001b[0m\u001b[0;34m\u001b[0m\u001b[0;34m\u001b[0m\u001b[0m\n\u001b[1;32m     30\u001b[0m       \u001b[0mloss\u001b[0m\u001b[0;34m.\u001b[0m\u001b[0mbackward\u001b[0m\u001b[0;34m(\u001b[0m\u001b[0;34m)\u001b[0m\u001b[0;34m\u001b[0m\u001b[0;34m\u001b[0m\u001b[0m\n",
            "\u001b[0;32m/usr/local/lib/python3.6/dist-packages/torch/nn/modules/module.py\u001b[0m in \u001b[0;36m__call__\u001b[0;34m(self, *input, **kwargs)\u001b[0m\n\u001b[1;32m    487\u001b[0m             \u001b[0mresult\u001b[0m \u001b[0;34m=\u001b[0m \u001b[0mself\u001b[0m\u001b[0;34m.\u001b[0m\u001b[0m_slow_forward\u001b[0m\u001b[0;34m(\u001b[0m\u001b[0;34m*\u001b[0m\u001b[0minput\u001b[0m\u001b[0;34m,\u001b[0m \u001b[0;34m**\u001b[0m\u001b[0mkwargs\u001b[0m\u001b[0;34m)\u001b[0m\u001b[0;34m\u001b[0m\u001b[0;34m\u001b[0m\u001b[0m\n\u001b[1;32m    488\u001b[0m         \u001b[0;32melse\u001b[0m\u001b[0;34m:\u001b[0m\u001b[0;34m\u001b[0m\u001b[0;34m\u001b[0m\u001b[0m\n\u001b[0;32m--> 489\u001b[0;31m             \u001b[0mresult\u001b[0m \u001b[0;34m=\u001b[0m \u001b[0mself\u001b[0m\u001b[0;34m.\u001b[0m\u001b[0mforward\u001b[0m\u001b[0;34m(\u001b[0m\u001b[0;34m*\u001b[0m\u001b[0minput\u001b[0m\u001b[0;34m,\u001b[0m \u001b[0;34m**\u001b[0m\u001b[0mkwargs\u001b[0m\u001b[0;34m)\u001b[0m\u001b[0;34m\u001b[0m\u001b[0;34m\u001b[0m\u001b[0m\n\u001b[0m\u001b[1;32m    490\u001b[0m         \u001b[0;32mfor\u001b[0m \u001b[0mhook\u001b[0m \u001b[0;32min\u001b[0m \u001b[0mself\u001b[0m\u001b[0;34m.\u001b[0m\u001b[0m_forward_hooks\u001b[0m\u001b[0;34m.\u001b[0m\u001b[0mvalues\u001b[0m\u001b[0;34m(\u001b[0m\u001b[0;34m)\u001b[0m\u001b[0;34m:\u001b[0m\u001b[0;34m\u001b[0m\u001b[0;34m\u001b[0m\u001b[0m\n\u001b[1;32m    491\u001b[0m             \u001b[0mhook_result\u001b[0m \u001b[0;34m=\u001b[0m \u001b[0mhook\u001b[0m\u001b[0;34m(\u001b[0m\u001b[0mself\u001b[0m\u001b[0;34m,\u001b[0m \u001b[0minput\u001b[0m\u001b[0;34m,\u001b[0m \u001b[0mresult\u001b[0m\u001b[0;34m)\u001b[0m\u001b[0;34m\u001b[0m\u001b[0;34m\u001b[0m\u001b[0m\n",
            "\u001b[0;32m<ipython-input-21-9738e11c8e74>\u001b[0m in \u001b[0;36mforward\u001b[0;34m(self, x)\u001b[0m\n\u001b[1;32m     15\u001b[0m \u001b[0;34m\u001b[0m\u001b[0m\n\u001b[1;32m     16\u001b[0m   \u001b[0;32mdef\u001b[0m \u001b[0mforward\u001b[0m\u001b[0;34m(\u001b[0m\u001b[0mself\u001b[0m\u001b[0;34m,\u001b[0m \u001b[0mx\u001b[0m\u001b[0;34m)\u001b[0m\u001b[0;34m:\u001b[0m\u001b[0;34m\u001b[0m\u001b[0;34m\u001b[0m\u001b[0m\n\u001b[0;32m---> 17\u001b[0;31m     \u001b[0;32mreturn\u001b[0m \u001b[0mself\u001b[0m\u001b[0;34m.\u001b[0m\u001b[0mnet\u001b[0m\u001b[0;34m(\u001b[0m\u001b[0mx\u001b[0m\u001b[0;34m)\u001b[0m\u001b[0;34m\u001b[0m\u001b[0;34m\u001b[0m\u001b[0m\n\u001b[0m\u001b[1;32m     18\u001b[0m \u001b[0;34m\u001b[0m\u001b[0m\n\u001b[1;32m     19\u001b[0m \u001b[0mmodel\u001b[0m \u001b[0;34m=\u001b[0m \u001b[0mConvModel\u001b[0m\u001b[0;34m(\u001b[0m\u001b[0;34m)\u001b[0m\u001b[0;34m.\u001b[0m\u001b[0mto\u001b[0m\u001b[0;34m(\u001b[0m\u001b[0mdevice\u001b[0m\u001b[0;34m)\u001b[0m\u001b[0;34m\u001b[0m\u001b[0;34m\u001b[0m\u001b[0m\n",
            "\u001b[0;32m/usr/local/lib/python3.6/dist-packages/torch/nn/modules/module.py\u001b[0m in \u001b[0;36m__call__\u001b[0;34m(self, *input, **kwargs)\u001b[0m\n\u001b[1;32m    487\u001b[0m             \u001b[0mresult\u001b[0m \u001b[0;34m=\u001b[0m \u001b[0mself\u001b[0m\u001b[0;34m.\u001b[0m\u001b[0m_slow_forward\u001b[0m\u001b[0;34m(\u001b[0m\u001b[0;34m*\u001b[0m\u001b[0minput\u001b[0m\u001b[0;34m,\u001b[0m \u001b[0;34m**\u001b[0m\u001b[0mkwargs\u001b[0m\u001b[0;34m)\u001b[0m\u001b[0;34m\u001b[0m\u001b[0;34m\u001b[0m\u001b[0m\n\u001b[1;32m    488\u001b[0m         \u001b[0;32melse\u001b[0m\u001b[0;34m:\u001b[0m\u001b[0;34m\u001b[0m\u001b[0;34m\u001b[0m\u001b[0m\n\u001b[0;32m--> 489\u001b[0;31m             \u001b[0mresult\u001b[0m \u001b[0;34m=\u001b[0m \u001b[0mself\u001b[0m\u001b[0;34m.\u001b[0m\u001b[0mforward\u001b[0m\u001b[0;34m(\u001b[0m\u001b[0;34m*\u001b[0m\u001b[0minput\u001b[0m\u001b[0;34m,\u001b[0m \u001b[0;34m**\u001b[0m\u001b[0mkwargs\u001b[0m\u001b[0;34m)\u001b[0m\u001b[0;34m\u001b[0m\u001b[0;34m\u001b[0m\u001b[0m\n\u001b[0m\u001b[1;32m    490\u001b[0m         \u001b[0;32mfor\u001b[0m \u001b[0mhook\u001b[0m \u001b[0;32min\u001b[0m \u001b[0mself\u001b[0m\u001b[0;34m.\u001b[0m\u001b[0m_forward_hooks\u001b[0m\u001b[0;34m.\u001b[0m\u001b[0mvalues\u001b[0m\u001b[0;34m(\u001b[0m\u001b[0;34m)\u001b[0m\u001b[0;34m:\u001b[0m\u001b[0;34m\u001b[0m\u001b[0;34m\u001b[0m\u001b[0m\n\u001b[1;32m    491\u001b[0m             \u001b[0mhook_result\u001b[0m \u001b[0;34m=\u001b[0m \u001b[0mhook\u001b[0m\u001b[0;34m(\u001b[0m\u001b[0mself\u001b[0m\u001b[0;34m,\u001b[0m \u001b[0minput\u001b[0m\u001b[0;34m,\u001b[0m \u001b[0mresult\u001b[0m\u001b[0;34m)\u001b[0m\u001b[0;34m\u001b[0m\u001b[0;34m\u001b[0m\u001b[0m\n",
            "\u001b[0;32m/usr/local/lib/python3.6/dist-packages/torch/nn/modules/container.py\u001b[0m in \u001b[0;36mforward\u001b[0;34m(self, input)\u001b[0m\n\u001b[1;32m     90\u001b[0m     \u001b[0;32mdef\u001b[0m \u001b[0mforward\u001b[0m\u001b[0;34m(\u001b[0m\u001b[0mself\u001b[0m\u001b[0;34m,\u001b[0m \u001b[0minput\u001b[0m\u001b[0;34m)\u001b[0m\u001b[0;34m:\u001b[0m\u001b[0;34m\u001b[0m\u001b[0;34m\u001b[0m\u001b[0m\n\u001b[1;32m     91\u001b[0m         \u001b[0;32mfor\u001b[0m \u001b[0mmodule\u001b[0m \u001b[0;32min\u001b[0m \u001b[0mself\u001b[0m\u001b[0;34m.\u001b[0m\u001b[0m_modules\u001b[0m\u001b[0;34m.\u001b[0m\u001b[0mvalues\u001b[0m\u001b[0;34m(\u001b[0m\u001b[0;34m)\u001b[0m\u001b[0;34m:\u001b[0m\u001b[0;34m\u001b[0m\u001b[0;34m\u001b[0m\u001b[0m\n\u001b[0;32m---> 92\u001b[0;31m             \u001b[0minput\u001b[0m \u001b[0;34m=\u001b[0m \u001b[0mmodule\u001b[0m\u001b[0;34m(\u001b[0m\u001b[0minput\u001b[0m\u001b[0;34m)\u001b[0m\u001b[0;34m\u001b[0m\u001b[0;34m\u001b[0m\u001b[0m\n\u001b[0m\u001b[1;32m     93\u001b[0m         \u001b[0;32mreturn\u001b[0m \u001b[0minput\u001b[0m\u001b[0;34m\u001b[0m\u001b[0;34m\u001b[0m\u001b[0m\n\u001b[1;32m     94\u001b[0m \u001b[0;34m\u001b[0m\u001b[0m\n",
            "\u001b[0;32m/usr/local/lib/python3.6/dist-packages/torch/nn/modules/module.py\u001b[0m in \u001b[0;36m__call__\u001b[0;34m(self, *input, **kwargs)\u001b[0m\n\u001b[1;32m    487\u001b[0m             \u001b[0mresult\u001b[0m \u001b[0;34m=\u001b[0m \u001b[0mself\u001b[0m\u001b[0;34m.\u001b[0m\u001b[0m_slow_forward\u001b[0m\u001b[0;34m(\u001b[0m\u001b[0;34m*\u001b[0m\u001b[0minput\u001b[0m\u001b[0;34m,\u001b[0m \u001b[0;34m**\u001b[0m\u001b[0mkwargs\u001b[0m\u001b[0;34m)\u001b[0m\u001b[0;34m\u001b[0m\u001b[0;34m\u001b[0m\u001b[0m\n\u001b[1;32m    488\u001b[0m         \u001b[0;32melse\u001b[0m\u001b[0;34m:\u001b[0m\u001b[0;34m\u001b[0m\u001b[0;34m\u001b[0m\u001b[0m\n\u001b[0;32m--> 489\u001b[0;31m             \u001b[0mresult\u001b[0m \u001b[0;34m=\u001b[0m \u001b[0mself\u001b[0m\u001b[0;34m.\u001b[0m\u001b[0mforward\u001b[0m\u001b[0;34m(\u001b[0m\u001b[0;34m*\u001b[0m\u001b[0minput\u001b[0m\u001b[0;34m,\u001b[0m \u001b[0;34m**\u001b[0m\u001b[0mkwargs\u001b[0m\u001b[0;34m)\u001b[0m\u001b[0;34m\u001b[0m\u001b[0;34m\u001b[0m\u001b[0m\n\u001b[0m\u001b[1;32m    490\u001b[0m         \u001b[0;32mfor\u001b[0m \u001b[0mhook\u001b[0m \u001b[0;32min\u001b[0m \u001b[0mself\u001b[0m\u001b[0;34m.\u001b[0m\u001b[0m_forward_hooks\u001b[0m\u001b[0;34m.\u001b[0m\u001b[0mvalues\u001b[0m\u001b[0;34m(\u001b[0m\u001b[0;34m)\u001b[0m\u001b[0;34m:\u001b[0m\u001b[0;34m\u001b[0m\u001b[0;34m\u001b[0m\u001b[0m\n\u001b[1;32m    491\u001b[0m             \u001b[0mhook_result\u001b[0m \u001b[0;34m=\u001b[0m \u001b[0mhook\u001b[0m\u001b[0;34m(\u001b[0m\u001b[0mself\u001b[0m\u001b[0;34m,\u001b[0m \u001b[0minput\u001b[0m\u001b[0;34m,\u001b[0m \u001b[0mresult\u001b[0m\u001b[0;34m)\u001b[0m\u001b[0;34m\u001b[0m\u001b[0;34m\u001b[0m\u001b[0m\n",
            "\u001b[0;32m/usr/local/lib/python3.6/dist-packages/torch/nn/modules/conv.py\u001b[0m in \u001b[0;36mforward\u001b[0;34m(self, input)\u001b[0m\n\u001b[1;32m    318\u001b[0m     \u001b[0;32mdef\u001b[0m \u001b[0mforward\u001b[0m\u001b[0;34m(\u001b[0m\u001b[0mself\u001b[0m\u001b[0;34m,\u001b[0m \u001b[0minput\u001b[0m\u001b[0;34m)\u001b[0m\u001b[0;34m:\u001b[0m\u001b[0;34m\u001b[0m\u001b[0;34m\u001b[0m\u001b[0m\n\u001b[1;32m    319\u001b[0m         return F.conv2d(input, self.weight, self.bias, self.stride,\n\u001b[0;32m--> 320\u001b[0;31m                         self.padding, self.dilation, self.groups)\n\u001b[0m\u001b[1;32m    321\u001b[0m \u001b[0;34m\u001b[0m\u001b[0m\n\u001b[1;32m    322\u001b[0m \u001b[0;34m\u001b[0m\u001b[0m\n",
            "\u001b[0;31mRuntimeError\u001b[0m: Given groups=1, weight of size [16, 3072, 3, 3], expected input[8, 3, 32, 32] to have 3072 channels, but got 3 channels instead"
          ]
        }
      ]
    },
    {
      "metadata": {
        "colab_type": "code",
        "id": "8BGTJw-TPTfh",
        "colab": {}
      },
      "cell_type": "code",
      "source": [
        "plot_graphs(\"ConvModel\", metrics)"
      ],
      "execution_count": 0,
      "outputs": []
    },
    {
      "metadata": {
        "colab_type": "text",
        "id": "oFAc6IORmzCJ"
      },
      "cell_type": "markdown",
      "source": [
        "Do you notice the improvement over the accuracy compared to that in Part 1?"
      ]
    },
    {
      "metadata": {
        "colab_type": "text",
        "id": "hXpJgsjhftDP"
      },
      "cell_type": "markdown",
      "source": [
        "## Part 3 Open Design Competition (35 Points + 10 bonus points)\n",
        "\n",
        "Try to beat the previous models by adding additional layers, changing parameters, etc.  You should add at least one layer.\n",
        "\n",
        "Possible changes include:\n",
        "*   Dropout\n",
        "*   Batch Normalization\n",
        "*   More layers\n",
        "*   Residual Connections (harder)\n",
        "*   Change layer size\n",
        "*   Pooling layers, stride\n",
        "*   Different optimizer\n",
        "*   Train for longer\n",
        "\n",
        "Once you have a model you think is great, evaluate it against our hidden test data (see hidden_loader above) and upload the results to the leader board on gradescope.  **The top 3 scorers will get a bonus 10 points.**\n",
        "\n",
        "You can steal model structures found on the internet if you want.  The only constraint is that **you must train the model from scratch**.\n"
      ]
    },
    {
      "metadata": {
        "colab_type": "code",
        "id": "QZFkuraiZOaT",
        "colab": {}
      },
      "cell_type": "code",
      "source": [
        "# You Awesome Super Best model code here"
      ],
      "execution_count": 0,
      "outputs": []
    },
    {
      "metadata": {
        "colab_type": "text",
        "id": "xbx5REUdc-Xs"
      },
      "cell_type": "markdown",
      "source": [
        "**What changes did you make to improve your model?**"
      ]
    },
    {
      "metadata": {
        "colab_type": "code",
        "id": "uItu0w4fZTuG",
        "colab": {}
      },
      "cell_type": "code",
      "source": [
        "plot_graphs(\"AwesomeModel\", metrics)"
      ],
      "execution_count": 0,
      "outputs": []
    },
    {
      "metadata": {
        "colab_type": "text",
        "id": "rWlP2WsodgK0"
      },
      "cell_type": "markdown",
      "source": [
        "After you get a nice model, download the test_file.zip and unzip it to get test_file.pt. In colab, you can explore your files from the left side bar. You can also download the files to your machine from there."
      ]
    },
    {
      "metadata": {
        "colab_type": "code",
        "id": "Z6UZInUCdfQ1",
        "colab": {}
      },
      "cell_type": "code",
      "source": [
        "!wget http://courses.engr.illinois.edu/cs498aml/sp2019/homeworks/test_file.zip\n",
        "!unzip test_file.zip"
      ],
      "execution_count": 0,
      "outputs": []
    },
    {
      "metadata": {
        "colab_type": "text",
        "id": "7g5caFPreMLT"
      },
      "cell_type": "markdown",
      "source": [
        "Then use your model to predict the label of the test images. Fill the remaining code below, where x has two dimensions (batch_size x one image size). Remember to reshpe x accordingly before feeding it into your model. The submission.txt should contain one predicted label (0~9) each line. Submit your submission.txt to the competition in gradscope."
      ]
    },
    {
      "metadata": {
        "colab_type": "code",
        "id": "yNdYAH9XeLlb",
        "colab": {}
      },
      "cell_type": "code",
      "source": [
        "import torch.utils.data as Data\n",
        "\n",
        "test_file = 'test_file.pt'\n",
        "pred_file = 'submission.txt'\n",
        "\n",
        "f_pred = open(pred_file,'w') \n",
        "tensor = torch.load(test_file)\n",
        "torch_dataset = Data.TensorDataset(tensor)  \n",
        "test_loader = torch.utils.data.DataLoader(torch_dataset, batch_size, shuffle=False, num_workers=2)\n",
        "\n",
        "for ele in test_loader:\n",
        "    x = ele[0]\n",
        "    \n",
        "    # Fill your code here\n",
        "    \n",
        "    f_pred.write('\\n')\n",
        "    \n",
        "f_pred.close()"
      ],
      "execution_count": 0,
      "outputs": []
    },
    {
      "metadata": {
        "colab_type": "text",
        "id": "8-L6F0CMqc-A"
      },
      "cell_type": "markdown",
      "source": [
        "\n",
        "# Report\n",
        "\n",
        "## Part 0: Imports and Basic Setup (5 Points)\n",
        "Nothing to report for this part. You will be just scored for finishing the setup.\n",
        "\n",
        "## Part 1: Fully connected neural networks (25 Points)\n",
        "\n",
        "Test (on validation set) accuracy (5 Points):\n",
        "\n",
        "Test loss (5 Points):\n",
        "\n",
        "Training time (5 Points):\n",
        "\n",
        "\n",
        "Plots:\n",
        "\n",
        "- Plot a graph of accuracy on validation set vs training steps (5 Points)\n",
        "\n",
        "- Plot a graph of loss on validation set vs training steps (5 Points)\n",
        "\n",
        "\n",
        "## Part 2: Convolution Network (Basic) (35 Points)\n",
        "\n",
        "Tensor dimensions: A good way to debug your network for size mismatches is to print the dimension of output after every layers:\n",
        "\n",
        "(10 Points)\n",
        "\n",
        "Output dimension after 1st conv layer: \n",
        "\n",
        "Output dimension after 1st max pooling: \n",
        "\n",
        "Output dimension after 2nd conv layer: \n",
        "\n",
        "Output dimension after flatten layer:\n",
        "\n",
        "Output dimension after 1st fully connected layer:\n",
        "\n",
        "Output dimension after 2nd fully connected layer:\n",
        "\n",
        "\n",
        "Test (on validation set) Accuracy (5 Points):\n",
        "\n",
        "Test loss (5 Points):\n",
        "\n",
        "Training time (5 Points):\n",
        "\n",
        "\n",
        "Plots:\n",
        "\n",
        "- Plot a graph of accuracy on validation set vs training steps (5 Points)\n",
        "\n",
        "- Plot a graph of loss on validation set vs training steps (5 Points)\n",
        "\n",
        "\n",
        "\n",
        "## Part 3: Convolution Network (Add one or more  suggested changes) (35 Points)\n",
        "\n",
        "Describe the additional changes implemented, your intuition for as to why it works, you may also describe other approaches you experimented with (10 Points):\n",
        "\n",
        "\n",
        "Test (on validation set) Accuracy (5 Points):\n",
        "\n",
        "Test loss (5 Points):\n",
        "\n",
        "Training time (5 Points):\n",
        "\n",
        "\n",
        "Plots:\n",
        "\n",
        "- Plot a graph of accuracy on validation set vs training steps (5 Points)\n",
        "\n",
        "- Plot a graph of loss on validation set vs training steps (5 Points)\n",
        "\n",
        "10 bonus points will be awarded to top 3 scorers on leaderboard (in case of tie for 3rd position everyone tied for 3rd position will get the bonus)"
      ]
    },
    {
      "metadata": {
        "id": "cMpXJT3p1tjB",
        "colab_type": "code",
        "colab": {}
      },
      "cell_type": "code",
      "source": [
        ""
      ],
      "execution_count": 0,
      "outputs": []
    }
  ]
}