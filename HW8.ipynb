{
  "nbformat": 4,
  "nbformat_minor": 0,
  "metadata": {
    "colab": {
      "name": "HW8.ipynb",
      "version": "0.3.2",
      "provenance": [],
      "include_colab_link": true
    },
    "kernelspec": {
      "display_name": "Python 3",
      "language": "python",
      "name": "python3"
    }
  },
  "cells": [
    {
      "cell_type": "markdown",
      "metadata": {
        "id": "view-in-github",
        "colab_type": "text"
      },
      "source": [
        "<a href=\"https://colab.research.google.com/github/qingemeng/cs498-applied-machine-learning/blob/master/HW8.ipynb\" target=\"_parent\"><img src=\"https://colab.research.google.com/assets/colab-badge.svg\" alt=\"Open In Colab\"/></a>"
      ]
    },
    {
      "metadata": {
        "id": "AgA7nXz6EIZN",
        "colab_type": "text"
      },
      "cell_type": "markdown",
      "source": [
        "# Homework 8 - Artificial Neural Networks with PyTorch"
      ]
    },
    {
      "metadata": {
        "id": "TV4B4xXDEIZP",
        "colab_type": "text"
      },
      "cell_type": "markdown",
      "source": [
        "## About "
      ]
    },
    {
      "metadata": {
        "id": "ijn_1EvsEIZQ",
        "colab_type": "text"
      },
      "cell_type": "markdown",
      "source": [
        "### In this homework, you will get your feet wet with deep learning using the PyTorch deep learning platform. This will involve:\n",
        "* Preparing data \n",
        "* Learning about the components of a deep learning pipeline\n",
        "* Setting up a model, a loss function, and an optimizer\n",
        "* Setting up training and testing loops\n",
        "* Using a visualizer like tensorboard to monitor logged data\n",
        "\n",
        "*This homework is due __April 15th 2019__. Training neural networks takes some time, particularly on CPUs so start early.* \n"
      ]
    },
    {
      "metadata": {
        "id": "5eNbea1sEIZR",
        "colab_type": "text"
      },
      "cell_type": "markdown",
      "source": [
        "## Dev Environment\n",
        "### Working on Google Colab\n",
        "You may choose to work locally or on Google Colaboratory. You have access to free compute through this service. \n",
        "1. Visit https://colab.research.google.com/drive \n",
        "2. Navigate to the **`Upload`** tab, and upload your `HW8.ipynb`\n",
        "3. Now on the top right corner, under the `Comment` and `Share` options, you should see a `Connect` option. Once you are connected, you will have access to a VM with 12GB RAM, 50 GB disk space and a single GPU. The dropdown menu will allow you to connect to a local runtime as well.\n",
        "\n",
        "**Notes:** \n",
        "* **If you do not have a working setup for Python 3, this is your best bet. It will also save you from heavy installations like `tensorflow` if you don't want to deal with those.**\n",
        "* ***There is a downside*. You can only use this instance for a single 12-hour stretch, after which your data will be deleted, and you would have redownload all your datasets, any libraries not already on the VM, and regenerate your logs**.\n",
        "\n",
        "\n",
        "### Installing PyTorch and Dependencies\n",
        "\n",
        "The instructions for installing and setting up PyTorch can be found at https://pytorch.org/get-started/locally/. Make sure you follow the instructions for your machine. For any of the remaining libraries used in this assignment:\n",
        "* We have provided a `hw8_requirements.txt` file on the homework web page. \n",
        "* Download this file, and in the same directory you can run `pip3 install -r hw8_requirements.txt`\n",
        "\n",
        "Check that PyTorch installed correctly by running the following:"
      ]
    },
    {
      "metadata": {
        "id": "BANWm3Q8EIZS",
        "colab_type": "code",
        "colab": {
          "base_uri": "https://localhost:8080/",
          "height": 102
        },
        "outputId": "ff54bc4a-cb9f-4b60-d786-6bf9e8be7bc0"
      },
      "cell_type": "code",
      "source": [
        "import torch\n",
        "torch.rand(5, 3)"
      ],
      "execution_count": 1,
      "outputs": [
        {
          "output_type": "execute_result",
          "data": {
            "text/plain": [
              "tensor([[0.0168, 0.5534, 0.5190],\n",
              "        [0.9927, 0.3609, 0.2208],\n",
              "        [0.8357, 0.3282, 0.6986],\n",
              "        [0.2240, 0.6171, 0.8879],\n",
              "        [0.3311, 0.0835, 0.7632]])"
            ]
          },
          "metadata": {
            "tags": []
          },
          "execution_count": 1
        }
      ]
    },
    {
      "metadata": {
        "id": "HaiOYwCeEIZV",
        "colab_type": "text"
      },
      "cell_type": "markdown",
      "source": [
        "The output should look something like\n",
        "\n",
        "```python\n",
        "tensor([[0.3380, 0.3845, 0.3217],\n",
        "        [0.8337, 0.9050, 0.2650],\n",
        "        [0.2979, 0.7141, 0.9069],\n",
        "        [0.1449, 0.1132, 0.1375],\n",
        "        [0.4675, 0.3947, 0.1426]])\n",
        "```\n",
        "\n",
        "### Let's get started with the assignment."
      ]
    },
    {
      "metadata": {
        "id": "yo7vwDXZEIZW",
        "colab_type": "text"
      },
      "cell_type": "markdown",
      "source": [
        "## Instructions\n",
        "### Part 1 -  Datasets and Dataloaders (10 points)\n",
        "\n",
        "In this section we will download the MNIST dataset using PyTorch's own API.\n",
        "\n",
        "Helpful Resources:\n",
        "* https://pytorch.org/docs/stable/torchvision/datasets.html#mnist\n",
        "* https://pytorch.org/docs/stable/torchvision/transforms.html\n",
        "* https://pytorch.org/tutorials/beginner/data_loading_tutorial.html\n",
        "\n",
        "\n",
        "The `torchvision` package consists of popular datasets, model architectures, and common image transformations for computer vision. We are particularly concerned with `torchvision.datasets` and `torchvision.transforms`. Check out the API for these modules in the links provided above.\n",
        "\n",
        "**Create a directory named `hw8_data` with the following command**."
      ]
    },
    {
      "metadata": {
        "id": "0vEfC3QqEIZX",
        "colab_type": "code",
        "colab": {}
      },
      "cell_type": "code",
      "source": [
        "!mkdir hw8_data"
      ],
      "execution_count": 0,
      "outputs": []
    },
    {
      "metadata": {
        "id": "DFTC3vjqEIZb",
        "colab_type": "text"
      },
      "cell_type": "markdown",
      "source": [
        "\n",
        "**Now use `torch.datasets.MNIST` to load the Train and Test data into `hw8_data`.** \n",
        "* ** Use the directory you created above as the `root` directory for your datasets**\n",
        "* ** Populate the `transformations` variable with any transformations you would like to perform on your data.** (Hint: You will need to do at least one)\n",
        "* **Pass your `transformations` variable to `torch.datasets.MNIST`. This allows you to perform arbitrary transformations to your data at loading time.**"
      ]
    },
    {
      "metadata": {
        "id": "RHuknPprEIZc",
        "colab_type": "code",
        "colab": {
          "base_uri": "https://localhost:8080/",
          "height": 255
        },
        "outputId": "4f7d7b5c-37f6-40b1-9ae2-10caa7365321"
      },
      "cell_type": "code",
      "source": [
        "from torchvision import datasets, transforms\n",
        "\n",
        "## YOUR CODE HERE ##\n",
        "transformations = transforms.Compose([transforms.ToTensor(), transforms.Normalize((0.5,), (1.0,))])\n",
        "mnist_train = datasets.MNIST(root='hw8_data', train=True, transform=transformations, download=True) \n",
        "mnist_test = datasets.MNIST(root='hw8_data', train=False, transform=transformations, download=True)"
      ],
      "execution_count": 7,
      "outputs": [
        {
          "output_type": "stream",
          "text": [
            "  0%|          | 0/9912422 [00:00<?, ?it/s]"
          ],
          "name": "stderr"
        },
        {
          "output_type": "stream",
          "text": [
            "Downloading http://yann.lecun.com/exdb/mnist/train-images-idx3-ubyte.gz to hw8_data/MNIST/raw/train-images-idx3-ubyte.gz\n"
          ],
          "name": "stdout"
        },
        {
          "output_type": "stream",
          "text": [
            "9920512it [00:00, 27442179.12it/s]                            \n"
          ],
          "name": "stderr"
        },
        {
          "output_type": "stream",
          "text": [
            "Extracting hw8_data/MNIST/raw/train-images-idx3-ubyte.gz\n"
          ],
          "name": "stdout"
        },
        {
          "output_type": "stream",
          "text": [
            "32768it [00:00, 445744.10it/s]\n",
            "  1%|          | 16384/1648877 [00:00<00:11, 143658.20it/s]"
          ],
          "name": "stderr"
        },
        {
          "output_type": "stream",
          "text": [
            "Downloading http://yann.lecun.com/exdb/mnist/train-labels-idx1-ubyte.gz to hw8_data/MNIST/raw/train-labels-idx1-ubyte.gz\n",
            "Extracting hw8_data/MNIST/raw/train-labels-idx1-ubyte.gz\n",
            "Downloading http://yann.lecun.com/exdb/mnist/t10k-images-idx3-ubyte.gz to hw8_data/MNIST/raw/t10k-images-idx3-ubyte.gz\n"
          ],
          "name": "stdout"
        },
        {
          "output_type": "stream",
          "text": [
            "1654784it [00:00, 7494050.31it/s]                           \n",
            "8192it [00:00, 174635.65it/s]\n"
          ],
          "name": "stderr"
        },
        {
          "output_type": "stream",
          "text": [
            "Extracting hw8_data/MNIST/raw/t10k-images-idx3-ubyte.gz\n",
            "Downloading http://yann.lecun.com/exdb/mnist/t10k-labels-idx1-ubyte.gz to hw8_data/MNIST/raw/t10k-labels-idx1-ubyte.gz\n",
            "Extracting hw8_data/MNIST/raw/t10k-labels-idx1-ubyte.gz\n",
            "Processing...\n",
            "Done!\n"
          ],
          "name": "stdout"
        }
      ]
    },
    {
      "metadata": {
        "id": "_g22SUufEIZf",
        "colab_type": "text"
      },
      "cell_type": "markdown",
      "source": [
        "Check that your torch datasets have been successfully downloaded into your data directory by running the next two cells. \n",
        "\n",
        "* Each will output some metadata about your dataset. \n",
        "* Check that the training set has 60000 datapoints and a `Root Location: hw8_data`\n",
        "* Check that the testing (__also validation in our case__) set has 10000 datapoints and `Root Location: hw8_data`"
      ]
    },
    {
      "metadata": {
        "id": "YwqjpFaeEIZg",
        "colab_type": "text"
      },
      "cell_type": "markdown",
      "source": [
        "Notice that these datasets implement the python `__len__` and `__getitem__` functions. Each element in the dataset should be a 2-tuple. What does yours look like?"
      ]
    },
    {
      "metadata": {
        "id": "fHfCI57mEIZh",
        "colab_type": "code",
        "colab": {
          "base_uri": "https://localhost:8080/",
          "height": 204
        },
        "outputId": "eacba897-d0c6-4a87-8ca7-9ddacd3664ba"
      },
      "cell_type": "code",
      "source": [
        "print(len(mnist_train))\n",
        "print(len(mnist_train[0]))\n",
        "mnist_train"
      ],
      "execution_count": 8,
      "outputs": [
        {
          "output_type": "stream",
          "text": [
            "60000\n",
            "2\n"
          ],
          "name": "stdout"
        },
        {
          "output_type": "execute_result",
          "data": {
            "text/plain": [
              "Dataset MNIST\n",
              "    Number of datapoints: 60000\n",
              "    Split: train\n",
              "    Root Location: hw8_data\n",
              "    Transforms (if any): Compose(\n",
              "                             ToTensor()\n",
              "                             Normalize(mean=(0.5,), std=(1.0,))\n",
              "                         )\n",
              "    Target Transforms (if any): None"
            ]
          },
          "metadata": {
            "tags": []
          },
          "execution_count": 8
        }
      ]
    },
    {
      "metadata": {
        "id": "LBxshGepEIZl",
        "colab_type": "code",
        "colab": {
          "base_uri": "https://localhost:8080/",
          "height": 204
        },
        "outputId": "6c47f18f-86d5-4910-faf1-3703e23ae5b9"
      },
      "cell_type": "code",
      "source": [
        "print(len(mnist_test))\n",
        "print(len(mnist_test[0]))\n",
        "mnist_test"
      ],
      "execution_count": 9,
      "outputs": [
        {
          "output_type": "stream",
          "text": [
            "10000\n",
            "2\n"
          ],
          "name": "stdout"
        },
        {
          "output_type": "execute_result",
          "data": {
            "text/plain": [
              "Dataset MNIST\n",
              "    Number of datapoints: 10000\n",
              "    Split: test\n",
              "    Root Location: hw8_data\n",
              "    Transforms (if any): Compose(\n",
              "                             ToTensor()\n",
              "                             Normalize(mean=(0.5,), std=(1.0,))\n",
              "                         )\n",
              "    Target Transforms (if any): None"
            ]
          },
          "metadata": {
            "tags": []
          },
          "execution_count": 9
        }
      ]
    },
    {
      "metadata": {
        "id": "3CUw0RdtEIZq",
        "colab_type": "text"
      },
      "cell_type": "markdown",
      "source": [
        "**Any file in our dataset will now be read at runtime, and the specified transformations we need on it will be applied when we need it.**. \n",
        "\n",
        "We could iterate through these directly using a loop, but this is not idiomatic. PyTorch provides us with this abstraction in the form of `DataLoaders`. The module of interest is `torch.utils.data.DataLoader`. \n",
        "\n",
        "`DataLoader` allows us to do lots of useful things\n",
        "* Group our data into batches\n",
        "* Shuffle our data\n",
        "* Load the data in parallel using `multiprocessing` workers\n",
        "\n",
        "**Use `DataLoader` to create a loader for the training set and one for the testing set**\n",
        "* **Use a `batch_size` of 32 to start, you may change it if you wish.**\n",
        "* **Set the `shuffle` parameter to `True`.** \n"
      ]
    },
    {
      "metadata": {
        "id": "xjTcySy8EIZr",
        "colab_type": "code",
        "colab": {}
      },
      "cell_type": "code",
      "source": [
        "from torch.utils.data import DataLoader\n",
        "\n",
        "## YOUR CODE HERE ##\n",
        "batch_size = 32\n",
        "train_loader = DataLoader(dataset=mnist_train,\n",
        "                 batch_size=batch_size,\n",
        "                 shuffle=True)\n",
        "test_loader = DataLoader(dataset=mnist_test,\n",
        "                 batch_size=batch_size,\n",
        "                 shuffle=True)"
      ],
      "execution_count": 0,
      "outputs": []
    },
    {
      "metadata": {
        "id": "0JaTgsC7EIZ2",
        "colab_type": "text"
      },
      "cell_type": "markdown",
      "source": [
        "The following function is adapted from `show_landmarks_batch` at \n",
        "https://pytorch.org/tutorials/beginner/data_loading_tutorial.html#iterating-through-the-dataset . \n",
        "\n",
        "Run the following cell to see that your loader provides a random `batch_size` number of data points."
      ]
    },
    {
      "metadata": {
        "id": "yG__wtY-EIZ6",
        "colab_type": "code",
        "colab": {
          "base_uri": "https://localhost:8080/",
          "height": 249
        },
        "outputId": "9f1e411a-9c38-4207-821f-a9e6c1eb7723"
      },
      "cell_type": "code",
      "source": [
        "import matplotlib.pyplot as plt\n",
        "from torchvision import utils\n",
        "%matplotlib inline\n",
        "\n",
        "def show_mnist_batch(sample_batched):\n",
        "    \"\"\"Show images for a batch of samples.\"\"\"\n",
        "    images_batch = sample_batched[0]\n",
        "    batch_size = len(images_batch)\n",
        "    im_size = images_batch.size(2)\n",
        "\n",
        "    grid = utils.make_grid(images_batch)\n",
        "    plt.imshow(grid.numpy().transpose((1, 2, 0)))\n",
        "    plt.title('Batch from DataLoader')\n",
        "    \n",
        "# Displays the first batch of images\n",
        "for i, batch in enumerate(train_loader):\n",
        "    if i==1:\n",
        "        break\n",
        "    show_mnist_batch(batch)"
      ],
      "execution_count": 11,
      "outputs": [
        {
          "output_type": "stream",
          "text": [
            "Clipping input data to the valid range for imshow with RGB data ([0..1] for floats or [0..255] for integers).\n"
          ],
          "name": "stderr"
        },
        {
          "output_type": "display_data",
          "data": {
            "image/png": "[encoded data removed]",
            "text/plain": [
              "<Figure size 432x288 with 1 Axes>"
            ]
          },
          "metadata": {
            "tags": []
          }
        }
      ]
    },
    {
      "metadata": {
        "id": "i4LAZSnEEIaA",
        "colab_type": "text"
      },
      "cell_type": "markdown",
      "source": [
        "### Part 2  - Models, Loss Functions and Optimizers (10 points)\n",
        "\n",
        "In this section, we will do the following:\n",
        "* Learn about how to build your deep learning model and define its parameters\n",
        "* Choose a loss function to optimize\n",
        "* Choose an optimization method to maximize/minimize the loss\n",
        "\n",
        "We'll first start with a single layer neural network to do handwritten digit classification. The math may ring some bells from homework 7.\n",
        "\n",
        "`torch.nn` is the module we will be using here. You can find the API at https://pytorch.org/docs/stable/nn.html. There is also a quick summary at https://pytorch.org/tutorials/beginner/nn_tutorial.html#closing_thoughts.\n",
        "\n",
        "#### Models\n",
        "\n",
        "We will use the following python modules in building our one layer model.\n",
        "\n",
        "* `torch.nn.Module`: Your model will be abstracted as a python class. Your python class must subclass `torch.nn.Module`. It is the base class for all neural network modules in PyTorch (Do not confuse python modules with PyTorch Modules). These implement the `forward()` function which defines how your model handles input and produces an output. Your model class can also have `torch.nn.Module`s as members, allowing nested tree like structures, and it is leveraging this that you are able to build neural networks in PyTorch.   \n",
        "\n",
        "* `torch.nn.Linear`: A unit of computation in neural networks are *Layers* and PyTorch provides abstractions for layers as `nn.Modules`. These come in many forms including *Convolutional*, *Recurrent*, and *Linear*. You can find the API for linear layers here https://pytorch.org/docs/stable/nn.html#linear-layers.\n",
        "\n",
        "**Now use the information provided to define the `OneLayerModel` class below. The superclass constructor has been called for you, and this allows your subclass to access superclass methods and members.**\n",
        "* **Finish the `__init__()` function.**\n",
        "* **Finish the `forward()` function.** (Hint: Use that fact that layer modules implement their own `forward()` function)\n",
        "\n",
        "\n",
        "\n"
      ]
    },
    {
      "metadata": {
        "id": "tPAqKyLDEIaB",
        "colab_type": "code",
        "colab": {}
      },
      "cell_type": "code",
      "source": [
        "from torch import nn\n",
        "class OneLayerModel(nn.Module):\n",
        "    def __init__(self, input_dim, output_dim):\n",
        "        super(OneLayerModel, self).__init__()\n",
        "        ## YOUR CODE HERE ##\n",
        "        \n",
        "        \n",
        "    def forward(self, x):\n",
        "        ## YOUR CODE HERE ##\n",
        "        return"
      ],
      "execution_count": 0,
      "outputs": []
    },
    {
      "metadata": {
        "id": "-VKbJlhVEIaE",
        "colab_type": "text"
      },
      "cell_type": "markdown",
      "source": [
        "#### Loss Functions and Optimizers\n",
        "\n",
        "You've defined your model but now what? It's just a black box that takes an input and spits out some numbers. You haven't yet defined what it means to be a good or bad model. \n",
        "\n",
        "A ***Loss Function*** takes what your model outputs and compares it to what it *should* have put out. It returns some  meaningful value used to update your model parameters, and so train your model. Check out Section 21.2.1 of the textbook for more details about types of loss functions. The Loss function represents the overall goal of building this model, and the choice of loss function is very important. \n",
        "\n",
        "We must examine our model parameters and our problem instance to see about how to choose a loss function.\n",
        "* We take in a 784-dimensional vector and output 10 real values, giving our model 784 x 10 parameters. \n",
        "* It is natural given that our problem is an instance of *multi-class classification* that we would want each of our output values to model `P(y==i|x)`.\n",
        "* If we go this route, we get an added constraint that the sum of all 10 of our output values should be 1 (forming a probability mass distribution).\n",
        "\n",
        "Turns out there is a very convenient loss function for just our use case known as ***cross-entropy loss***. Check out this reference https://ml-cheatsheet.readthedocs.io/en/latest/loss_functions.html#cross-entropy for a little more intuition on this.\n",
        "\n",
        "Once again, PyTorch has abstractions built in for us in the `torch.nn` module, namely `torch.nn.CrossEntropyLoss`. The API can be found at https://pytorch.org/docs/stable/nn.html#crossentropyloss. \n",
        "\n",
        "We're still not ready to train our model because while we have some parameters, and we have some measure of how good or bad our predictions are, we have no notion of how to go about updating our parameters in order to improve our loss. \n",
        "\n",
        "This is where ***Optimizers*** come in. In general, we have one main way of minimizing loss functions (training our models), and that is through *Stochastic Gradient Descent* https://en.wikipedia.org/wiki/Stochastic_gradient_descent. There are many variants and optimizations of this method, however, and the `torch.optim` package gives us abstractions for these. The API can be found at https://pytorch.org/docs/stable/optim.html#."
      ]
    },
    {
      "metadata": {
        "id": "4uS6fPqiEIaF",
        "colab_type": "code",
        "colab": {}
      },
      "cell_type": "code",
      "source": [
        "from torch import optim"
      ],
      "execution_count": 0,
      "outputs": []
    },
    {
      "metadata": {
        "id": "IU5WHtrhEIaP",
        "colab_type": "text"
      },
      "cell_type": "markdown",
      "source": [
        "### Part 3 - Training and Validation (45 points)\n",
        "\n",
        "In this section we will learn how to use the concepts we've learned about so far to train the model we built, and validate how well it does.We also want to monitor how well our training is going while it is happening. \n",
        "\n",
        "For this we can use a package called `tensorboardX`. You will need to install this package using `pip` or `Anaconda`, based on your dev environment. Additionally, we'll want to use a logging module called `tensorboardX.SummaryWriter`. You can consult the API here https://tensorboardx.readthedocs.io/en/latest/tutorial.html. Run the next cell to ensure that all is working well."
      ]
    },
    {
      "metadata": {
        "id": "r8Mtfv5rEIaQ",
        "colab_type": "code",
        "colab": {}
      },
      "cell_type": "code",
      "source": [
        "\"\"\" Try uncommenting these commands if you're facing issues here\n",
        "!pip3 install -U protobuf\n",
        "!pip3 install -U tensorflow\n",
        "!pip3 install -U tensorboardX\n",
        "\"\"\"\n",
        "%load_ext tensorboard.notebook\n",
        "from tensorboardX import SummaryWriter"
      ],
      "execution_count": 0,
      "outputs": []
    },
    {
      "metadata": {
        "id": "WMDXGTc0EIaU",
        "colab_type": "text"
      },
      "cell_type": "markdown",
      "source": [
        "We have provided the code to use `tensorboard` just before calling your `train` function. You don't have to change the top-level log directory, but you can create multiple runs (different parameters or versions of your code) just by creating subdirectories for these within your top-level directory.\n",
        "\n",
        "**Now use the information provided above to do the following:**\n",
        "* ** Instantiate a `OneLayerModel` with the appropriate input/output parameters.**\n",
        "* ** Define a cross-entropy loss function.**\n",
        "* ** Define a stochastic gradient descent optimizer based for you model's parameters. Start with a learning rate of 0.001, and adjust as necessary. You can start with the vanilla `optim.SGD` optimizer, and change it if you wish.** \n",
        "* **Create a `SummaryWriter` object that will be responsible for logging our training progress into a directory called `logs/expt1` (Or whatever you wish your top-level directory to be called).**"
      ]
    },
    {
      "metadata": {
        "id": "yCir8fcaEIaV",
        "colab_type": "code",
        "colab": {}
      },
      "cell_type": "code",
      "source": [
        "## YOUR CODE HERE ##\n",
        "model = None\n",
        "loss = None\n",
        "optimizer = None\n",
        "writer = None"
      ],
      "execution_count": 0,
      "outputs": []
    },
    {
      "metadata": {
        "id": "fVtckkqUEIaX",
        "colab_type": "text"
      },
      "cell_type": "markdown",
      "source": [
        "We've finally come to the point where we need to write our training set up. We're going to use both our training and testing (validation) sets for this. Note that traditionally, you would separate part of your training data into validation data in order to get an unbiased estimate of how your model performs, but here we'll just pretend that our testing data is our validation data. \n",
        "\n",
        "**Training a model with batches of data broadly involves the following steps:**\n",
        "1. **One `epoch` is defined as a full pass of your dataset through your model. We choose the number of epochs we wish to train our model for.**\n",
        "2. **In each epoch, set your model to train mode.** \n",
        "3. **you feed your model `batch_size` examples at a time, and receive `batch_size` number of outputs until you've gotten through your entire dataset.**\n",
        "4. **Calculate the loss function for those outputs given the labels for that batch.**\n",
        "5. **Now calculate the gradients for each model parameter.** (Hint: Your loss function object can do this for you)\n",
        "6. **Update your model parameters** (Hint: The optimizer comes in here)\n",
        "7. **Set the gradients in your model to zero for the next batch.**\n",
        "8. **After each epoch, set your model to evaluation mode.**\n",
        "9. **Now evaluate your model on the validation data. Log the total loss and accuracy over the validation data.** (Note: PyTorch does automatic gradient calculations in the background through its `Autograd` mechanism https://pytorch.org/docs/stable/notes/autograd.html. Make sure to do evaluation in a context where this is turned off!)\n",
        "\n",
        "**Complete the `train()` function below. Try to make it as general as possible, so that it can be used for improved versions of you model. Feel free to define as many helper functions as needed.**\n",
        "**Make sure that you do the following: **\n",
        "* **Log the *training loss* and *training accuracy* on each batch for every epoch, such that it will show up on `tensorboard`.**\n",
        "* **Log the loss on the validation set and the accuracy on the validation set every epoch**\n",
        "\n",
        "**You will need to produce the plots for these.**\n",
        "\n",
        "You may also want to add some print statements in your training function to report progress in this notebook."
      ]
    },
    {
      "metadata": {
        "id": "Nxk1pBa3EIaZ",
        "colab_type": "code",
        "colab": {}
      },
      "cell_type": "code",
      "source": [
        "def train(model, train_loader, val_loader, loss_func, opt,num_epochs=10, writer=None):\n",
        "    pass"
      ],
      "execution_count": 0,
      "outputs": []
    },
    {
      "metadata": {
        "id": "2IYogGB2EIaf",
        "colab_type": "text"
      },
      "cell_type": "markdown",
      "source": [
        "Finally call `train` with the relevant parameters. Run the tensorboard command on your top-level logs directory to monitor training. If there is logging data from a previous run, just delete the directory for the run, and reinstantiate the `SummaryWriter` for that run. (You may want to reinstantiate the model itself if you want to clear the model parameters too).\n",
        "\n",
        "Note : This function may take a while to complete if you're training for many epochs on a cpu. This is where it comes in handy to be running on Google Colab, or just have a GPU on hand. "
      ]
    },
    {
      "metadata": {
        "id": "LIypcR_DEIag",
        "colab_type": "code",
        "colab": {}
      },
      "cell_type": "code",
      "source": [
        "#%tensorboard --logdir=logs\n",
        "train(model, train_loader, test_loader, loss, optimizer, 15, writer)"
      ],
      "execution_count": 0,
      "outputs": []
    },
    {
      "metadata": {
        "id": "pKpoYcxVEIam",
        "colab_type": "text"
      },
      "cell_type": "markdown",
      "source": [
        "__Final Validation Loss:__ *Put Value Here*\n",
        "\n",
        "__Final Validation Accuracy:__ *Put Value Here*"
      ]
    },
    {
      "metadata": {
        "id": "QU2Wia5NEIan",
        "colab_type": "text"
      },
      "cell_type": "markdown",
      "source": [
        "#### What is familiar about a 1-layer neural network with cross-entopy loss? Have you seen this before?"
      ]
    },
    {
      "metadata": {
        "id": "SLwHz0NnEIao",
        "colab_type": "text"
      },
      "cell_type": "markdown",
      "source": [
        "Answer: "
      ]
    },
    {
      "metadata": {
        "id": "Lx9mKPZvEIap",
        "colab_type": "text"
      },
      "cell_type": "markdown",
      "source": [
        "### Part 4 - Two Layer Neural Net (20 points)\n",
        "\n",
        "The thing that makes neural networks really powerful is that they are able to do complex function approximation. As we saw earlier, we can organize the computation done in neural networks into units called *layers*. In a general neural network, there is an *input layer*, and an *output layer*. These may be the same layer as they were in our previous example. When they are not the same, there are intermediate layers known as _hidden layers_. These layers receive input from other layers and send their output to other layers. \n",
        "\n",
        "We have been dealing with a certain type of neural network known as a __fully connected__ network. For our purposes, this just means that the output of the layer is just the dot product of its input `x`, its weights `w` plus a bias term `b`, all wrapped in a non-linear *activation function* `F`.  \n",
        "\n",
        "`y = F(w^T x + b)`.\n",
        "\n",
        "These non-linear activation functions are very important but where in our last neural network did we apply such a function? Implicitly we applied what's known as a __softmax activation__ in order to compute cross-entropy loss https://en.wikipedia.org/wiki/Softmax_function.\n",
        "\n",
        "We'll now try to create a neural network with one hidden layer. This means that we have to come up with an activation function for the output of that hidden layer. A famous, simple but powerful activation function is the __Rectified Linear Unit (ReLU)__ function defined nas `ReLU(x) = max(x,0)`. We will use this on the output of the hidden layer.\n",
        "\n",
        "`torch.nn` has a module known as `nn.Sequential` that allows us to chain together other modules. This module implements a `forward()` function that automatically handles input-output connections etc. Check out the API at https://pytorch.org/docs/stable/nn.html#sequential. \n",
        "\n",
        "**Just like you did with the single layer model, define a class `TwoLayerModel`, a neural network with ReLU activation for the hidden layer. `nn.Sequential` may come in handy.**"
      ]
    },
    {
      "metadata": {
        "id": "csyCDxs8EIar",
        "colab_type": "code",
        "colab": {}
      },
      "cell_type": "code",
      "source": [
        "class TwoLayerModel(nn.Module):\n",
        "    ## YOUR CODE HERE ##\n",
        "    def __init__(self):\n",
        "        pass"
      ],
      "execution_count": 0,
      "outputs": []
    },
    {
      "metadata": {
        "id": "mXDq7Gg3EIau",
        "colab_type": "text"
      },
      "cell_type": "markdown",
      "source": [
        "**Once again use the information provided above to do the following:**\n",
        "* ** Instantiate a `TwoLayerModel` with the appropriate input/output/hidden layer parameters.**\n",
        "* ** Define a cross-entropy loss function again.**\n",
        "* ** Define a stochastic gradient descent optimizer based for you model's parameters. Start with a learning rate of 0.001, and adjust as necessary. You can start with the vanilla `optim.SGD` optimizer, and change it if you wish.** \n",
        "* **Create a `SummaryWriter` object that will be responsible for logging our training progress into a directory called `logs/expt2` (Or whatever you wish your top-level directory to be called, just make sure the subdirectory is different from your previous SummaryWriter).**"
      ]
    },
    {
      "metadata": {
        "id": "suASg8LkEIav",
        "colab_type": "code",
        "colab": {}
      },
      "cell_type": "code",
      "source": [
        "## YOUR CODE HERE ##\n",
        "model2 = None\n",
        "loss2 = None\n",
        "optimizer2 = None\n",
        "writer2 = None"
      ],
      "execution_count": 0,
      "outputs": []
    },
    {
      "metadata": {
        "id": "MRhtOnIUEIay",
        "colab_type": "text"
      },
      "cell_type": "markdown",
      "source": [
        "Call `train` on your two layer neural network."
      ]
    },
    {
      "metadata": {
        "id": "RavrpYvwEIa0",
        "colab_type": "code",
        "colab": {}
      },
      "cell_type": "code",
      "source": [
        "#%tensorboard --logdir=logs\n",
        "train(model2, train_loader, test_loader, loss2, optimizer2, 15, writer2)"
      ],
      "execution_count": 0,
      "outputs": []
    },
    {
      "metadata": {
        "id": "MdxBnT0CEIa3",
        "colab_type": "text"
      },
      "cell_type": "markdown",
      "source": [
        "__Final Validation Loss:__ *Put Value Here*\n",
        "\n",
        "__Final Validation Accuracy:__ *Put Value Here*"
      ]
    },
    {
      "metadata": {
        "id": "YwxyXRZcEIa4",
        "colab_type": "text"
      },
      "cell_type": "markdown",
      "source": [
        "#### Did your accuracy on the validation set improve with multiple layers? Why do you think this is ?\n",
        "\n",
        "Answer: "
      ]
    },
    {
      "metadata": {
        "id": "ze2Mek7LEIa5",
        "colab_type": "text"
      },
      "cell_type": "markdown",
      "source": [
        "### Part 5 - What is being learned at each layer? (10 points)\n",
        "\n",
        "So what exactly are these weights that our network is learning at each layer? By conveniently picking our layer dimensions as perfect square numbers, we can try to visualize the weights learned at each layer as square images. Use the following function to do so for *all interesting layers* across your models. Feel free to modify the function as you wish. \n",
        "\n",
        "**At the very least, you must generate:**\n",
        "1. **The ten 28x28 weight images learned by your one layer model.**\n",
        "2. **The 256 28x28 weight images learned by the hidden layer in your two-layer model.**"
      ]
    },
    {
      "metadata": {
        "id": "PTYzY_jsEIa8",
        "colab_type": "code",
        "colab": {}
      },
      "cell_type": "code",
      "source": [
        "def visualize_layer_weights(model, layer_idx, num_images, image_dim, title):\n",
        "    # Find number of rows and columns based on number of images\n",
        "    for d in range(1,num_images):\n",
        "        f = num_images/d\n",
        "        if int(f)==f:\n",
        "            dim1 = int(min(f,d))\n",
        "            dim2 = int(max(f,d))\n",
        "        if d > f:\n",
        "            break    \n",
        "    # Plot weights as square images\n",
        "    fig, ax  = plt.subplots(dim1, dim2)\n",
        "    \n",
        "    # At least 1 inch by 1 inch images\n",
        "    fig.set_size_inches(dim2, dim1)\n",
        "    weights = (list(model.parameters())[layer_idx])\n",
        "    fig.suptitle(title)\n",
        "    for i in range(dim1):\n",
        "        for j in range(dim2):\n",
        "            ax[i][j].imshow(weights[dim2*i+j].reshape(image_dim,image_dim).detach().numpy(), cmap='gray')"
      ],
      "execution_count": 0,
      "outputs": []
    }
  ]
}